{
 "metadata": {
  "language_info": {
   "codemirror_mode": {
    "name": "ipython",
    "version": 3
   },
   "file_extension": ".py",
   "mimetype": "text/x-python",
   "name": "python",
   "nbconvert_exporter": "python",
   "pygments_lexer": "ipython3",
   "version": "3.8.5-final"
  },
  "orig_nbformat": 2,
  "kernelspec": {
   "name": "python3",
   "display_name": "Python 3",
   "language": "python"
  }
 },
 "nbformat": 4,
 "nbformat_minor": 2,
 "cells": [
  {
   "source": [
    "# Fetch Playlists from Spotify API"
   ],
   "cell_type": "markdown",
   "metadata": {}
  },
  {
   "cell_type": "code",
   "execution_count": 1,
   "metadata": {},
   "outputs": [],
   "source": [
    "import json\n",
    "import spotipy\n",
    "from spotipy.oauth2 import SpotifyClientCredentials\n",
    "from tqdm import tqdm\n",
    "from multiprocessing.pool import ThreadPool"
   ]
  },
  {
   "source": [
    "## Load Data"
   ],
   "cell_type": "markdown",
   "metadata": {}
  },
  {
   "cell_type": "code",
   "execution_count": 2,
   "metadata": {},
   "outputs": [
    {
     "output_type": "stream",
     "name": "stdout",
     "text": [
      "Example: ('italian violin', 'spotify:playlist:6Vf6P26sYyUqljb9e8Jy5b')\n"
     ]
    }
   ],
   "source": [
    "# Load data from spotify links\n",
    "with open('../data/spotify_links.json') as f:\n",
    "    data = json.load(f)\n",
    "    links = list(data.items())\n",
    "\n",
    "# Links consists of tuples of (genre, link)\n",
    "print('Example:', links[0])"
   ]
  },
  {
   "cell_type": "code",
   "execution_count": 3,
   "metadata": {},
   "outputs": [],
   "source": [
    "SPOTIPY_CLIENT_ID = \"f96a1f0e67bf41afa9c09b2da29d8c7c\"\n",
    "SPOTIPY_CLIENT_SECRET = \"3c726b5c74c643de83771882afc67d2f\"\n",
    "\n",
    "spotify = spotipy.Spotify(\n",
    "    client_credentials_manager=SpotifyClientCredentials(SPOTIPY_CLIENT_ID,SPOTIPY_CLIENT_SECRET),\n",
    "    requests_timeout=5)"
   ]
  },
  {
   "cell_type": "code",
   "execution_count": 4,
   "metadata": {},
   "outputs": [],
   "source": [
    "# Fetch playlists by batch\n",
    "\n",
    "def getPlaylist(links, playlists, failures, threadName):\n",
    "    with tqdm(total=len(links), position=1, desc=threadName) as pbar:\n",
    "        for i in range(len(links)):\n",
    "            try:\n",
    "                playlist = spotify.playlist(links[i][1])\n",
    "                playlists.append(playlist)\n",
    "            except:\n",
    "                failures.append(links[i][0])\n",
    "            if(i > 0 and (i+1) % 200 == 0):\n",
    "                pbar.update(500)\n",
    "            elif(i == len(links) - 1):\n",
    "                pbar.update(len(links) % 200)"
   ]
  },
  {
   "cell_type": "code",
   "execution_count": 5,
   "metadata": {},
   "outputs": [],
   "source": [
    "#Divide links into 6 chunks\n",
    "chunk_indices = []\n",
    "\n",
    "for i in range(0, len(links) - len(links) % 1000, 1000):\n",
    "    chunk_indices.append((i, i + 1000))\n",
    "\n",
    "chunk_indices.append((len(links) - len(links) % 1000, len(links)))"
   ]
  },
  {
   "cell_type": "code",
   "execution_count": 9,
   "metadata": {},
   "outputs": [
    {
     "output_type": "stream",
     "name": "stderr",
     "text": [
      "\n",
      "Thread 1:   0%|          | 0/1000 [00:00<?, ?it/s]\u001b[A\n",
      "Thread 2:   0%|          | 0/1000 [00:00<?, ?it/s]\u001b[A\n",
      "Thread 5:   0%|          | 0/1000 [00:00<?, ?it/s]\u001b[A\n",
      "Thread 3:   0%|          | 0/1000 [00:00<?, ?it/s]\u001b[A\n",
      "Thread 6:   0%|          | 0/71 [00:00<?, ?it/s]\u001b[A\n",
      "Thread 4:   0%|          | 0/1000 [00:00<?, ?it/s]\u001b[A\n",
      "Thread 6: 100%|██████████| 71/71 [00:35<00:00,  2.02it/s]\n",
      "\n",
      "Thread 1:  50%|█████     | 500/1000 [01:36<01:36,  5.19it/s]\u001b[A\n",
      "Thread 2:  50%|█████     | 500/1000 [01:37<01:37,  5.14it/s]\u001b[A\n",
      "Thread 4:  50%|█████     | 500/1000 [01:37<01:37,  5.13it/s]\u001b[A\n",
      "Thread 3:  50%|█████     | 500/1000 [01:37<01:37,  5.12it/s]\u001b[A\n",
      "Thread 5:  50%|█████     | 500/1000 [01:43<01:43,  4.85it/s]\u001b[A\n",
      "Thread 2: 100%|██████████| 1000/1000 [03:15<00:00,  5.13it/s]\u001b[A\n",
      "Thread 1: 100%|██████████| 1000/1000 [03:16<00:00,  5.14it/s]\u001b[A\n",
      "Thread 3: 100%|██████████| 1000/1000 [03:16<00:00,  5.11it/s]\u001b[A\n",
      "Thread 4: 100%|██████████| 1000/1000 [03:16<00:00,  5.10it/s]\u001b[A\n",
      "Thread 5: 100%|██████████| 1000/1000 [03:17<00:00,  4.98it/s]\u001b[A\n",
      "Thread 2: 1500it [04:53,  5.12it/s]                          \u001b[A\n",
      "Thread 1: 1500it [04:54,  5.12it/s]                          \u001b[A\n",
      "Thread 3: 1500it [04:55,  5.09it/s]                          \u001b[A\n",
      "Thread 5: 1500it [04:56,  5.00it/s]                          \u001b[A\n",
      "Thread 4: 1500it [04:56,  5.07it/s]                          \u001b[A\n",
      "Thread 2: 2000it [06:26,  5.18it/s]\u001b[A\n",
      "Thread 3: 2000it [06:32,  5.10it/s]\u001b[A\n",
      "Thread 1: 2000it [06:34,  5.09it/s]\u001b[A\n",
      "Thread 5: 2000it [06:36,  5.00it/s]\u001b[A\n",
      "Thread 4: 2000it [06:36,  5.05it/s]\u001b[A\n",
      "Thread 2: 2500it [08:06,  5.14it/s]\n",
      "\n",
      "Thread 3: 2500it [08:07,  5.13it/s]\n",
      "\n",
      "Thread 1: 2500it [08:12,  5.07it/s]\n",
      "\n",
      "Thread 5: 2500it [08:15,  5.05it/s]\n",
      "\n",
      "Thread 4: 2500it [08:16,  5.04it/s]\n"
     ]
    }
   ],
   "source": [
    "#Create a list of the playlists\n",
    "playlists = []\n",
    "failures = []\n",
    "\n",
    "#Begin thread pool\n",
    "pool = ThreadPool(len(chunk_indices))\n",
    "\n",
    "#Thread creations, each thread runs on a chunk of links\n",
    "for t in range(len(chunk_indices)):\n",
    "    pool.apply_async(getPlaylist, args=(links[chunk_indices[t][0]: chunk_indices[t][1]], playlists, failures, \"Thread {}\".format(t+1)))\n",
    "\n",
    "#Start the threads in pool\n",
    "pool.close()\n",
    "pool.join()\n",
    "\n",
    "#Takes about 8 minutes"
   ]
  },
  {
   "cell_type": "code",
   "execution_count": 10,
   "metadata": {},
   "outputs": [],
   "source": [
    "## Format and save playlists to json\n",
    "newPlaylists = []\n",
    "failedPlaylists = []\n",
    "\n",
    "for i, pl in enumerate(playlists):\n",
    "    try:\n",
    "        newData = dict()\n",
    "        newData['name'] = pl['name']\n",
    "        newData['genre'] = links[i][0]\n",
    "        newData['uri'] = links[i][1]\n",
    "        newData['num_tracks'] = len(pl['tracks']['items'])\n",
    "        newData['tracks'] =  []\n",
    "        for item in pl['tracks']['items']:\n",
    "            newTrack = dict()\n",
    "            newTrack['artists'] = item['track']['artists']\n",
    "            newTrack['name'] = item['track']['name']\n",
    "            newTrack['uri'] = item['track']['uri']\n",
    "            newData['tracks'].append(newTrack)\n",
    "        newPlaylists.append(newData)      \n",
    "        if (i + 1) % 200 == 0:\n",
    "            begin = (i + 1) - 200\n",
    "            with open('../data/genre_playlists/playlists.{}-{}.json'.format(begin, i), 'w') as outfile:\n",
    "                json.dump(newPlaylists, outfile, indent=4)\n",
    "            newPlaylists = []\n",
    "        elif i == len(playlists) - 1:\n",
    "            begin = i - (i + 1) % 200\n",
    "            with open('../data/genre_playlists/playlists.{}-{}.json'.format(begin, i), 'w') as outfile:\n",
    "                json.dump(newPlaylists, outfile, indent=4)\n",
    "            newPlaylists = []\n",
    "    except:\n",
    "        failedPlaylists.append(i)"
   ]
  },
  {
   "cell_type": "code",
   "execution_count": 11,
   "metadata": {},
   "outputs": [
    {
     "output_type": "stream",
     "name": "stdout",
     "text": [
      "Fetch failures: []\nPlaylists that failed to format: [49, 332, 386, 1148, 1210, 1266, 1477, 1638, 1695, 1704, 1912, 2072, 2158, 2330, 2461, 2597, 3081, 3177, 3338, 3433, 3558, 3603, 3668, 3858, 4111, 4118, 4223, 4252, 4311, 4608, 4618, 4708, 4755, 5012, 5028, 5033]\nTotal playlists failed to format: 36\n"
     ]
    }
   ],
   "source": [
    "print('Fetch failures:', failures)\n",
    "print('Playlists that failed to format:', failedPlaylists)\n",
    "print('Total playlists failed to format:', len(failedPlaylists))"
   ]
  },
  {
   "cell_type": "code",
   "execution_count": null,
   "metadata": {},
   "outputs": [],
   "source": []
  }
 ]
}