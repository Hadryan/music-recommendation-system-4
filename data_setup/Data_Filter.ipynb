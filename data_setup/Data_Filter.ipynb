{
 "cells": [
  {
   "cell_type": "code",
   "execution_count": 1,
   "metadata": {},
   "outputs": [],
   "source": [
    "import json\n",
    "from pathlib import Path\n",
    "\n",
    "from operator import itemgetter\n",
    "from itertools import islice\n",
    "\n",
    "###For TESTING\n",
    "import copy "
   ]
  },
  {
   "cell_type": "markdown",
   "metadata": {},
   "source": [
    "## Open and Read Dataset\n",
    "\n",
    "Data Paths- How to read files from different path.\n",
    "\n",
    "https://medium.com/@ageitgey/python-3-quick-tip-the-easy-way-to-deal-with-file-paths-on-windows-mac-and-linux-11a072b58d5f"
   ]
  },
  {
   "cell_type": "code",
   "execution_count": 2,
   "metadata": {},
   "outputs": [],
   "source": [
    "data_folder = Path(\"../data/data/\")\n",
    "\n",
    "file_to_open = data_folder / \"mpd.slice.0-999.json\"\n",
    "\n",
    "with open(file_to_open) as f:\n",
    "    data = json.load(f)"
   ]
  },
  {
   "cell_type": "code",
   "execution_count": 3,
   "metadata": {},
   "outputs": [],
   "source": [
    "def countOfPlaylists(data):\n",
    "    return len(data['playlists'])"
   ]
  },
  {
   "cell_type": "code",
   "execution_count": 4,
   "metadata": {
    "tags": []
   },
   "outputs": [
    {
     "output_type": "stream",
     "name": "stdout",
     "text": [
      "Count: 1000\n['Throwbacks', 'Awesome Playlist', 'korean ', 'mat', '90s', 'Wedding', 'I Put A Spell On You', '2017', 'BOP', 'old country ', 'abby ', 'VIBE', 'relax', 'sleep', \"90's \", 'New Songs', 'slow hands', \"Mom's playlist\", 'SARAH', 'melancholy', 'mixtape', 'Sad Songs', \"fall '17\", '✔️', 'Twenty one pilots', 'run it', 'Winter 2014', 'smooth ', 'Yeet', 'groovy', 'Garage Rock', 'Running 2.0', 'acoustic', 'morning', 'good good', 'Good Vibes', ' indie rock', 'Hits', 'tb', 'Country', '2020', 'Belters', \"Road Trippin'\", 'Country', 'taylor swift', 'angst', 'Running 2', 'Spring 2016', 'Country', 'Gospel', 'SB', 'Kevin', 'Christmas', 'NB', 'Smooth Jazz', 'Tennessee ', 'funky', 'spring 16', 'Gates', 'Favorite Songs', 'Ski', 'Country', 'hype', 'Awesome Mix', 'Elizabeth', 'PlayStation', 'Ashley', 'chill', 'xx', 'art class', 'Random Tunes', 'boat', 'spanish jams', 'new', 'CR', 'Run!!', \"winter '17\", 'Workout', 'Traps ', 'Dope', 'Chill', 'rap', 'Gospel', 'Florida', 'Workout2', 'Gym', 'Zoned', 'relax', 'KPOP', \"80's\", 'For the Road', 'R & B', 'Tom Petty', 'Catchy Songs', 'relax', 'roadtrippin', 'christmas', '2012', 'Dave', 'bang bang. ', 'Disneyland', '#boostyourrun', 'LUV', 'latin', 'JAMS', '~Rando~', 'Party Rock!!', 'party people', 'The Piano Guys', 'Worship', 'Brasileiras', 'country', '4/20', '2016', 'Willie', 'beach', 'Gold Digger', 'Fall 2015', 'dance it out', 'greek', 'All the songs', 'Kyle', 'HALLOWEEN', 'w o r k o u t', 'party music', 'summer', 'XXXMas', 'BBG', 'bae', 'oldies', 'its lit', 'go to', \"Killin' It\", 'October 2017', 'Rap/Pop', \"1990's \", 'Rap', 'GUACAMOLE', '14', 'That New New', 'Relaxing', 'sleep', 'Get It!', 'bumps', 'picks', '🤘🏼', 'Mashup', 'Ladies', 'Alt Jams', 'Reggae/Ska', 'Top hits', 'jazzy ', 'Pop', 'Emotional', 'Fall', 'ouch', 'Love Music', 'Bang Bang ', 'Solitude', 'feels', 'Silence', 'English ', 'Blues', 'pump', 'volleyball playlist ', 'september ', 'motown', 'folky', 'Rock alternativo', 'Summer Chill', 'Rap Classics', 'My favs', 'motivational ', 'Up Beat', 'Wes Anderson', 'Love', 'basic', 'Another', 'LIT!!!!!!!', 'YEET', '🤤🤤', 'Summer Playlist', 'high', 'Music', 'Chill Alternative', 'feelz', 'Alexia', 'Mellow.', 'Britt', 'Christian Songs', 'Kendrick Lamar ', 'jesus jams', 'Daddy Issues', '🔥🔥🔥🔥', 'sb2k17', 'Dance', '2013', 'Spring16', 'soul', 'Best Songs of 2016', 'Ladies', 'Love ', 'Cash', '#Workout', 'guitar.', 'running ', 'Shower', 'Saturn', 'Christmas music', 'Bus playlist', 'Xmas', 'My music', 'Latino', 'Mumford & Sons', 'This Is What You Came For', 'On the Run', 'Prayer', 'my country', 'party playlist', 'Funky', 'Musicals', 'Relax', 'Wedding', 'classics', 'Peace', 'Volleyball', 'Madness', 'ride', 'before my time', 'reggae', 'Summer of love', 'Everything', 'Hits', 'shower ', 'RUNNIN', 'My happy place', '90s hits', 'Old songs', 'Korean', 'Go to ', 'Way Up', 'Tegan and Sara', 'Atlas', 'Elisa', 'Country', '90s', 'eurotrip', 'Mine', 'Christmas 2016', 'Summer', 'TBT', 'beachy', 'country', 'Drank', 'Trip', 'Christmas Mix', 'TOP', 'rap god', '#Relaxed', 'blue grass', 'brad paisley ', 'summer16', 'throwback', 'love', 'DA', 'SUMMER 2k17', 'Awesome mix vol. 1', 'POP', 'Road Trip Mix', 'Indie', 'Corridos', 'Mr. Brightside', 'shower', 'workout', 'old people', 'FUN', '😍😍', 'Hockey', 'dank memes', '🎵🎵', 'Legendary', 'mayer', 'Game Time', 'car tunes', 'lit', 'wrap', 'Chris', 'chill beats', 'kpop', 'mix', 'Blackout', 'country ', 'Disney', 'CHRISTMASSSSS', 'Aux', 'best christmas', 'Worship ', 'broadway', 'Vibe', 'Say My Name', 'car playlist', \"Music From Baz Luhrmann's Film The Great Gatsby\", 'deep', 'Tame Impala', '<3', 'Running', 'mixtape', 'rawr', 'lit songs ', 'upbeat', 'Good Day', 'AAA', 'Line Dances ', 'Spanish', 'randoms', 'Alright', \"Feelin' Myself\", 'RAP', 'Covers', 'Acoustic', 'chill', 'bruno mars', 'stream', 'mix ', 'Me Like', 'Disney Jams', 'family', 'Walking on Sunshine', 'country', 'trap', 'electronic', 'The Drive', 'Julion alvarez', 'studying music', '90s alternative', 'Litty ', 'oldies but goodies ', 'More Songs', '((chris))', 'Worship', '🇲🇽🇲🇽🇲🇽', '( ͡° ͜ʖ ͡°)', 'Dance mix', 'classic ', 'oldies', 'NEW', 'Chill music ', 'karaoke.', '⚡️⚡️⚡️', 'Road', 'Latin Trap', 'Cali', 'frenchy', 'Thinking', 'Cruisin', 'throw backs', '2017', 'boris', 'Meow', 'old songs ', 'pg', 'Breezeblocks', 'Favorite Songs', 'Classic Rock', 'Pregame', 'Chill Rock', 'High', 'Guilty pleasure', 'Everyday', 'Salsa clasica', 'CHRISTMAS', 'quiet', 'TRIPPIn', 'happy', 'oldies', 'Chill', 'Studying', 'Classic', 'country', 'Autumnal ', 'Throwbacks ', 'Traveling', 'spin', 'country 2017', '*** good stuff', 'LM', 'Chill', 'sad', 'Party time', 'mb', 'Samba', 'tears.', 'Go To', 'Friday afternoon...', 'songs that make me think of you ', 'Congratulations', 'Party', 'Random', 'Comedy', 'RAVE', 'summer 2015', 'GET DOWN', 'JAZZ', 'Hype', '⚡️', 'in my feels', \"90's\", 'Piano Music', 'workout mix', '90s hip hop', 'Metal', 'ashley', 'Country', 'Sweat.It.Out.', \"early 2000's\", 'Get pumped ', 'West Coast Swing', 'Rock', 'june', 'Roadtrip', 'Smooth', '1967', 'Old School', 'New', 'WORSHIP', 'Phone', 'yo', 'PT', 'car rides', 'Music.', 'Rent', 'Feels', 'goldie', 'Sad songs', 'DIEGO$', 'New years', 'Driving', 'April', 'OD', 'housewarming', 'car', 'chill out', 'rap mix', 'Kickin it', 'Chill Out', '90s baby', 'Oldies', 'Classical', 'My favorites', 'Hyphy', 'Pump up songs', 'Beautiful Things', 'dance', 'my heart', 'issa playlist', 'Party', 'Country', 'roma', 'Intro', 'Dusk', 'slow', 'BUST A MOVE', 'Current jams', 'Fallout', '2017', 'Punk', 'Homework', '000', 'Good Times', 'new stuff', \"It's Christmas Time!\", 'AA', 'Chill Sesh', 'SPRANG', 'Greatest Hits', 'elevator music', 'YOU', 'Reggaeton', 'Long Car Rides', 'Country favorites', 'Chill Out Music', 'Good songs', 'hip hop', 'vibes', 'INDY', \"90's\", 'ODESZA', 'Good stuff', 'CHRISTMAS MUSIC', 'Isis', 'My baby', 'Melting Pot', 'Eminem ', 'Zombies', 'Mega Chill', 'OOOUUU', 'songs to sing in the shower', 'Narcos', 'modern rock', 'Wedding Dance Party', 'oldies', 'regaton ', 'tbd', 'Instrumental', 'Old School ', 'joSe :)', '💃🏽', 'Feels', 'favs rn', 'Chill Songs', 'feels', '😻😻', 'Somber', 'Sunrise', 'Mix Tape', 'FNAF', 'smooth jams', 'Best EDM', 'Worship', 'hitS', '😭😭', 'music', 'Upbeat Songs ', 'HOOD', 'poop', 'Tejano', 'Cinco De Mayo', 'Tripping', 'New School', 'now', 'Electronic Music', \"2000's \", 'Sleep', 'mix', 'New Music', 'halcyon', 'Wedding Cocktail Hour', 'chill  ', \"february '17\", 'July 2013', 'Musica en español', 'SpRiNg BrEaK', \"vibin'\", 'Rock', 'vibes', 'Tropical', 'pregame', 'whatever', 'Mix Tape', 'Thug', 'Winter', 'Sleep~', 'Country', 'Reggae', 'Vibin', 'older songs', 'Crossfit', 'Work', 'Black', '💛💛', 'Summer Party', 'chillen', 'Country summer', 'Top Hits', 'cheese', 'Country', 'Wedding', '14', 'NICOLE', 'Relaxing Music', 'run', 'Disney!', 'bounce', 'Calming Music', 'kayla', 'Party mix', 'wake up', 'sound', 'sad', 'Mya', 'rock', 'main playlist', 'doo wop', 'nite', 'Main', '🖕🏻', 'Wandering', 'Current', 'Wedding Dance Music', 'rap', \"Vibin'\", 'dad songs', '2015', 'PARTY PLAYLIST', 'bomb', \"spring '17\", 'maY!', 'Baby Making', 'ale', 'Sunny Days', 'Stuff', 'Up', 'Happy Happy Happy', \"Don't\", 'Lent', 'turn up', 'Country', 'Songs I Like', 'Spring 2015', 'classic rock', '70/80', 'Oldies', 'summer 17', 'Wedding Songs', 'indie rock ', 'Sierreño', 'study', 'Random', 'Christmastime', 'random songs', 'party', 'workout', 'mine', 'take me back', 'ROAR', 'old', 'teenage angst', 'Wave', 'Mixtape', '80s', '//new', 'house', 'ol skool', 'music', 'ROCK🎸', 'Workout', 'go-to', 'Classic', 'Various Artists – Majestic Casual - Chapter I', 'Grind', 'America', 'sleep', 'rap', 'VACATION', 'christmas', 'Dubstep', 'Pop', 'Gym', 'Mia', 'Musica', 'Australia Day', 'Slay', 'II', 'Arab', 'Take Me Back', 'Christmas Time', 'feel good', '😈😈😈', 'Rock', 'Lifting ', 'Panda', 'Car Party', 'discovered', '2000s hits', 'Workout', 'recommendations !! ', 'eclipse', 'classical', 'Feel Good', 'summer 2k17', 'cake ', 'lean', 'Chill', \"Say You Won't Let Go\", 'Deep Thoughts', 'Dinner Party', 'Clubbin', 'For You', 'tb', 'Blues', 'Country Favorites', 'Work', 'twenty sixteen', 'Life ', 'Waltz', 'uhhhh', 'Throwback', 'Cinderella', '😍😍😍', 'My Musics', 'Dark Side', 'Club', 'december', 'chill time', 'PARTY ', 'three', 'Alternativo ', 'Partay', 'rock songs', 'Lulu', 'Amy', 'Old songs ', 'Wedding Cocktail Hour', 'ALT', 'Drake', 'Wedding', 'MY FAV', 'party', 'pop', 'winter', 'my favorite songs', 'yoga', 'classic', 'Cody', 'raw', 'Band Music', 'Rave', 'Throwbacks', 'Swing', 'CARDIO', 'PARTY 1', 'throwback', 'running', 'Wet Dreamz', 'roadtrip 🚗', 'Feels', 'dubstep', 'Rock en español ', 'summer country', 'Pop', 'lit', 'Best of 2016', 'country', 'rap', '2000s r&b', 'my songs ', 'Not Rap', 'fuego', 'spanish ', 'Best', 'will', 'Chill', 'Holiday Party', 'New ish', 'Running', 'Mad Men', 'EBM', '2000s', 'Disney', 'Buena Vista Social Club', 'Summer 2016', 'xmas party', 'for you', 'Luke', 'L O V E ', 'Summer Country', 'kitchen', 'Yeah', 'Britney', 'ghetto', 'HARDCORE WORKOUT', '#mood', 'Gospel Mix', 'Turnt', 'GOOD MUSIC ', 'Tangled', 'music', 'The Mix', 'Fun', 'Elliot', 'summer 2016', 'Classical favorites', 'no', '4th of july', 'Sugar', 'vibin', 'ha', 'christmas', 'electro', '00s', 'Rage', 'New jams', 'Main Playlist', 'Christmas', 'Cruising', 'Girl Power', 'Summer 2016', 'Baes', 'ATL', 'Soulful  ', '😴😴', 'Country', 'Pitch Perfect', 'feels', 'siesta', 'Shape of You', 'Country', 'Workout', 'mellow', 'Helene', 'Christian music', 'Runaway', 'work music', 'Country', 'Good Stuff', 'car playlist ', '2K14', 'Summer drives', '💸💸', 'Country', 'road trip ', 'musicals', 'Throwback', 'ease ~', 'Groovy', 'WORKOUT', 'Easy Listening ', 'Cancun', 'Star Wars', ' CHiLl', 'jan 2015', 'feel good', 'explicit', 'Broadway Baby', 'Worship', 'pregame', 'Hawaii', 'Roadtrip', '.jams.', 'The Classics', 'Heat', 'My hits', 'Fix You', 'I workout!', 'Disney', 'everything', 'boujee', 'Country Mix', 'bird', 'Camp', 'rap', 'Deb', 'christmas', '2016', 'nostalgia', 'english', 'empty', 'The Good Stuff', 'Local', 'chill', 'Lit🔥🔥', 'Indie Stuff', 'chill', ' Frozen', 'HER', 'Gospel', 'songs to dance to', 'study', \"summer 16'\", 'Hungover', 'work', 'Christmas Favorites', 'mood music', 'good vibes', 'I like these songs', 'Cha Cha', 'Worship', 'PURPLE', 'April 2016', 'My Heart', 'recovery', 'space jams', 'bored', 'Volleyball', 'Mixed', 'Jammin', 'Chidas', 'ELECTRONICAS', 'new new', 'Country', 'Working Out', 'EDC', 'run 2', 'Office', 'Songs I Love', 'SEPTEMBER 2017', 'BUMP', 'Reception', 'Old Rock', 'Edward Sharpe & The Magnetic Zeros', 'Two', 'Good music ', \"1980's\", 'Country', 'playlist', 'Throwbacks', 'Classic Country', 'Thuggin', 'trending', 'Relax', 'My High-Intensity Workout', 'Sundays', 'sunday', 'Oldies', 'dance yrself clean', 'Sleep Music', 'DISCOVER', 'Lit', 'old but good', 'Awesome', 'Pump up', 'BEST SONGS EVER', 'old school', 'PARTY', 'dance', 'Alternative', 'Rock', \"Summer '16\", 'Pearl Jam', 'petrichor', 'LITT ', 'Rock', 'Baby shower', 'beautiful', 'mine', \"John's Playlist\", 'rock', 'Oldies', 'vibin', 'Move', 'Seduction', 'Fire', 'halloweenie', 'Reception', 'Love', 'Rock', 'Worship', 'hayley', 'Inspiration', '<3', 'Playlist', '2k17', 'R&B classics', 'Fall 2015', 'hoe anthems', 'the mix', \"summer '17\", 'nashville', 'Christmas songs ', 'jamz', 'Summer 2016', 'stuff', 'The Greatest', '#chill', 'country', 'country ', 'Classical', 'disney bops', 'top down', 'Rap Songs', 'Chillout ', 'Gospel', 'MERICA', 'Dubstep ', 'KILLA', 'hey', 'mello', 'spanish', 'death', 'Marshall ', 'Summer 2014', 'Rap it up', 'Slow Stuff', 'flow', 'Maui', 'Lit af', 'Neo', 'summer playlist', 'Dancehall', 'new', 'Gym', 'Chill', 'nc', '2pac', 'Pump up', 'Party Playlist', 'New Music', 'Dancing on my own', 'New', 'David', 'Michelle ', 'Bad and Boujee', 'R&B', '🌈🌈🌈', 'FALL 2013', 'old', 'Daze', 'rap', 'Country', 'thinking of you']\n"
     ]
    }
   ],
   "source": [
    "print(\"Count:\", countOfPlaylists(data))    \n",
    "\n",
    "playlistNames = [pl['name'] for pl in data['playlists']]\n",
    "print(playlistNames)"
   ]
  },
  {
   "cell_type": "markdown",
   "metadata": {},
   "source": [
    "# Data Filter:\n",
    "1. Remove if there are less than 10 songs in the playlist\n",
    "2. Tracks occurring in less than 3 playlists are discarded.\n",
    "3. Playlists with the less than 30% of tracks left after this are also removed. \n",
    "\n",
    "All duplicate tracks from playlists are removed. And finally, only playlists with lengths in\n",
    "the range [10-5000] are retained and the rest are discarded. This leaves us with a total of 745,543 unique playlists and\n",
    "2,470,756 unique tracks and 2680 unique genres."
   ]
  },
  {
   "cell_type": "code",
   "execution_count": 5,
   "metadata": {},
   "outputs": [],
   "source": [
    "test = copy.deepcopy(data)"
   ]
  },
  {
   "cell_type": "markdown",
   "metadata": {},
   "source": [
    "## 1. Remove if there are less than 10 songs in the playlist"
   ]
  },
  {
   "cell_type": "code",
   "execution_count": 6,
   "metadata": {},
   "outputs": [],
   "source": [
    "#Remove playlist if there are less than the minimum amount of songs in it\n",
    "def delSmallPlaylist(data, minimum):\n",
    "    data['playlists'] = list(filter(lambda playlist: playlist['num_tracks'] >= minimum, data['playlists']))\n",
    "        "
   ]
  },
  {
   "cell_type": "code",
   "execution_count": 7,
   "metadata": {
    "tags": []
   },
   "outputs": [
    {
     "output_type": "stream",
     "name": "stdout",
     "text": [
      "Data Count: 1000\nCopy Count: 1000\nData Count: 1000\nCopy Count: 1000\n"
     ]
    }
   ],
   "source": [
    "#Remove if less than 10 songs in the playlist:\n",
    "\n",
    "print(\"Data Count:\", countOfPlaylists(data))   \n",
    "print(\"Copy Count:\", countOfPlaylists(test))   \n",
    "\n",
    "# delSmallPlaylist(test,10)\n",
    "\n",
    "print(\"Data Count:\", countOfPlaylists(data))   \n",
    "print(\"Copy Count:\", countOfPlaylists(test))  "
   ]
  },
  {
   "cell_type": "markdown",
   "metadata": {},
   "source": [
    "## 2a. Get All tracks from all playlists and their frequency \n",
    "## listOfTracks = [track, artist, frequency] "
   ]
  },
  {
   "cell_type": "code",
   "execution_count": null,
   "metadata": {
    "tags": []
   },
   "outputs": [],
   "source": [
    "#Get All tracks from all playlists and their frequency [track, artist, frequency] \n",
    "\n",
    "#Creates a dictionary in which (track, artist) tuples are keys and frequencies are values\n",
    "dictTracks = dict()\n",
    "totalSongCount = 0\n",
    "for playlist in test['playlists']:\n",
    "    for track in playlist['tracks']:\n",
    "        totalSongCount += 1\n",
    "        key = (track['track_name'], track['artist_name'])\n",
    "        if key not in dictTracks:\n",
    "            dictTracks[key] = 1\n",
    "        else:\n",
    "            dictTracks[key] = dictTracks[key] + 1\n",
    "\n",
    "for key in dictTracks:\n",
    "    print(key, ':', dictTracks[key])"
   ]
  },
  {
   "cell_type": "code",
   "execution_count": 9,
   "metadata": {},
   "outputs": [
    {
     "output_type": "stream",
     "name": "stdout",
     "text": [
      "Total Amount of Tracks: 67503\n"
     ]
    }
   ],
   "source": [
    "print(\"Total Amount of Tracks:\", totalSongCount)"
   ]
  },
  {
   "cell_type": "markdown",
   "metadata": {},
   "source": [
    "## 2b. Tracks occurring in less than 3 playlists are discarded."
   ]
  },
  {
   "cell_type": "code",
   "execution_count": 10,
   "metadata": {
    "tags": []
   },
   "outputs": [
    {
     "output_type": "stream",
     "name": "stdout",
     "text": [
      "Number of tracks to delete: 33183\nNumber of unique tracks to delete: 28884\nNumber of tracks actually deleted: 33183\nNumber of playlists deleted: 353\n"
     ]
    }
   ],
   "source": [
    "#Check every playlist for unique tracks(tracks under 3 frequency) and \"deletes\" them\n",
    "#If the playlist results in less than 30% of its original size or less than 10 tracks\n",
    "#                   -> delete the playlist too\n",
    "\n",
    "#Get tracks that have frequencies under 3\n",
    "removeTracks = dict(filter(lambda x: x[1] < 3, dictTracks.items()))\n",
    "\n",
    "numToDel = sum([removeTracks[k] for k in removeTracks])\n",
    "numToDelUni = len(removeTracks)\n",
    "\n",
    "print('Number of tracks to delete:', numToDel)\n",
    "print('Number of unique tracks to delete:', numToDelUni)\n",
    "\n",
    "tracksToDel = set(removeTracks)\n",
    "actualDel = 0\n",
    "playlistsDel = 0\n",
    "playlistsToDel = set()\n",
    "\n",
    "#Iterates through the playlists to delete tracks under 3 frequency\n",
    "#Pushes the playlist pid to playlistsToDel if the new playlist needs to be deleted\n",
    "for playlist in test['playlists']:\n",
    "    playlist['tracks'] = list(filter(lambda track: \\\n",
    "        (track['track_name'], track['artist_name']) not in tracksToDel, playlist['tracks']))\n",
    "\n",
    "    newNumTracks = len(playlist['tracks'])\n",
    "    origNumTracks = playlist['num_tracks']\n",
    "    actualDel += origNumTracks - newNumTracks\n",
    "    playlist['num_tracks'] = newNumTracks\n",
    "\n",
    "    if newNumTracks < 10 or newNumTracks < round(origNumTracks * .3) or newNumTracks > 5000:\n",
    "        playlistsDel += 1\n",
    "        playlistsToDel.add(playlist['pid'])\n",
    "\n",
    "#Delete playlists based on playlistsToDel\n",
    "test['playlists'] = list(filter(lambda playlist: playlist['pid'] not in playlistsToDel, test['playlists']))\n",
    "\n",
    "print('Number of tracks actually deleted:', actualDel)\n",
    "print('Number of playlists deleted:', len(playlistsToDel))"
   ]
  },
  {
   "cell_type": "code",
   "execution_count": 11,
   "metadata": {
    "tags": []
   },
   "outputs": [
    {
     "output_type": "stream",
     "name": "stdout",
     "text": [
      "Count: 1000\nCount: 647\n"
     ]
    }
   ],
   "source": [
    "print(\"Count:\", countOfPlaylists(data))   \n",
    "print(\"Count:\", countOfPlaylists(test))  \n"
   ]
  },
  {
   "cell_type": "code",
   "execution_count": null,
   "metadata": {},
   "outputs": [],
   "source": []
  }
 ],
 "metadata": {
  "kernelspec": {
   "display_name": "Python 3",
   "language": "python",
   "name": "python3"
  },
  "language_info": {
   "codemirror_mode": {
    "name": "ipython",
    "version": 3
   },
   "file_extension": ".py",
   "mimetype": "text/x-python",
   "name": "python",
   "nbconvert_exporter": "python",
   "pygments_lexer": "ipython3",
   "version": "3.8.5-final"
  }
 },
 "nbformat": 4,
 "nbformat_minor": 4
}