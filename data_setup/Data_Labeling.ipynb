{
 "metadata": {
  "language_info": {
   "codemirror_mode": {
    "name": "ipython",
    "version": 3
   },
   "file_extension": ".py",
   "mimetype": "text/x-python",
   "name": "python",
   "nbconvert_exporter": "python",
   "pygments_lexer": "ipython3",
   "version": "3.8.5-final"
  },
  "orig_nbformat": 2,
  "kernelspec": {
   "name": "python3",
   "display_name": "Python 3",
   "language": "python"
  }
 },
 "nbformat": 4,
 "nbformat_minor": 2,
 "cells": [
  {
   "cell_type": "code",
   "execution_count": 1,
   "metadata": {},
   "outputs": [],
   "source": [
    "import json\n",
    "from pathlib import Path\n",
    "from operator import itemgetter\n",
    "import pandas as pd\n",
    "\n",
    "###For TESTING\n",
    "import copy \n",
    "\n",
    "from gensim.models import Word2Vec"
   ]
  },
  {
   "source": [
    "## Read and Load Data"
   ],
   "cell_type": "markdown",
   "metadata": {}
  },
  {
   "cell_type": "code",
   "execution_count": 2,
   "metadata": {},
   "outputs": [],
   "source": [
    "data_folder = Path(\"../data/genre_playlists/\").glob('**/*')\n",
    "files = [x for x in data_folder if x.is_file()]"
   ]
  },
  {
   "source": [
    "## Prepare data for Word2Vec Model\n",
    "\n",
    "\n",
    "https://machinelearningmastery.com/develop-word-embeddings-python-gensim/  \n",
    "\n",
    "Documentation  \n",
    "https://radimrehurek.com/gensim/models/word2vec.html#gensim.models.word2vec.Word2Vec"
   ],
   "cell_type": "markdown",
   "metadata": {}
  },
  {
   "cell_type": "code",
   "execution_count": 3,
   "metadata": {},
   "outputs": [],
   "source": [
    "#Get arrays of [song name, playlist genre] from playlist. \n",
    "def getTrackGenres(playlist, corpus):\n",
    "    for track in playlist['tracks']:\n",
    "        track_info = [track['name'], playlist['genre']]\n",
    "        corpus.append(track_info)\n",
    "    "
   ]
  },
  {
   "cell_type": "code",
   "execution_count": 4,
   "metadata": {},
   "outputs": [
    {
     "output_type": "stream",
     "name": "stdout",
     "text": [
      "Finished Reading file  1  | Tracks Added: 19193\n",
      "Finished Reading file  2  | Tracks Added: 38931\n",
      "Finished Reading file  3  | Tracks Added: 58486\n",
      "Finished Reading file  4  | Tracks Added: 78091\n",
      "Finished Reading file  5  | Tracks Added: 97594\n",
      "Finished Reading file  6  | Tracks Added: 117261\n",
      "Finished Reading file  7  | Tracks Added: 135716\n",
      "Finished Reading file  8  | Tracks Added: 155193\n",
      "Finished Reading file  9  | Tracks Added: 174794\n",
      "Finished Reading file  10  | Tracks Added: 194417\n",
      "Finished Reading file  11  | Tracks Added: 214047\n",
      "Finished Reading file  12  | Tracks Added: 233793\n",
      "Finished Reading file  13  | Tracks Added: 253272\n",
      "Finished Reading file  14  | Tracks Added: 272670\n",
      "Finished Reading file  15  | Tracks Added: 292022\n",
      "Finished Reading file  16  | Tracks Added: 311444\n",
      "Finished Reading file  17  | Tracks Added: 330957\n",
      "Finished Reading file  18  | Tracks Added: 350559\n",
      "Finished Reading file  19  | Tracks Added: 369807\n",
      "Finished Reading file  20  | Tracks Added: 389039\n",
      "Finished Reading file  21  | Tracks Added: 408332\n",
      "Finished Reading file  22  | Tracks Added: 427599\n",
      "Finished Reading file  23  | Tracks Added: 446436\n",
      "Finished Reading file  24  | Tracks Added: 453354\n",
      "Finished Reading file  25  | Tracks Added: 473105\n",
      "Finished Reading file  26  | Tracks Added: 492861\n",
      "CPU times: user 3.28 s, sys: 344 ms, total: 3.62 s\n",
      "Wall time: 3.64 s\n"
     ]
    }
   ],
   "source": [
    "%%time\n",
    "\n",
    "#Create a list of [song name, playlist genre] arrays\n",
    "corpus = []\n",
    "totalTracks = 0\n",
    "totalPlaylists = 0\n",
    "\n",
    "#Read files and update corpus with song info\n",
    "for i, file in enumerate(files):\n",
    "    with open(file) as f:\n",
    "        data = json.load(f)\n",
    "        for playlist in data:\n",
    "            getTrackGenres(playlist, corpus)\n",
    "            totalTracks += playlist['num_tracks']\n",
    "            totalPlaylists += 1\n",
    "    print(\"Finished Reading file \", i+1, \" | Tracks Added:\", totalTracks)\n"
   ]
  },
  {
   "cell_type": "code",
   "execution_count": 5,
   "metadata": {},
   "outputs": [
    {
     "output_type": "stream",
     "name": "stdout",
     "text": [
      "Total \"words\" in corpus: 492861\nTotal playlists: 5035\n"
     ]
    }
   ],
   "source": [
    "# print(corpus[:20])\n",
    "print('Total \"words\" in corpus:', len(corpus))\n",
    "print('Total playlists:', totalPlaylists)"
   ]
  },
  {
   "source": [
    "## Word2Vec Model"
   ],
   "cell_type": "markdown",
   "metadata": {}
  },
  {
   "cell_type": "code",
   "execution_count": 6,
   "metadata": {},
   "outputs": [
    {
     "output_type": "stream",
     "name": "stdout",
     "text": [
      "Word2Vec(vocab=13792, size=750, alpha=0.025)\nCPU times: user 13.3 s, sys: 344 ms, total: 13.7 s\nWall time: 6.32 s\n"
     ]
    }
   ],
   "source": [
    "%%time\n",
    "\n",
    "embeddingSizes = [500,750,1000] #To test later when we use all files\n",
    "\n",
    "#Train Word2Vec model with corpus\n",
    "model = Word2Vec(corpus, size=750)\n",
    "\n",
    "#List of output vectors for vocab\n",
    "X = model[model.wv.vocab]\n",
    "print(model)"
   ]
  },
  {
   "source": [
    "## K Means Clustering\n",
    "\n",
    "Separate data into 200 clusters \n",
    "\n",
    "[https://ai.intelligentonlinetools.com/ml/k-means-clustering-example-word2vec/]"
   ],
   "cell_type": "markdown",
   "metadata": {}
  },
  {
   "cell_type": "code",
   "execution_count": 7,
   "metadata": {},
   "outputs": [
    {
     "output_type": "stream",
     "name": "stdout",
     "text": [
      "Cluster id labels for inputted data\n[ 64  10  59 ...  56 179 137]\nCentroids data\n[[-7.05407228e-06  1.04567684e-04  6.37382327e-05 ...  1.51394226e-04\n   1.21196601e-04  1.91854415e-04]\n [-1.14272145e-04 -3.54990993e-06 -5.26204894e-05 ... -6.03562876e-05\n   1.39689160e-04  1.63036515e-04]\n [ 7.72058775e-05 -5.88560724e-05  8.76561462e-05 ... -6.53993557e-05\n   5.10740247e-05  3.69872723e-05]\n ...\n [-3.47670866e-05 -1.17054415e-05 -1.38397954e-04 ...  2.30595833e-05\n  -8.65088987e-06  8.53746096e-05]\n [ 1.71098545e-05  9.38329686e-05 -3.49293987e-05 ...  5.05526114e-05\n  -8.09424091e-05  4.83081822e-05]\n [-2.36626911e-05  3.39794315e-05  3.70609414e-05 ...  6.13953598e-05\n  -4.36554983e-05  1.02046193e-04]]\n"
     ]
    }
   ],
   "source": [
    "from sklearn import cluster\n",
    "from sklearn import metrics\n",
    "\n",
    "#Separate output vectors into 200 clusters\n",
    "kmeans = cluster.KMeans(n_clusters=200)\n",
    "kmeans.fit(X)\n",
    "\n",
    "#Each vector is labeled with cluster id \n",
    "labels = kmeans.labels_\n",
    "centroids = kmeans.cluster_centers_\n",
    " \n",
    "print (\"Cluster id labels for inputted data\")\n",
    "print (labels)\n",
    "print (\"Centroids data\")\n",
    "print (centroids)"
   ]
  },
  {
   "cell_type": "code",
   "execution_count": 8,
   "metadata": {},
   "outputs": [],
   "source": [
    "#Convert vocab to a list\n",
    "vocab = list(model.wv.vocab)"
   ]
  },
  {
   "cell_type": "code",
   "execution_count": 9,
   "metadata": {},
   "outputs": [],
   "source": [
    "#Map each vector index to its cluster id\n",
    "#For example, first row in cluster_map refers to X[0], then data_index would be 0 and cluster would be its cluster id\n",
    "cluster_map = pd.DataFrame()\n",
    "cluster_map['data_index'] = range(len(X))\n",
    "cluster_map['cluster'] = labels"
   ]
  },
  {
   "cell_type": "code",
   "execution_count": 10,
   "metadata": {},
   "outputs": [],
   "source": [
    "#Copy and convert corpus into a dictionary for genre labeling later\n",
    "new_corpus = dict()\n",
    "for word in corpus:\n",
    "    new_corpus[word[0]] = word[1]"
   ]
  },
  {
   "cell_type": "code",
   "execution_count": 11,
   "metadata": {},
   "outputs": [],
   "source": [
    "#For each cluster, create a vocabulary of the genres and occurrences, then return the genre that best represents the cluster\n",
    "def getMaxGenre(cluster):\n",
    "    cluster_genres = dict()\n",
    "    for i in range(len(cluster)):\n",
    "        index = cluster.iloc[i].data_index\n",
    "        name = vocab[index]\n",
    "        if name in new_corpus:\n",
    "            genre = new_corpus[name]\n",
    "            word_list = genre.split()\n",
    "            for w in word_list:\n",
    "                if w in cluster_genres:\n",
    "                    cluster_genres[w] = cluster_genres[w] + 1\n",
    "                else:\n",
    "                    cluster_genres[w] = 1\n",
    "    #Indie has the majority in half of the 200 clusters, so it's best to leave it out\n",
    "    cluster_genres = dict(filter(lambda x: x[0] != 'indie', cluster_genres.items()))\n",
    "    if cluster_genres:\n",
    "        sorted_genres = list(sorted(cluster_genres.items(), key=itemgetter(1), reverse=True))\n",
    "        #Pop, rock, and metal would make up the majority after indie, so I tuned down their chance of being qualified to be the majority\n",
    "        if sorted_genres[0][0] in ['pop', 'rock', 'metal'] and (sorted_genres[0][1] - sorted_genres[1][1]) <= 8:\n",
    "            max_genre = sorted_genres[1][0]\n",
    "        else:\n",
    "            max_genre = sorted_genres[0][0]\n",
    "        return max_genre\n",
    "    else:\n",
    "        return None"
   ]
  },
  {
   "cell_type": "code",
   "execution_count": 12,
   "metadata": {},
   "outputs": [
    {
     "output_type": "execute_result",
     "data": {
      "text/plain": [
       "{'metal': 23,\n",
       " 'rock': 20,\n",
       " 'pop': 17,\n",
       " 'jazz': 15,\n",
       " 'folk': 9,\n",
       " 'hip': 7,\n",
       " 'house': 6,\n",
       " 'japanese': 6,\n",
       " 'black': 5,\n",
       " 'canadian': 5,\n",
       " 'musica': 5,\n",
       " 'rap': 4,\n",
       " 'classic': 3,\n",
       " 'alternative': 3,\n",
       " 'punk': 3,\n",
       " 'swedish': 3,\n",
       " 'modern': 2,\n",
       " 'folklore': 2,\n",
       " None: 2,\n",
       " 'deep': 2,\n",
       " 'hard': 2,\n",
       " 'german': 2,\n",
       " 'polish': 2,\n",
       " 'dutch': 2,\n",
       " 'austrian': 2,\n",
       " 'indonesian': 2,\n",
       " 'hong': 1,\n",
       " 'beat': 1,\n",
       " 'russian': 1,\n",
       " 'hardcore': 1,\n",
       " 'neo': 1,\n",
       " 'histoire': 1,\n",
       " 'belgian': 1,\n",
       " 'american': 1,\n",
       " 'electronic': 1,\n",
       " 'cinematic': 1,\n",
       " 'north': 1,\n",
       " 'boston': 1,\n",
       " 'turkish': 1,\n",
       " 'rockabilly': 1,\n",
       " 'karaoke': 1,\n",
       " 'cristiano': 1,\n",
       " 'charanga': 1,\n",
       " 'gaming': 1,\n",
       " 'chinese': 1,\n",
       " 'of': 1,\n",
       " 'heavy': 1,\n",
       " 'uk': 1,\n",
       " \"children's\": 1,\n",
       " 'trival': 1,\n",
       " 'americana': 1,\n",
       " 'kurdish': 1,\n",
       " 'australian': 1,\n",
       " 'narodna': 1,\n",
       " 'organic': 1,\n",
       " 'brazilian': 1,\n",
       " 'guitar': 1,\n",
       " 'ccm': 1,\n",
       " 'irish': 1,\n",
       " 'soundtrack': 1,\n",
       " 'metalcore': 1,\n",
       " 'club': 1,\n",
       " 'rebetiko': 1,\n",
       " 'afro': 1,\n",
       " 'gospel': 1,\n",
       " 'post-post-hardcore': 1,\n",
       " 'african': 1,\n",
       " 'piano': 1,\n",
       " 'hop': 1,\n",
       " 'soviet': 1,\n",
       " 'disco': 1,\n",
       " 'indian': 1}"
      ]
     },
     "metadata": {},
     "execution_count": 12
    }
   ],
   "source": [
    "#Create a dictionary of the genres that best represent each cluster\n",
    "final_genres = dict()\n",
    "\n",
    "#Get the majority genre for each cluster\n",
    "for i in range(200):\n",
    "    cluster = cluster_map[cluster_map.cluster == i]\n",
    "    max_genre = getMaxGenre(cluster)\n",
    "    if max_genre in final_genres:\n",
    "        final_genres[max_genre] = final_genres[max_genre] + 1\n",
    "    else:\n",
    "        final_genres[max_genre] = 1\n",
    "\n",
    "final_genres = dict(sorted(final_genres.items(), key=itemgetter(1), reverse=True))\n",
    "final_genres\n",
    "\n",
    "#hip should go with hop lol"
   ]
  }
 ]
}