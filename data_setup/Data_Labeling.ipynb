{
 "metadata": {
  "language_info": {
   "codemirror_mode": {
    "name": "ipython",
    "version": 3
   },
   "file_extension": ".py",
   "mimetype": "text/x-python",
   "name": "python",
   "nbconvert_exporter": "python",
   "pygments_lexer": "ipython3",
   "version": 3
  },
  "orig_nbformat": 2
 },
 "nbformat": 4,
 "nbformat_minor": 2,
 "cells": [
  {
   "cell_type": "code",
   "execution_count": null,
   "metadata": {},
   "outputs": [],
   "source": [
    "import json\n",
    "from pathlib import Path\n",
    "from operator import itemgetter\n",
    "import pandas as pd\n",
    "\n",
    "###For TESTING\n",
    "import copy \n",
    "\n",
    "from gensim.models import Word2Vec"
   ]
  },
  {
   "source": [
    "## Read and Load Data"
   ],
   "cell_type": "markdown",
   "metadata": {}
  },
  {
   "cell_type": "code",
   "execution_count": null,
   "metadata": {},
   "outputs": [],
   "source": [
    "data_folder = Path(\"../data/genre_playlists/\").glob('**/*')\n",
    "files = [x for x in data_folder if x.is_file()]"
   ]
  },
  {
   "source": [
    "## Prepare data for Word2Vec Model\n",
    "\n",
    "\n",
    "https://machinelearningmastery.com/develop-word-embeddings-python-gensim/  \n",
    "\n",
    "Documentation  \n",
    "https://radimrehurek.com/gensim/models/word2vec.html#gensim.models.word2vec.Word2Vec"
   ],
   "cell_type": "markdown",
   "metadata": {}
  },
  {
   "cell_type": "code",
   "execution_count": null,
   "metadata": {},
   "outputs": [],
   "source": [
    "#Get arrays of [song name, playlist genre] from playlist. \n",
    "def getTrackGenres(playlist, corpus):\n",
    "    for track in playlist['tracks']:\n",
    "        track_info = [track['name'], playlist['genre']]\n",
    "        corpus.append(track_info)\n",
    "    "
   ]
  },
  {
   "cell_type": "code",
   "execution_count": null,
   "metadata": {},
   "outputs": [],
   "source": [
    "%%time\n",
    "\n",
    "#Create a list of [song name, playlist genre] arrays\n",
    "corpus = []\n",
    "totalTracks = 0\n",
    "totalPlaylists = 0\n",
    "\n",
    "#Read files and update corpus with song info\n",
    "for i, file in enumerate(files):\n",
    "    with open(file) as f:\n",
    "        data = json.load(f)\n",
    "        for playlist in data:\n",
    "            getTrackGenres(playlist, corpus)\n",
    "            totalTracks += playlist['num_tracks']\n",
    "            totalPlaylists += 1\n",
    "    print(\"Finished Reading file \", i+1, \" | Tracks Added:\", totalTracks)\n"
   ]
  },
  {
   "cell_type": "code",
   "execution_count": null,
   "metadata": {},
   "outputs": [],
   "source": [
    "# print(corpus[:20])\n",
    "print('Total \"words\" in corpus:', len(corpus))\n",
    "print('Total playlists:', totalPlaylists)"
   ]
  },
  {
   "source": [
    "## Word2Vec Model"
   ],
   "cell_type": "markdown",
   "metadata": {}
  },
  {
   "cell_type": "code",
   "execution_count": null,
   "metadata": {},
   "outputs": [],
   "source": [
    "%%time\n",
    "\n",
    "embeddingSizes = [500,750,1000] #To test later when we use all files\n",
    "\n",
    "#Train Word2Vec model with corpus\n",
    "model = Word2Vec(corpus, size=750)\n",
    "\n",
    "#List of output vectors for vocab\n",
    "X = model[model.wv.vocab]\n",
    "print(model)"
   ]
  },
  {
   "source": [
    "## K Means Clustering\n",
    "\n",
    "Separate data into 200 clusters \n",
    "\n",
    "[https://ai.intelligentonlinetools.com/ml/k-means-clustering-example-word2vec/]"
   ],
   "cell_type": "markdown",
   "metadata": {}
  },
  {
   "cell_type": "code",
   "execution_count": null,
   "metadata": {},
   "outputs": [],
   "source": [
    "from sklearn import cluster\n",
    "from sklearn import metrics\n",
    "\n",
    "#Separate output vectors into 200 clusters\n",
    "kmeans = cluster.KMeans(n_clusters=200)\n",
    "kmeans.fit(X)\n",
    "\n",
    "#Each vector is labeled with cluster id \n",
    "labels = kmeans.labels_\n",
    "centroids = kmeans.cluster_centers_\n",
    " \n",
    "print (\"Cluster id labels for inputted data\")\n",
    "print (labels)\n",
    "print (\"Centroids data\")\n",
    "print (centroids)"
   ]
  },
  {
   "cell_type": "code",
   "execution_count": null,
   "metadata": {},
   "outputs": [],
   "source": [
    "#Convert vocab to a list\n",
    "vocab = list(model.wv.vocab)"
   ]
  },
  {
   "cell_type": "code",
   "execution_count": null,
   "metadata": {},
   "outputs": [],
   "source": [
    "#Map each vector index to its cluster id\n",
    "#For example, first row in cluster_map refers to X[0], then data_index would be 0 and cluster would be its cluster id\n",
    "cluster_map = pd.DataFrame()\n",
    "cluster_map['data_index'] = range(len(X))\n",
    "cluster_map['cluster'] = labels"
   ]
  },
  {
   "cell_type": "code",
   "execution_count": null,
   "metadata": {},
   "outputs": [],
   "source": [
    "#Copy and convert corpus into a dictionary for genre labeling later\n",
    "new_corpus = dict()\n",
    "for word in corpus:\n",
    "    new_corpus[word[0]] = word[1]"
   ]
  },
  {
   "cell_type": "code",
   "execution_count": null,
   "metadata": {},
   "outputs": [],
   "source": [
    "#For each cluster, create a vocabulary of the genres and occurrences, then return the genre that best represents the cluster\n",
    "def getMaxGenre(cluster):\n",
    "    cluster_genres = dict()\n",
    "    for i in range(len(cluster)):\n",
    "        index = cluster.iloc[i].data_index\n",
    "        name = vocab[index]\n",
    "        if name in new_corpus:\n",
    "            genre = new_corpus[name]\n",
    "            word_list = genre.split()\n",
    "            for w in word_list:\n",
    "                if w in cluster_genres:\n",
    "                    cluster_genres[w] = cluster_genres[w] + 1\n",
    "                else:\n",
    "                    cluster_genres[w] = 1\n",
    "    #Indie has the majority in half of the 200 clusters, so it's best to leave it out\n",
    "    cluster_genres = dict(filter(lambda x: x[0] != 'indie', cluster_genres.items()))\n",
    "    if cluster_genres:\n",
    "        sorted_genres = list(sorted(cluster_genres.items(), key=itemgetter(1), reverse=True))\n",
    "        #Pop, rock, and metal would make up the majority after indie, so I tuned down their chance of being qualified to be the majority\n",
    "        if sorted_genres[0][0] in ['pop', 'rock', 'metal'] and (sorted_genres[0][1] - sorted_genres[1][1]) <= 8:\n",
    "            max_genre = sorted_genres[1][0]\n",
    "        else:\n",
    "            max_genre = sorted_genres[0][0]\n",
    "        return max_genre\n",
    "    else:\n",
    "        return None"
   ]
  },
  {
   "cell_type": "code",
   "execution_count": null,
   "metadata": {},
   "outputs": [],
   "source": [
    "#Create a dictionary of the genres that best represent each cluster\n",
    "final_genres = dict()\n",
    "\n",
    "#Get the majority genre for each cluster\n",
    "for i in range(200):\n",
    "    cluster = cluster_map[cluster_map.cluster == i]\n",
    "    max_genre = getMaxGenre(cluster)\n",
    "    if max_genre in final_genres:\n",
    "        final_genres[max_genre] = final_genres[max_genre] + 1\n",
    "    else:\n",
    "        final_genres[max_genre] = 1\n",
    "\n",
    "final_genres = dict(sorted(final_genres.items(), key=itemgetter(1), reverse=True))\n",
    "final_genres\n",
    "\n",
    "#hip should go with hop lol"
   ]
  }
 ]
}