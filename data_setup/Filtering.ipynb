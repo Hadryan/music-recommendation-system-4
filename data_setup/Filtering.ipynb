{
 "metadata": {
  "language_info": {
   "codemirror_mode": {
    "name": "ipython",
    "version": 3
   },
   "file_extension": ".py",
   "mimetype": "text/x-python",
   "name": "python",
   "nbconvert_exporter": "python",
   "pygments_lexer": "ipython3",
   "version": "3.8.5-final"
  },
  "orig_nbformat": 2,
  "kernelspec": {
   "name": "python3",
   "display_name": "Python 3",
   "language": "python"
  }
 },
 "nbformat": 4,
 "nbformat_minor": 2,
 "cells": [
  {
   "source": [
    "# Filtering Data"
   ],
   "cell_type": "markdown",
   "metadata": {}
  },
  {
   "cell_type": "code",
   "execution_count": 1,
   "metadata": {},
   "outputs": [],
   "source": [
    "import json\n",
    "from pathlib import Path\n",
    "from csv import reader"
   ]
  },
  {
   "source": [
    "## Load Data"
   ],
   "cell_type": "markdown",
   "metadata": {}
  },
  {
   "cell_type": "code",
   "execution_count": 2,
   "metadata": {},
   "outputs": [],
   "source": [
    "data_folder = Path(\"../data/genre_playlists/\").glob('**/*')\n",
    "playlist_files = [x for x in data_folder if x.is_file()]\n",
    "\n",
    "tracks_folder = Path(\"../data/track_features/\").glob('**/*')\n",
    "tracks_files = [x for x in tracks_folder if x.is_file()]"
   ]
  },
  {
   "cell_type": "code",
   "execution_count": 3,
   "metadata": {
    "tags": []
   },
   "outputs": [],
   "source": [
    "tracks = dict()\n",
    "\n",
    "for f in tracks_files:\n",
    "    with open(f, 'r') as infile:\n",
    "        rd = reader(infile)\n",
    "        row1 = next(rd)\n",
    "        for line in rd:\n",
    "            track_name = line[0]\n",
    "            artist_name = line[1]\n",
    "            tracks[track_name] = artist_name"
   ]
  },
  {
   "cell_type": "code",
   "execution_count": 4,
   "metadata": {},
   "outputs": [
    {
     "output_type": "stream",
     "name": "stdout",
     "text": [
      "5035\n"
     ]
    }
   ],
   "source": [
    "playlists = []\n",
    "\n",
    "for f in playlist_files:\n",
    "    with open(f, 'r') as infile:\n",
    "        data = json.load(infile)\n",
    "        playlists += data\n",
    "\n",
    "print(len(playlists))\n"
   ]
  },
  {
   "source": [
    "## Remove tracks"
   ],
   "cell_type": "markdown",
   "metadata": {}
  },
  {
   "cell_type": "code",
   "execution_count": 5,
   "metadata": {},
   "outputs": [],
   "source": [
    "total_del_tracks = 0\n",
    "playlists_to_del = []\n",
    "\n",
    "#Removing tracks that aren't labeled, and playlists with <10 tracks or less than 30% of original size or >5000 tracks\n",
    "for playlist in playlists:\n",
    "    new_tracks = list(filter(lambda x : x['name'] in tracks, playlist['tracks']))\n",
    "    orig_size = len(playlist['tracks'])\n",
    "    new_size = len(new_tracks)\n",
    "    if new_size < 10 or new_size < orig_size * 0.3 or new_size > 5000:\n",
    "        playlists_to_del.append(playlist['name'])\n",
    "        total_del_tracks += orig_size\n",
    "    else:\n",
    "        playlist['tracks'] = new_tracks\n",
    "        playlist['num_tracks'] = new_size\n",
    "        total_del_tracks += orig_size - new_size\n",
    "    "
   ]
  },
  {
   "cell_type": "code",
   "execution_count": 6,
   "metadata": {},
   "outputs": [
    {
     "output_type": "stream",
     "name": "stdout",
     "text": [
      "5\n[]\n"
     ]
    }
   ],
   "source": [
    "print(total_del_tracks)\n",
    "print(playlists_to_del)"
   ]
  },
  {
   "cell_type": "code",
   "execution_count": 7,
   "metadata": {},
   "outputs": [],
   "source": [
    "chunk = []\n",
    "for i, pl in enumerate(playlists):\n",
    "    chunk.append(pl)\n",
    "    if (i + 1) % 200 == 0:\n",
    "        begin = (i + 1) - 200\n",
    "        with open('../data/genre_playlists_updated/playlists.{}-{}.json'.format(begin, i), 'w') as outfile:\n",
    "            json.dump(chunk, outfile, indent=4)\n",
    "        chunk = []\n",
    "    elif i == len(playlists) - 1:\n",
    "        begin = i - (i + 1) % 200\n",
    "        with open('../data/genre_playlists_updated/playlists.{}-{}.json'.format(begin, i), 'w') as outfile:\n",
    "            json.dump(chunk, outfile, indent=4)\n",
    "        chunk = []"
   ]
  },
  {
   "cell_type": "code",
   "execution_count": null,
   "metadata": {},
   "outputs": [],
   "source": []
  }
 ]
}