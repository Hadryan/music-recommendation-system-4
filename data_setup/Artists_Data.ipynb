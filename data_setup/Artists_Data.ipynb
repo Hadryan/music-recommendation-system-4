{
 "metadata": {
  "language_info": {
   "codemirror_mode": {
    "name": "ipython",
    "version": 3
   },
   "file_extension": ".py",
   "mimetype": "text/x-python",
   "name": "python",
   "nbconvert_exporter": "python",
   "pygments_lexer": "ipython3",
   "version": "3.8.5-final"
  },
  "orig_nbformat": 2,
  "kernelspec": {
   "name": "python3",
   "display_name": "Python 3"
  }
 },
 "nbformat": 4,
 "nbformat_minor": 2,
 "cells": [
  {
   "source": [
    "# Unique Artists\n",
    "\n",
    "Read and get data of artists"
   ],
   "cell_type": "markdown",
   "metadata": {}
  },
  {
   "cell_type": "code",
   "execution_count": 1,
   "metadata": {},
   "outputs": [],
   "source": [
    "import json\n",
    "from pathlib import Path\n",
    "from operator import itemgetter"
   ]
  },
  {
   "source": [
    "## Read all data files"
   ],
   "cell_type": "markdown",
   "metadata": {}
  },
  {
   "cell_type": "code",
   "execution_count": 2,
   "metadata": {},
   "outputs": [],
   "source": [
    "data_folder = Path(\"../data/data/\").glob('**/*')\n",
    "files = [x for x in data_folder if x.is_file()]"
   ]
  },
  {
   "cell_type": "code",
   "execution_count": 3,
   "metadata": {},
   "outputs": [],
   "source": [
    "#Reads multiple json files and returns a set of tuples (artist name, artist uri)\n",
    "#@Param batchOfFiles - list containing Path to each file\n",
    "#@Returns listOfArtists - set of tuples (artist name, artist uri)\n",
    "def readBatch(batchOfFiles):\n",
    "\n",
    "    listOfArtists = dict()\n",
    "    \n",
    "    #Get all tracks from the batchOfFiles\n",
    "    for file in batchOfFiles:\n",
    "        with open(file) as f:\n",
    "            data = json.load(f)\n",
    "            for playlist in data['playlists']:\n",
    "                for track in playlist['tracks']:\n",
    "                    if track['artist_name'] not in listOfArtists:\n",
    "                        listOfArtists[track['artist_name']] = track['artist_uri']\n",
    "    return listOfArtists\n",
    "    "
   ]
  },
  {
   "cell_type": "code",
   "execution_count": 4,
   "metadata": {},
   "outputs": [],
   "source": [
    "def combineBatches(batch1, batch2):\n",
    "    for item in batch2:\n",
    "        if item not in batch1:\n",
    "            batch1[item] = batch2[item]"
   ]
  },
  {
   "cell_type": "code",
   "execution_count": 5,
   "metadata": {},
   "outputs": [
    {
     "output_type": "stream",
     "name": "stdout",
     "text": [
      "Finished Reading files: 0 - 99  | Artists Added: 107167\n",
      "Finished Reading files: 100 - 199  | Artists Added: 39520\n",
      "Finished Reading files: 200 - 299  | Artists Added: 28413\n",
      "Finished Reading files: 300 - 399  | Artists Added: 23334\n",
      "Finished Reading files: 400 - 499  | Artists Added: 19160\n",
      "Finished Reading files: 500 - 599  | Artists Added: 17427\n",
      "Finished Reading files: 600 - 699  | Artists Added: 14728\n",
      "Finished Reading files: 700 - 799  | Artists Added: 13320\n",
      "Finished Reading files: 800 - 899  | Artists Added: 12647\n",
      "Finished Reading files: 900 - 999  | Artists Added: 12026\n",
      "CPU times: user 2min 22s, sys: 36.8 s, total: 2min 59s\n",
      "Wall time: 6min\n"
     ]
    }
   ],
   "source": [
    "%%time\n",
    "\n",
    "#Reads the files in batches\n",
    "numOfBatches = 10\n",
    "totalFiles = 1000\n",
    "x = round(totalFiles / numOfBatches)\n",
    "\n",
    "artistsSet = dict()\n",
    "\n",
    "for batch in range(numOfBatches):\n",
    "    startFile = (batch * x)\n",
    "    endFile = ((batch + 1) * x)\n",
    "    artists = readBatch(files[startFile:endFile])\n",
    "    origTotal = len(artistsSet)\n",
    "    combineBatches(artistsSet, artists)\n",
    "    print(\"Finished Reading files:\",startFile,'-',endFile - 1, \\\n",
    "        \" | Artists Added:\", len(artistsSet) - origTotal)\n",
    "    "
   ]
  },
  {
   "cell_type": "code",
   "execution_count": 6,
   "metadata": {},
   "outputs": [
    {
     "output_type": "stream",
     "name": "stdout",
     "text": [
      "287742\n"
     ]
    }
   ],
   "source": [
    "print(len(artistsSet))"
   ]
  },
  {
   "source": [
    "## Fetch genres from Spotify API"
   ],
   "cell_type": "markdown",
   "metadata": {}
  },
  {
   "cell_type": "code",
   "execution_count": 7,
   "metadata": {},
   "outputs": [],
   "source": [
    "import spotipy\n",
    "from spotipy.oauth2 import SpotifyClientCredentials\n",
    "import sys\n",
    "\n",
    "SPOTIPY_CLIENT_ID = \"f96a1f0e67bf41afa9c09b2da29d8c7c\"\n",
    "SPOTIPY_CLIENT_SECRET = \"3c726b5c74c643de83771882afc67d2f\"\n",
    "\n",
    "spotify = spotipy.Spotify(\n",
    "    client_credentials_manager=SpotifyClientCredentials(SPOTIPY_CLIENT_ID,SPOTIPY_CLIENT_SECRET),\n",
    "    requests_timeout=5)"
   ]
  },
  {
   "cell_type": "code",
   "execution_count": 8,
   "metadata": {},
   "outputs": [
    {
     "output_type": "stream",
     "name": "stdout",
     "text": [
      "10000 artists added.\n",
      "20000 artists added.\n",
      "30000 artists added.\n",
      "40000 artists added.\n",
      "50000 artists added.\n",
      "60000 artists added.\n",
      "70000 artists added.\n",
      "80000 artists added.\n",
      "90000 artists added.\n",
      "100000 artists added.\n",
      "110000 artists added.\n",
      "120000 artists added.\n",
      "130000 artists added.\n",
      "140000 artists added.\n",
      "150000 artists added.\n",
      "160000 artists added.\n",
      "170000 artists added.\n",
      "180000 artists added.\n",
      "190000 artists added.\n",
      "200000 artists added.\n",
      "210000 artists added.\n",
      "220000 artists added.\n",
      "230000 artists added.\n",
      "240000 artists added.\n",
      "250000 artists added.\n",
      "260000 artists added.\n",
      "270000 artists added.\n",
      "280000 artists added.\n",
      "CPU times: user 13min 53s, sys: 2min 5s, total: 15min 58s\n",
      "Wall time: 7h 55min 29s\n"
     ]
    }
   ],
   "source": [
    "%%time\n",
    "\n",
    "#Convert the list of artists to json\n",
    "#Fetches genres from api and save to artist obj\n",
    "uniqueArtists = []\n",
    "totalArtists = len(artistsSet)\n",
    "\n",
    "for i, artist in enumerate(artistsSet):\n",
    "    obj = dict()\n",
    "    obj['artist_name'] = artist\n",
    "    obj['artist_uri'] = artistsSet[artist]\n",
    "    try:\n",
    "        obj['genres'] = spotify.artist(artistsSet[artist])['genres']\n",
    "    except:\n",
    "        #If request times out\n",
    "        obj['genres'] = None\n",
    "    uniqueArtists.append(obj)\n",
    "\n",
    "    if (i + 1) % 10000 == 0:\n",
    "        print('{} artists added.'.format(i+1))\n",
    "\n"
   ]
  },
  {
   "cell_type": "code",
   "execution_count": 9,
   "metadata": {},
   "outputs": [
    {
     "output_type": "execute_result",
     "data": {
      "text/plain": [
       "287742"
      ]
     },
     "metadata": {},
     "execution_count": 9
    }
   ],
   "source": [
    "len(uniqueArtists)"
   ]
  },
  {
   "cell_type": "code",
   "execution_count": 10,
   "metadata": {
    "tags": []
   },
   "outputs": [
    {
     "output_type": "stream",
     "name": "stdout",
     "text": [
      "Total nulls: 3\nTotal empties: 166409\nCPU times: user 125 ms, sys: 0 ns, total: 125 ms\nWall time: 113 ms\n"
     ]
    }
   ],
   "source": [
    "%%time\n",
    "\n",
    "noGenres = list(filter(lambda x: x['genres'] is None or len(x['genres']) == 0, uniqueArtists))\n",
    "\n",
    "nulls = list(filter(lambda x: x['genres'] is None, noGenres))\n",
    "print(\"Total nulls:\", len(nulls))\n",
    "\n",
    "empties = list(filter(lambda x: x['genres'] is not None and len(x['genres']) == 0, noGenres))\n",
    "print(\"Total empties:\", len(empties))"
   ]
  },
  {
   "source": [
    "## Save data to json files"
   ],
   "cell_type": "markdown",
   "metadata": {}
  },
  {
   "cell_type": "code",
   "execution_count": 12,
   "metadata": {},
   "outputs": [],
   "source": [
    "#Save artists json data to json files, each file contains around 1000 artists\n",
    "artistsGenres = list(filter(lambda x: x['genres'] is not None and len(x['genres']) > 0, uniqueArtists))\n",
    "\n",
    "newTotal = len(artistsGenres)\n",
    "\n",
    "x = 0\n",
    "while (x + 1) * 1000 < newTotal:\n",
    "    batch = dict()\n",
    "    batch['num_artists'] = 1000\n",
    "    batch['artists'] = artistsGenres[x * 1000 : (x + 1) * 1000]\n",
    "\n",
    "    fileName = '../data/artists/artists.{}-{}.json'.format(x * 1000, (x + 1) * 1000 - 1)\n",
    "    with open(fileName, 'w') as outfile:\n",
    "        json.dump(batch, outfile, indent=4)\n",
    "    \n",
    "    x += 1\n",
    "\n",
    "lastBatch = dict()\n",
    "lastBatch['num_artists'] = newTotal % 1000\n",
    "lastBatch['artists'] = artistsGenres[x * 1000 : totalArtists]\n",
    "\n",
    "fileName = '../data/artists/artists.{}-{}.json'.format(x * 1000, totalArtists)\n",
    "with open(fileName, 'w') as outfile:\n",
    "    json.dump(lastBatch, outfile, indent=4)"
   ]
  },
  {
   "cell_type": "code",
   "execution_count": 13,
   "metadata": {},
   "outputs": [
    {
     "output_type": "stream",
     "name": "stdout",
     "text": [
      "121330\n"
     ]
    }
   ],
   "source": [
    "print(newTotal)"
   ]
  },
  {
   "cell_type": "code",
   "execution_count": null,
   "metadata": {},
   "outputs": [],
   "source": []
  }
 ]
}