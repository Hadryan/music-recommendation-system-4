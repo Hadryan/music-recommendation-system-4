{
 "cells": [
  {
   "cell_type": "code",
   "execution_count": 22,
   "metadata": {},
   "outputs": [],
   "source": [
    "from pathlib import Path\n",
    "import pandas as pd\n",
    "import numpy as np \n",
    "\n",
    "from sklearn.model_selection import train_test_split\n",
    "from sklearn.linear_model import LogisticRegression\n",
    "from sklearn.metrics import classification_report\n",
    "from sklearn import metrics \n",
    "from sklearn.metrics import confusion_matrix\n",
    "from sklearn import preprocessing"
   ]
  },
  {
   "cell_type": "markdown",
   "metadata": {},
   "source": [
    "### Get data"
   ]
  },
  {
   "cell_type": "code",
   "execution_count": 12,
   "metadata": {},
   "outputs": [],
   "source": [
    "#might have to update path dependning on where you save the files\n",
    "#uses the track_features_updated located on github\n",
    "data_folder = Path(\"track_features_updated/track_features_updated/\").glob('**/*')\n",
    "files_to_read = [x for x in data_folder if x.is_file()]"
   ]
  },
  {
   "cell_type": "code",
   "execution_count": 13,
   "metadata": {},
   "outputs": [
    {
     "name": "stdout",
     "output_type": "stream",
     "text": [
      "Wall time: 833 ms\n"
     ]
    }
   ],
   "source": [
    "%%time\n",
    "\n",
    "df_from_each_file = [pd.read_csv(file) for file in files_to_read]\n",
    "concatenated_df   = pd.concat(df_from_each_file, ignore_index=True)\n",
    "    "
   ]
  },
  {
   "cell_type": "code",
   "execution_count": 14,
   "metadata": {},
   "outputs": [
    {
     "data": {
      "text/html": [
       "<div>\n",
       "<style scoped>\n",
       "    .dataframe tbody tr th:only-of-type {\n",
       "        vertical-align: middle;\n",
       "    }\n",
       "\n",
       "    .dataframe tbody tr th {\n",
       "        vertical-align: top;\n",
       "    }\n",
       "\n",
       "    .dataframe thead th {\n",
       "        text-align: right;\n",
       "    }\n",
       "</style>\n",
       "<table border=\"1\" class=\"dataframe\">\n",
       "  <thead>\n",
       "    <tr style=\"text-align: right;\">\n",
       "      <th></th>\n",
       "      <th>track_name</th>\n",
       "      <th>artist_name</th>\n",
       "      <th>danceability</th>\n",
       "      <th>energy</th>\n",
       "      <th>key</th>\n",
       "      <th>loudness</th>\n",
       "      <th>mode</th>\n",
       "      <th>speechiness</th>\n",
       "      <th>acousticness</th>\n",
       "      <th>instrumentalness</th>\n",
       "      <th>liveness</th>\n",
       "      <th>valence</th>\n",
       "      <th>tempo</th>\n",
       "      <th>duration_ms</th>\n",
       "      <th>genre</th>\n",
       "    </tr>\n",
       "  </thead>\n",
       "  <tbody>\n",
       "    <tr>\n",
       "      <th>0</th>\n",
       "      <td>Pure Verleiding</td>\n",
       "      <td>Arjon Oostrom</td>\n",
       "      <td>0.825</td>\n",
       "      <td>0.834</td>\n",
       "      <td>6</td>\n",
       "      <td>-7.363</td>\n",
       "      <td>1</td>\n",
       "      <td>0.1650</td>\n",
       "      <td>0.144</td>\n",
       "      <td>0.0000</td>\n",
       "      <td>0.0786</td>\n",
       "      <td>0.904</td>\n",
       "      <td>135.037</td>\n",
       "      <td>203799</td>\n",
       "      <td>0</td>\n",
       "    </tr>\n",
       "    <tr>\n",
       "      <th>1</th>\n",
       "      <td>Beesten Van De Nacht (Official Sensation Waail...</td>\n",
       "      <td>Jeroen Van Zelst</td>\n",
       "      <td>0.685</td>\n",
       "      <td>0.845</td>\n",
       "      <td>5</td>\n",
       "      <td>-7.719</td>\n",
       "      <td>1</td>\n",
       "      <td>0.0556</td>\n",
       "      <td>0.487</td>\n",
       "      <td>0.0175</td>\n",
       "      <td>0.0632</td>\n",
       "      <td>0.651</td>\n",
       "      <td>154.953</td>\n",
       "      <td>145611</td>\n",
       "      <td>0</td>\n",
       "    </tr>\n",
       "    <tr>\n",
       "      <th>2</th>\n",
       "      <td>De Woonboot</td>\n",
       "      <td>Stef Ekkel</td>\n",
       "      <td>0.619</td>\n",
       "      <td>0.594</td>\n",
       "      <td>7</td>\n",
       "      <td>-7.626</td>\n",
       "      <td>1</td>\n",
       "      <td>0.0362</td>\n",
       "      <td>0.248</td>\n",
       "      <td>0.0000</td>\n",
       "      <td>0.3930</td>\n",
       "      <td>0.451</td>\n",
       "      <td>97.418</td>\n",
       "      <td>267093</td>\n",
       "      <td>2</td>\n",
       "    </tr>\n",
       "    <tr>\n",
       "      <th>3</th>\n",
       "      <td>Daar Mot Een Piemel In</td>\n",
       "      <td>Johnny Gold</td>\n",
       "      <td>0.872</td>\n",
       "      <td>0.910</td>\n",
       "      <td>5</td>\n",
       "      <td>-3.216</td>\n",
       "      <td>1</td>\n",
       "      <td>0.0718</td>\n",
       "      <td>0.443</td>\n",
       "      <td>0.0000</td>\n",
       "      <td>0.0721</td>\n",
       "      <td>0.966</td>\n",
       "      <td>123.956</td>\n",
       "      <td>155493</td>\n",
       "      <td>1</td>\n",
       "    </tr>\n",
       "    <tr>\n",
       "      <th>4</th>\n",
       "      <td>Meisjes Van De Nacht</td>\n",
       "      <td>Rob Ronalds</td>\n",
       "      <td>0.722</td>\n",
       "      <td>0.935</td>\n",
       "      <td>8</td>\n",
       "      <td>-4.975</td>\n",
       "      <td>0</td>\n",
       "      <td>0.0450</td>\n",
       "      <td>0.453</td>\n",
       "      <td>0.0000</td>\n",
       "      <td>0.0607</td>\n",
       "      <td>0.842</td>\n",
       "      <td>125.026</td>\n",
       "      <td>182307</td>\n",
       "      <td>1</td>\n",
       "    </tr>\n",
       "  </tbody>\n",
       "</table>\n",
       "</div>"
      ],
      "text/plain": [
       "                                          track_name       artist_name  \\\n",
       "0                                    Pure Verleiding     Arjon Oostrom   \n",
       "1  Beesten Van De Nacht (Official Sensation Waail...  Jeroen Van Zelst   \n",
       "2                                        De Woonboot        Stef Ekkel   \n",
       "3                             Daar Mot Een Piemel In       Johnny Gold   \n",
       "4                               Meisjes Van De Nacht       Rob Ronalds   \n",
       "\n",
       "   danceability  energy  key  loudness  mode  speechiness  acousticness  \\\n",
       "0         0.825   0.834    6    -7.363     1       0.1650         0.144   \n",
       "1         0.685   0.845    5    -7.719     1       0.0556         0.487   \n",
       "2         0.619   0.594    7    -7.626     1       0.0362         0.248   \n",
       "3         0.872   0.910    5    -3.216     1       0.0718         0.443   \n",
       "4         0.722   0.935    8    -4.975     0       0.0450         0.453   \n",
       "\n",
       "   instrumentalness  liveness  valence    tempo  duration_ms  genre  \n",
       "0            0.0000    0.0786    0.904  135.037       203799      0  \n",
       "1            0.0175    0.0632    0.651  154.953       145611      0  \n",
       "2            0.0000    0.3930    0.451   97.418       267093      2  \n",
       "3            0.0000    0.0721    0.966  123.956       155493      1  \n",
       "4            0.0000    0.0607    0.842  125.026       182307      1  "
      ]
     },
     "execution_count": 14,
     "metadata": {},
     "output_type": "execute_result"
    }
   ],
   "source": [
    "concatenated_df.head()"
   ]
  },
  {
   "cell_type": "code",
   "execution_count": 15,
   "metadata": {},
   "outputs": [],
   "source": [
    "Droplist = [\"track_name\",\"artist_name\",\"genre\"]\n",
    "\n",
    "X = concatenated_df.drop(Droplist,axis = 1)\n",
    "y = concatenated_df[\"genre\"]"
   ]
  },
  {
   "cell_type": "markdown",
   "metadata": {},
   "source": [
    "## Multinomial Logistic Regression Model\n",
    "\n",
    "\n",
    "https://www.datasklr.com/logistic-regression/multinomial-logistic-regression"
   ]
  },
  {
   "cell_type": "code",
   "execution_count": 16,
   "metadata": {},
   "outputs": [
    {
     "name": "stdout",
     "output_type": "stream",
     "text": [
      "(249543, 12)\n",
      "(62386, 12)\n",
      "(249543,)\n",
      "(62386,)\n"
     ]
    }
   ],
   "source": [
    "X_train, X_test, y_train, y_test = sklearn.model_selection.train_test_split(X, y, test_size = 0.20, random_state = 5)\n",
    "print(X_train.shape)\n",
    "print(X_test.shape)\n",
    "print(y_train.shape)\n",
    "print(y_test.shape)"
   ]
  },
  {
   "cell_type": "code",
   "execution_count": 17,
   "metadata": {},
   "outputs": [
    {
     "name": "stderr",
     "output_type": "stream",
     "text": [
      "D:\\AnacondaPython\\lib\\site-packages\\scipy\\optimize\\linesearch.py:477: LineSearchWarning: The line search algorithm did not converge\n",
      "  warn('The line search algorithm did not converge', LineSearchWarning)\n",
      "D:\\AnacondaPython\\lib\\site-packages\\scipy\\optimize\\linesearch.py:327: LineSearchWarning: The line search algorithm did not converge\n",
      "  warn('The line search algorithm did not converge', LineSearchWarning)\n"
     ]
    },
    {
     "name": "stdout",
     "output_type": "stream",
     "text": [
      "Wall time: 2min 2s\n"
     ]
    },
    {
     "name": "stderr",
     "output_type": "stream",
     "text": [
      "D:\\AnacondaPython\\lib\\site-packages\\sklearn\\utils\\optimize.py:211: ConvergenceWarning: newton-cg failed to converge. Increase the number of iterations.\n",
      "  warnings.warn(\"newton-cg failed to converge. Increase the \"\n"
     ]
    }
   ],
   "source": [
    "%%time\n",
    "\n",
    "#Took 2 minutes\n",
    "\n",
    "model1 = LogisticRegression(random_state=0, multi_class='multinomial', penalty='none', solver='newton-cg').fit(X_train, y_train)\n",
    "preds = model1.predict(X_test)"
   ]
  },
  {
   "cell_type": "code",
   "execution_count": 18,
   "metadata": {},
   "outputs": [
    {
     "data": {
      "text/plain": [
       "array([[18774,     0,  1825,   411,     0,     0],\n",
       "       [ 2280,    91,  6128,    77,     0,     0],\n",
       "       [ 4495,     1, 16887,   524,     0,     1],\n",
       "       [   67,     0,  1275,  2935,     0,     1],\n",
       "       [ 2168,    24,  1963,   170,     0,     0],\n",
       "       [  713,     0,  1125,   449,     0,     2]], dtype=int64)"
      ]
     },
     "execution_count": 18,
     "metadata": {},
     "output_type": "execute_result"
    }
   ],
   "source": [
    "#Create a confusion matrix\n",
    "#y_test as first argument and the preds as second argument \n",
    "confusion_matrix(y_test, preds)\n"
   ]
  },
  {
   "cell_type": "code",
   "execution_count": 19,
   "metadata": {},
   "outputs": [
    {
     "name": "stdout",
     "output_type": "stream",
     "text": [
      "Accuracy Score: 0.6201551630173436\n"
     ]
    }
   ],
   "source": [
    "print('Accuracy Score:', metrics.accuracy_score(y_test, preds))  "
   ]
  },
  {
   "cell_type": "code",
   "execution_count": 21,
   "metadata": {},
   "outputs": [
    {
     "name": "stdout",
     "output_type": "stream",
     "text": [
      "              precision    recall  f1-score   support\n",
      "\n",
      "           0       0.66      0.89      0.76     21010\n",
      "           1       0.78      0.01      0.02      8576\n",
      "           2       0.58      0.77      0.66     21908\n",
      "           3       0.64      0.69      0.66      4278\n",
      "           4       0.00      0.00      0.00      4325\n",
      "           5       0.50      0.00      0.00      2289\n",
      "\n",
      "    accuracy                           0.62     62386\n",
      "   macro avg       0.53      0.39      0.35     62386\n",
      "weighted avg       0.60      0.62      0.54     62386\n",
      "\n"
     ]
    }
   ],
   "source": [
    "class_report=classification_report(y_test, preds)\n",
    "print(class_report)"
   ]
  },
  {
   "cell_type": "markdown",
   "metadata": {},
   "source": [
    "## Normalized Data"
   ]
  },
  {
   "cell_type": "code",
   "execution_count": 23,
   "metadata": {},
   "outputs": [],
   "source": [
    "norm_X = preprocessing.scale(X)"
   ]
  },
  {
   "cell_type": "code",
   "execution_count": 26,
   "metadata": {},
   "outputs": [],
   "source": [
    "norm_X_train, norm_X_test, norm_y_train, norm_y_test = sklearn.model_selection.train_test_split(norm_X, y, test_size = 0.20, random_state = 5)"
   ]
  },
  {
   "cell_type": "code",
   "execution_count": 29,
   "metadata": {},
   "outputs": [
    {
     "name": "stdout",
     "output_type": "stream",
     "text": [
      "Wall time: 9min 53s\n"
     ]
    },
    {
     "name": "stderr",
     "output_type": "stream",
     "text": [
      "D:\\AnacondaPython\\lib\\site-packages\\sklearn\\utils\\optimize.py:211: ConvergenceWarning: newton-cg failed to converge. Increase the number of iterations.\n",
      "  warnings.warn(\"newton-cg failed to converge. Increase the \"\n"
     ]
    }
   ],
   "source": [
    "%%time\n",
    "\n",
    "#Took 10 minutes\n",
    "\n",
    "model2 = LogisticRegression(random_state=0, multi_class='multinomial', penalty='none', solver='newton-cg').fit(norm_X_train, norm_y_train)\n",
    "norm_preds = model2.predict(norm_X_test)"
   ]
  },
  {
   "cell_type": "code",
   "execution_count": 30,
   "metadata": {},
   "outputs": [
    {
     "data": {
      "text/plain": [
       "array([[20582,   196,    79,   129,     1,    23],\n",
       "       [   93,  8148,   274,    61,     0,     0],\n",
       "       [  233,    40, 21500,   116,     0,    19],\n",
       "       [   46,   156,   183,  3887,     0,     6],\n",
       "       [    0,     1,     0,     0,  4322,     2],\n",
       "       [   20,     0,    18,     8,     0,  2243]], dtype=int64)"
      ]
     },
     "execution_count": 30,
     "metadata": {},
     "output_type": "execute_result"
    }
   ],
   "source": [
    "#Create a confusion matrix\n",
    "#y_test as first argument and the preds as second argument \n",
    "confusion_matrix(norm_y_test, norm_preds)\n"
   ]
  },
  {
   "cell_type": "code",
   "execution_count": 31,
   "metadata": {},
   "outputs": [
    {
     "name": "stdout",
     "output_type": "stream",
     "text": [
      "Accuracy Score: 0.972686179591575\n"
     ]
    }
   ],
   "source": [
    "print('Accuracy Score:', metrics.accuracy_score(norm_y_test, norm_preds))  "
   ]
  },
  {
   "cell_type": "code",
   "execution_count": 32,
   "metadata": {},
   "outputs": [
    {
     "name": "stdout",
     "output_type": "stream",
     "text": [
      "              precision    recall  f1-score   support\n",
      "\n",
      "           0       0.66      0.89      0.76     21010\n",
      "           1       0.78      0.01      0.02      8576\n",
      "           2       0.58      0.77      0.66     21908\n",
      "           3       0.64      0.69      0.66      4278\n",
      "           4       0.00      0.00      0.00      4325\n",
      "           5       0.50      0.00      0.00      2289\n",
      "\n",
      "    accuracy                           0.62     62386\n",
      "   macro avg       0.53      0.39      0.35     62386\n",
      "weighted avg       0.60      0.62      0.54     62386\n",
      "\n"
     ]
    },
    {
     "name": "stderr",
     "output_type": "stream",
     "text": [
      "D:\\AnacondaPython\\lib\\site-packages\\sklearn\\metrics\\_classification.py:1221: UndefinedMetricWarning: Precision and F-score are ill-defined and being set to 0.0 in labels with no predicted samples. Use `zero_division` parameter to control this behavior.\n",
      "  _warn_prf(average, modifier, msg_start, len(result))\n"
     ]
    }
   ],
   "source": [
    "class_report=classification_report(y_test, preds)\n",
    "print(class_report)"
   ]
  }
 ],
 "metadata": {
  "kernelspec": {
   "display_name": "Python 3",
   "language": "python",
   "name": "python3"
  },
  "language_info": {
   "codemirror_mode": {
    "name": "ipython",
    "version": 3
   },
   "file_extension": ".py",
   "mimetype": "text/x-python",
   "name": "python",
   "nbconvert_exporter": "python",
   "pygments_lexer": "ipython3",
   "version": "3.8.3"
  }
 },
 "nbformat": 4,
 "nbformat_minor": 4
}
