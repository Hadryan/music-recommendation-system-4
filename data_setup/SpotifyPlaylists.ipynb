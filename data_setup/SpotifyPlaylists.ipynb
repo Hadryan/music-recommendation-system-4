{
 "metadata": {
  "language_info": {
   "codemirror_mode": {
    "name": "ipython",
    "version": 3
   },
   "file_extension": ".py",
   "mimetype": "text/x-python",
   "name": "python",
   "nbconvert_exporter": "python",
   "pygments_lexer": "ipython3",
   "version": "3.8.5-final"
  },
  "orig_nbformat": 2,
  "kernelspec": {
   "name": "python3",
   "display_name": "Python 3"
  }
 },
 "nbformat": 4,
 "nbformat_minor": 2,
 "cells": [
  {
   "source": [
    "# Fetch Playlists from Spotify API"
   ],
   "cell_type": "markdown",
   "metadata": {}
  },
  {
   "cell_type": "code",
   "execution_count": 1,
   "metadata": {},
   "outputs": [],
   "source": [
    "import json\n",
    "import spotipy\n",
    "from spotipy.oauth2 import SpotifyClientCredentials\n",
    "from tqdm import tqdm"
   ]
  },
  {
   "cell_type": "code",
   "execution_count": 2,
   "metadata": {
    "tags": []
   },
   "outputs": [
    {
     "output_type": "stream",
     "name": "stdout",
     "text": [
      "Example: ('italian violin', 'spotify:playlist:6Vf6P26sYyUqljb9e8Jy5b')\n"
     ]
    }
   ],
   "source": [
    "# Load data from spotify links\n",
    "with open('../data/spotify_links.json') as f:\n",
    "    data = json.load(f)\n",
    "    links = list(data.items())\n",
    "\n",
    "# Links consists of tuples of (genre, link)\n",
    "print('Example:', links[0])"
   ]
  },
  {
   "source": [
    "## Connect to Spotify API using Spotipy"
   ],
   "cell_type": "markdown",
   "metadata": {}
  },
  {
   "cell_type": "code",
   "execution_count": 3,
   "metadata": {},
   "outputs": [],
   "source": [
    "SPOTIPY_CLIENT_ID = \"f96a1f0e67bf41afa9c09b2da29d8c7c\"\n",
    "SPOTIPY_CLIENT_SECRET = \"3c726b5c74c643de83771882afc67d2f\"\n",
    "\n",
    "spotify = spotipy.Spotify(\n",
    "    client_credentials_manager=SpotifyClientCredentials(SPOTIPY_CLIENT_ID,SPOTIPY_CLIENT_SECRET),\n",
    "    requests_timeout=5)"
   ]
  },
  {
   "cell_type": "code",
   "execution_count": 4,
   "metadata": {
    "tags": []
   },
   "outputs": [
    {
     "output_type": "stream",
     "name": "stderr",
     "text": [
      "Fetching...: 100%|██████████| 5071/5071 [18:35<00:00,  4.55it/s]\n"
     ]
    }
   ],
   "source": [
    "# Fetch playlists and dump into json files by batch\n",
    "\n",
    "playlists = []\n",
    "failures = []\n",
    "\n",
    "for i in tqdm(range(len(links)), desc=\"Fetching...\"):\n",
    "    try:\n",
    "        playlist = spotify.playlist(links[i][1])\n",
    "        playlists.append(playlist)\n",
    "    except:\n",
    "        failures.append(links[i])"
   ]
  },
  {
   "cell_type": "code",
   "execution_count": 11,
   "metadata": {},
   "outputs": [],
   "source": [
    "## Format and save playlists to json\n",
    "newPlaylists = []\n",
    "\n",
    "for i, pl in enumerate(playlists):\n",
    "    try:\n",
    "        newData = dict()\n",
    "        newData['name'] = pl['name']\n",
    "        newData['uri'] = links[i][1]\n",
    "        newData['num_tracks'] = len(pl['tracks']['items'])\n",
    "        newData['tracks'] =  []\n",
    "        for item in pl['tracks']['items']:\n",
    "            newTrack = dict()\n",
    "            newTrack['artists'] = item['track']['artists']\n",
    "            newTrack['name'] = item['track']['name']\n",
    "            newTrack['uri'] = item['track']['uri']\n",
    "            newData['tracks'].append(newTrack)\n",
    "        newPlaylists.append(newData)      \n",
    "        if (i + 1) % 200 == 0:\n",
    "            begin = (i + 1) - 200\n",
    "            with open('../data/genre_playlists/playlists.{}-{}.json'.format(begin, i), 'w') as outfile:\n",
    "                json.dump(newPlaylists, outfile, indent=4)\n",
    "            newPlaylists = []\n",
    "        elif i == len(playlists) - 1:\n",
    "            begin = i - (i + 1) % 200\n",
    "            with open('../data/genre_playlists/playlists.{}-{}.json'.format(begin, i), 'w') as outfile:\n",
    "                json.dump(newPlaylists, outfile, indent=4)\n",
    "            newPlaylists = []\n",
    "    except:\n",
    "        pass"
   ]
  },
  {
   "cell_type": "code",
   "execution_count": null,
   "metadata": {},
   "outputs": [],
   "source": []
  }
 ]
}