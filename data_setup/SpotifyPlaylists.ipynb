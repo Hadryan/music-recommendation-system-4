{
 "metadata": {
  "language_info": {
   "codemirror_mode": {
    "name": "ipython",
    "version": 3
   },
   "file_extension": ".py",
   "mimetype": "text/x-python",
   "name": "python",
   "nbconvert_exporter": "python",
   "pygments_lexer": "ipython3",
   "version": "3.8.5-final"
  },
  "orig_nbformat": 2,
  "kernelspec": {
   "name": "python3",
   "display_name": "Python 3",
   "language": "python"
  }
 },
 "nbformat": 4,
 "nbformat_minor": 2,
 "cells": [
  {
   "source": [
    "# Fetch Playlists from Spotify API"
   ],
   "cell_type": "markdown",
   "metadata": {}
  },
  {
   "cell_type": "code",
   "execution_count": 25,
   "metadata": {},
   "outputs": [],
   "source": [
    "import json\n",
    "import spotipy\n",
    "from spotipy.oauth2 import SpotifyClientCredentials\n",
    "from tqdm import tqdm\n",
    "from multiprocessing.pool import ThreadPool"
   ]
  },
  {
   "cell_type": "code",
   "execution_count": 26,
   "metadata": {
    "tags": []
   },
   "outputs": [
    {
     "output_type": "stream",
     "name": "stdout",
     "text": [
      "Example: ('italian violin', 'spotify:playlist:6Vf6P26sYyUqljb9e8Jy5b')\n"
     ]
    }
   ],
   "source": [
    "# Load data from spotify links\n",
    "with open('../data/spotify_links.json') as f:\n",
    "    data = json.load(f)\n",
    "    links = list(data.items())\n",
    "\n",
    "# Links consists of tuples of (genre, link)\n",
    "print('Example:', links[0])"
   ]
  },
  {
   "source": [
    "## Connect to Spotify API using Spotipy"
   ],
   "cell_type": "markdown",
   "metadata": {}
  },
  {
   "cell_type": "code",
   "execution_count": 27,
   "metadata": {},
   "outputs": [],
   "source": [
    "SPOTIPY_CLIENT_ID = \"f96a1f0e67bf41afa9c09b2da29d8c7c\"\n",
    "SPOTIPY_CLIENT_SECRET = \"3c726b5c74c643de83771882afc67d2f\"\n",
    "\n",
    "spotify = spotipy.Spotify(\n",
    "    client_credentials_manager=SpotifyClientCredentials(SPOTIPY_CLIENT_ID,SPOTIPY_CLIENT_SECRET),\n",
    "    requests_timeout=5)"
   ]
  },
  {
   "cell_type": "code",
   "execution_count": 28,
   "metadata": {
    "tags": []
   },
   "outputs": [],
   "source": [
    "# Fetch playlists by batch\n",
    "\n",
    "def getPlaylist(links, playlists, failures, threadName):\n",
    "    with tqdm(total=len(links), position=1, desc=threadName) as pbar:\n",
    "        for i in range(len(links)):\n",
    "            try:\n",
    "                playlist = spotify.playlist(links[i][1])\n",
    "                playlists.append(playlist)\n",
    "            except:\n",
    "                failures.append(links[i][0])\n",
    "            if(i > 0 and (i+1) % 50 == 0):\n",
    "                pbar.update(50)\n",
    "            elif(i == len(links) - 1):\n",
    "                pbar.update(len(links) % 50)"
   ]
  },
  {
   "cell_type": "code",
   "execution_count": 29,
   "metadata": {},
   "outputs": [],
   "source": [
    "#Divide links into 6 chunks\n",
    "chunk_indices = []\n",
    "\n",
    "for i in range(0, len(links) - len(links) % 1000, 1000):\n",
    "    chunk_indices.append((i, i + 1000))\n",
    "\n",
    "chunk_indices.append((len(links) - len(links) % 1000, len(links)))"
   ]
  },
  {
   "cell_type": "code",
   "execution_count": 30,
   "metadata": {},
   "outputs": [
    {
     "output_type": "stream",
     "name": "stderr",
     "text": [
      "\n",
      "Thread 1:   0%|          | 0/1000 [00:00<?, ?it/s]\u001b[A\n",
      "Thread 2:   0%|          | 0/1000 [00:00<?, ?it/s]\u001b[A\n",
      "Thread 6:   0%|          | 0/71 [00:00<?, ?it/s]\u001b[A\n",
      "Thread 4:   0%|          | 0/1000 [00:00<?, ?it/s]\u001b[A\n",
      "Thread 5:   0%|          | 0/1000 [00:00<?, ?it/s]\u001b[A\n",
      "Thread 3:   0%|          | 0/1000 [00:00<?, ?it/s]\u001b[A\n",
      "Thread 4:   5%|▌         | 50/1000 [00:16<05:21,  2.96it/s]\u001b[A\n",
      "Thread 3:   5%|▌         | 50/1000 [00:16<05:21,  2.96it/s]\u001b[A\n",
      "Thread 6:  70%|███████   | 50/71 [00:17<00:07,  2.89it/s]\u001b[A\n",
      "Thread 1:   5%|▌         | 50/1000 [00:18<05:42,  2.78it/s]\u001b[A\n",
      "Thread 5:   5%|▌         | 50/1000 [00:24<07:44,  2.04it/s]\u001b[A\n",
      "Thread 2:   5%|▌         | 50/1000 [00:25<08:02,  1.97it/s]\u001b[A\n",
      "Thread 6: 100%|██████████| 71/71 [00:27<00:00,  2.54it/s]\n",
      "\n",
      "Thread 3:  10%|█         | 100/1000 [00:46<06:13,  2.41it/s]\u001b[A\n",
      "Thread 5:  10%|█         | 100/1000 [00:46<07:09,  2.10it/s]\u001b[A\n",
      "Thread 4:  10%|█         | 100/1000 [00:46<06:15,  2.40it/s]\u001b[A\n",
      "Thread 1:  10%|█         | 100/1000 [00:47<06:24,  2.34it/s]\u001b[A\n",
      "Thread 2:  10%|█         | 100/1000 [00:48<07:22,  2.03it/s]\u001b[A\n",
      "Thread 3:  15%|█▌        | 150/1000 [01:07<05:55,  2.39it/s]\u001b[A\n",
      "Thread 4:  15%|█▌        | 150/1000 [01:08<05:58,  2.37it/s]\u001b[A\n",
      "Thread 2:  15%|█▌        | 150/1000 [01:14<07:08,  1.98it/s]\u001b[A\n",
      "Thread 5:  15%|█▌        | 150/1000 [01:14<07:07,  1.99it/s]\u001b[A\n",
      "Thread 1:  15%|█▌        | 150/1000 [01:15<06:38,  2.13it/s]\u001b[A\n",
      "Thread 3:  20%|██        | 200/1000 [01:35<06:07,  2.18it/s]\u001b[A\n",
      "Thread 2:  20%|██        | 200/1000 [01:36<06:26,  2.07it/s]\u001b[A\n",
      "Thread 5:  20%|██        | 200/1000 [01:36<06:25,  2.08it/s]\u001b[A\n",
      "Thread 4:  20%|██        | 200/1000 [01:36<06:10,  2.16it/s]\u001b[A\n",
      "Thread 1:  20%|██        | 200/1000 [01:37<06:06,  2.18it/s]\u001b[A\n",
      "Thread 2:  25%|██▌       | 250/1000 [01:58<05:52,  2.13it/s]\u001b[A\n",
      "Thread 3:  25%|██▌       | 250/1000 [01:58<05:43,  2.18it/s]\u001b[A\n",
      "Thread 5:  25%|██▌       | 250/1000 [01:58<05:51,  2.14it/s]\u001b[A\n",
      "Thread 4:  25%|██▌       | 250/1000 [01:58<05:41,  2.20it/s]\u001b[A\n",
      "Thread 1:  25%|██▌       | 250/1000 [01:58<05:38,  2.22it/s]\u001b[A\n",
      "Thread 3:  30%|███       | 300/1000 [02:25<05:36,  2.08it/s]\u001b[A\n",
      "Thread 2:  30%|███       | 300/1000 [02:25<05:43,  2.04it/s]\u001b[A\n",
      "Thread 1:  30%|███       | 300/1000 [02:25<05:34,  2.10it/s]\u001b[A\n",
      "Thread 4:  30%|███       | 300/1000 [02:26<05:38,  2.07it/s]\u001b[A\n",
      "Thread 5:  30%|███       | 300/1000 [02:26<05:46,  2.02it/s]\u001b[A\n",
      "Thread 2:  35%|███▌      | 350/1000 [02:48<05:11,  2.08it/s]\u001b[A\n",
      "Thread 3:  35%|███▌      | 350/1000 [02:48<05:08,  2.11it/s]\u001b[A\n",
      "Thread 1:  35%|███▌      | 350/1000 [02:48<05:04,  2.14it/s]\u001b[A\n",
      "Thread 4:  35%|███▌      | 350/1000 [02:49<05:11,  2.09it/s]\u001b[A\n",
      "Thread 5:  35%|███▌      | 350/1000 [02:49<05:16,  2.05it/s]\u001b[A\n",
      "Thread 2:  40%|████      | 400/1000 [03:07<04:33,  2.20it/s]\u001b[A\n",
      "Thread 3:  40%|████      | 400/1000 [03:14<04:55,  2.03it/s]\u001b[A\n",
      "Thread 1:  40%|████      | 400/1000 [03:15<04:55,  2.03it/s]\u001b[A\n",
      "Thread 5:  40%|████      | 400/1000 [03:16<05:01,  1.99it/s]\u001b[A\n",
      "Thread 4:  40%|████      | 400/1000 [03:17<05:00,  2.00it/s]\u001b[A\n",
      "Thread 2:  45%|████▌     | 450/1000 [03:35<04:25,  2.07it/s]\u001b[A\n",
      "Thread 3:  45%|████▌     | 450/1000 [03:36<04:20,  2.11it/s]\u001b[A\n",
      "Thread 1:  45%|████▌     | 450/1000 [03:37<04:20,  2.11it/s]\u001b[A\n",
      "Thread 5:  45%|████▌     | 450/1000 [03:38<04:24,  2.08it/s]\u001b[A\n",
      "Thread 4:  45%|████▌     | 450/1000 [03:38<04:23,  2.09it/s]\u001b[A\n",
      "Thread 2:  50%|█████     | 500/1000 [03:57<03:55,  2.12it/s]\u001b[A\n",
      "Thread 3:  50%|█████     | 500/1000 [03:58<03:52,  2.15it/s]\u001b[A\n",
      "Thread 1:  50%|█████     | 500/1000 [03:59<03:52,  2.15it/s]\u001b[A\n",
      "Thread 5:  50%|█████     | 500/1000 [04:06<04:12,  1.98it/s]\u001b[A\n",
      "Thread 4:  50%|█████     | 500/1000 [04:06<04:12,  1.98it/s]\u001b[A\n",
      "Thread 2:  55%|█████▌    | 550/1000 [04:20<03:30,  2.14it/s]\u001b[A\n",
      "Thread 3:  55%|█████▌    | 550/1000 [04:25<03:40,  2.04it/s]\u001b[A\n",
      "Thread 1:  55%|█████▌    | 550/1000 [04:26<03:40,  2.04it/s]\u001b[A\n",
      "Thread 5:  55%|█████▌    | 550/1000 [04:28<03:39,  2.05it/s]\u001b[A\n",
      "Thread 4:  55%|█████▌    | 550/1000 [04:28<03:38,  2.06it/s]\u001b[A\n",
      "Thread 2:  60%|██████    | 600/1000 [04:45<03:12,  2.08it/s]\u001b[A\n",
      "Thread 3:  60%|██████    | 600/1000 [04:47<03:08,  2.12it/s]\u001b[A\n",
      "Thread 1:  60%|██████    | 600/1000 [04:55<03:25,  1.94it/s]\u001b[A\n",
      "Thread 5:  60%|██████    | 600/1000 [04:55<03:21,  1.98it/s]\u001b[A\n",
      "Thread 4:  60%|██████    | 600/1000 [04:56<03:22,  1.98it/s]\u001b[A\n",
      "Thread 2:  65%|██████▌   | 650/1000 [05:08<02:45,  2.11it/s]\u001b[A\n",
      "Thread 3:  65%|██████▌   | 650/1000 [05:14<02:52,  2.03it/s]\u001b[A\n",
      "Thread 1:  65%|██████▌   | 650/1000 [05:17<02:52,  2.03it/s]\u001b[A\n",
      "Thread 5:  65%|██████▌   | 650/1000 [05:17<02:49,  2.07it/s]\u001b[A\n",
      "Thread 4:  65%|██████▌   | 650/1000 [05:18<02:50,  2.06it/s]\u001b[A\n",
      "Thread 2:  70%|███████   | 700/1000 [05:35<02:27,  2.03it/s]\u001b[A\n",
      "Thread 3:  70%|███████   | 700/1000 [05:36<02:23,  2.09it/s]\u001b[A\n",
      "Thread 1:  70%|███████   | 700/1000 [05:44<02:32,  1.96it/s]\u001b[A\n",
      "Thread 5:  70%|███████   | 700/1000 [05:45<02:31,  1.98it/s]\u001b[A\n",
      "Thread 4:  70%|███████   | 700/1000 [05:45<02:31,  1.98it/s]\u001b[A\n",
      "Thread 2:  75%|███████▌  | 750/1000 [05:57<01:59,  2.10it/s]\u001b[A\n",
      "Thread 3:  75%|███████▌  | 750/1000 [05:58<01:56,  2.15it/s]\u001b[A\n",
      "Thread 5:  75%|███████▌  | 750/1000 [06:07<02:01,  2.06it/s]\u001b[A\n",
      "Thread 1:  75%|███████▌  | 750/1000 [06:07<02:03,  2.03it/s]\u001b[A\n",
      "Thread 4:  75%|███████▌  | 750/1000 [06:07<02:01,  2.06it/s]\u001b[A\n",
      "Thread 3:  80%|████████  | 800/1000 [06:24<01:36,  2.06it/s]\u001b[A\n",
      "Thread 2:  80%|████████  | 800/1000 [06:24<01:39,  2.01it/s]\u001b[A\n",
      "Thread 5:  80%|████████  | 800/1000 [06:34<01:40,  1.98it/s]\u001b[A\n",
      "Thread 4:  80%|████████  | 800/1000 [06:35<01:40,  1.98it/s]\u001b[A\n",
      "Thread 1:  80%|████████  | 800/1000 [06:36<01:43,  1.94it/s]\u001b[A\n",
      "Thread 2:  85%|████████▌ | 850/1000 [06:47<01:12,  2.08it/s]\u001b[A\n",
      "Thread 3:  85%|████████▌ | 850/1000 [06:47<01:11,  2.11it/s]\u001b[A\n",
      "Thread 5:  85%|████████▌ | 850/1000 [06:56<01:12,  2.07it/s]\u001b[A\n",
      "Thread 4:  85%|████████▌ | 850/1000 [06:57<01:12,  2.06it/s]\u001b[A\n",
      "Thread 1:  85%|████████▌ | 850/1000 [06:58<01:14,  2.03it/s]\u001b[A\n",
      "Thread 3:  90%|█████████ | 900/1000 [07:08<00:46,  2.17it/s]\u001b[A\n",
      "Thread 2:  90%|█████████ | 900/1000 [07:15<00:50,  1.98it/s]\u001b[A\n",
      "Thread 5:  90%|█████████ | 900/1000 [07:17<00:46,  2.15it/s]\u001b[A\n",
      "Thread 4:  90%|█████████ | 900/1000 [07:24<00:50,  1.99it/s]\u001b[A\n",
      "Thread 1:  90%|█████████ | 900/1000 [07:26<00:51,  1.95it/s]\u001b[A\n",
      "Thread 3:  95%|█████████▌| 950/1000 [07:35<00:24,  2.07it/s]\u001b[A\n",
      "Thread 2:  95%|█████████▌| 950/1000 [07:37<00:24,  2.04it/s]\u001b[A\n",
      "Thread 5:  95%|█████████▌| 950/1000 [07:45<00:24,  2.04it/s]\u001b[A\n",
      "Thread 4:  95%|█████████▌| 950/1000 [07:46<00:24,  2.06it/s]\u001b[A\n",
      "Thread 1:  95%|█████████▌| 950/1000 [07:48<00:24,  2.03it/s]\u001b[A\n",
      "Thread 3: 100%|██████████| 1000/1000 [07:57<00:00,  2.09it/s]\n",
      "\n",
      "Thread 2: 100%|██████████| 1000/1000 [08:04<00:00,  2.06it/s]\n",
      "\n",
      "Thread 5: 100%|██████████| 1000/1000 [08:06<00:00,  2.06it/s]\n",
      "\n",
      "Thread 4: 100%|██████████| 1000/1000 [08:08<00:00,  2.04it/s]\n",
      "\n",
      "Thread 1: 100%|██████████| 1000/1000 [08:10<00:00,  2.04it/s]\n"
     ]
    }
   ],
   "source": [
    "#Create a list of the playlists\n",
    "playlists = []\n",
    "failures = []\n",
    "\n",
    "#Begin thread pool\n",
    "pool = ThreadPool(len(chunk_indices))\n",
    "\n",
    "#Thread creations, each thread runs on a chunk of links\n",
    "for t in range(len(chunk_indices)):\n",
    "    pool.apply_async(getPlaylist, args=(links[chunk_indices[t][0]: chunk_indices[t][1]], playlists, failures, \"Thread {}\".format(t+1)))\n",
    "\n",
    "#Start the threads in pool\n",
    "pool.close()\n",
    "pool.join()"
   ]
  },
  {
   "cell_type": "code",
   "execution_count": 31,
   "metadata": {},
   "outputs": [],
   "source": [
    "## Format and save playlists to json\n",
    "newPlaylists = []\n",
    "failedPlaylists = []\n",
    "\n",
    "for i, pl in enumerate(playlists):\n",
    "    try:\n",
    "        newData = dict()\n",
    "        newData['name'] = pl['name']\n",
    "        newData['genre'] = links[i][0]\n",
    "        newData['uri'] = links[i][1]\n",
    "        newData['num_tracks'] = len(pl['tracks']['items'])\n",
    "        newData['tracks'] =  []\n",
    "        for item in pl['tracks']['items']:\n",
    "            newTrack = dict()\n",
    "            newTrack['artists'] = item['track']['artists']\n",
    "            newTrack['name'] = item['track']['name']\n",
    "            newTrack['uri'] = item['track']['uri']\n",
    "            newData['tracks'].append(newTrack)\n",
    "        newPlaylists.append(newData)      \n",
    "        if (i + 1) % 200 == 0:\n",
    "            begin = (i + 1) - 200\n",
    "            with open('../data/genre_playlists/playlists.{}-{}.json'.format(begin, i), 'w') as outfile:\n",
    "                json.dump(newPlaylists, outfile, indent=4)\n",
    "            newPlaylists = []\n",
    "        elif i == len(playlists) - 1:\n",
    "            begin = i - (i + 1) % 200\n",
    "            with open('../data/genre_playlists/playlists.{}-{}.json'.format(begin, i), 'w') as outfile:\n",
    "                json.dump(newPlaylists, outfile, indent=4)\n",
    "            newPlaylists = []\n",
    "    except:\n",
    "        failedPlaylists.append(i)"
   ]
  },
  {
   "cell_type": "code",
   "execution_count": 33,
   "metadata": {
    "tags": []
   },
   "outputs": [
    {
     "output_type": "stream",
     "name": "stdout",
     "text": [
      "[]\n[50, 320, 380, 1118, 1242, 1295, 1479, 1647, 1706, 1707, 1920, 2063, 2165, 2335, 2448, 2625, 3088, 3188, 3382, 3414, 3511, 3558, 3643, 3836, 4102, 4115, 4198, 4277, 4332, 4581, 4604, 4807, 4852, 4976, 4996, 5015]\n36\n"
     ]
    }
   ],
   "source": [
    "print('Fetch failures:', failures)\n",
    "print('Playlists that failed to format:', failedPlaylists)\n",
    "print('Total playlists failed to format:', len(failedPlaylists))"
   ]
  },
  {
   "cell_type": "code",
   "execution_count": null,
   "metadata": {},
   "outputs": [],
   "source": []
  }
 ]
}