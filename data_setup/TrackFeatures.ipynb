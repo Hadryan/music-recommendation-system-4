{
 "metadata": {
  "language_info": {
   "codemirror_mode": {
    "name": "ipython",
    "version": 3
   },
   "file_extension": ".py",
   "mimetype": "text/x-python",
   "name": "python",
   "nbconvert_exporter": "python",
   "pygments_lexer": "ipython3",
   "version": "3.8.5-final"
  },
  "orig_nbformat": 2,
  "kernelspec": {
   "name": "python3",
   "display_name": "Python 3",
   "language": "python"
  }
 },
 "nbformat": 4,
 "nbformat_minor": 2,
 "cells": [
  {
   "source": [
    "# Fetch Tracks Features from Spotify API"
   ],
   "cell_type": "markdown",
   "metadata": {}
  },
  {
   "cell_type": "code",
   "execution_count": 1,
   "metadata": {},
   "outputs": [],
   "source": [
    "import json\n",
    "from pathlib import Path\n",
    "import spotipy\n",
    "from spotipy.oauth2 import SpotifyClientCredentials\n",
    "from tqdm import tqdm\n",
    "from multiprocessing.pool import ThreadPool\n",
    "import numpy as np"
   ]
  },
  {
   "source": [
    "## Load Data"
   ],
   "cell_type": "markdown",
   "metadata": {}
  },
  {
   "cell_type": "code",
   "execution_count": 2,
   "metadata": {},
   "outputs": [],
   "source": [
    "data_folder = Path(\"../data/genre_playlists/\").glob('**/*')\n",
    "files = [x for x in data_folder if x.is_file()]"
   ]
  },
  {
   "source": [
    "## Fetch Unique Tracks and Their Embeddings\n",
    "\n",
    "### Read and load tracks from each playlist"
   ],
   "cell_type": "markdown",
   "metadata": {}
  },
  {
   "cell_type": "code",
   "execution_count": 3,
   "metadata": {},
   "outputs": [],
   "source": [
    "def getSongURIs(playlist, songs):\n",
    "    for track in playlist['tracks']:\n",
    "        songs[track['name']] = (track['artists'][0]['name'], track['uri'])\n",
    "        "
   ]
  },
  {
   "cell_type": "code",
   "execution_count": 4,
   "metadata": {},
   "outputs": [
    {
     "output_type": "stream",
     "name": "stdout",
     "text": [
      "Total unique songs: 337130\nTotal songs: 492862\nTotal playlists: 5035\nCPU times: user 3.66 s, sys: 359 ms, total: 4.02 s\nWall time: 4.03 s\n"
     ]
    }
   ],
   "source": [
    "%%time\n",
    "\n",
    "#Create a dictinary of {track name: (artist name, track uri)}\n",
    "tracks = dict()\n",
    "totalTracks = 0\n",
    "totalPlaylists = 0\n",
    "\n",
    "#Read files and update tracks\n",
    "for file in files:\n",
    "    with open(file) as f:\n",
    "        data = json.load(f)\n",
    "        for playlist in data:\n",
    "            totalTracks += playlist['num_tracks']\n",
    "            totalPlaylists += 1\n",
    "            getSongURIs(playlist, tracks)\n",
    "\n",
    "print('Total unique songs:', len(tracks))\n",
    "print('Total songs:', totalTracks)\n",
    "print('Total playlists:', totalPlaylists)\n"
   ]
  },
  {
   "source": [
    "### Fetch song features using uri"
   ],
   "cell_type": "markdown",
   "metadata": {}
  },
  {
   "cell_type": "code",
   "execution_count": 5,
   "metadata": {},
   "outputs": [],
   "source": [
    "SPOTIPY_CLIENT_ID = \"f96a1f0e67bf41afa9c09b2da29d8c7c\"\n",
    "SPOTIPY_CLIENT_SECRET = \"3c726b5c74c643de83771882afc67d2f\"\n",
    "\n",
    "spotify = spotipy.Spotify(\n",
    "    client_credentials_manager=SpotifyClientCredentials(SPOTIPY_CLIENT_ID,SPOTIPY_CLIENT_SECRET),\n",
    "    requests_timeout=5)"
   ]
  },
  {
   "cell_type": "code",
   "execution_count": 6,
   "metadata": {},
   "outputs": [],
   "source": [
    "#Divid tracks into chunks\n",
    "chunk_indices = []\n",
    "\n",
    "for i in range(0, len(tracks) - len(tracks) % 50000, 50000):\n",
    "    chunk_indices.append((i, i + 50000))\n",
    "\n",
    "chunk_indices.append((len(tracks) - len(tracks) % 50000, len(tracks)))"
   ]
  },
  {
   "cell_type": "code",
   "execution_count": 7,
   "metadata": {},
   "outputs": [
    {
     "output_type": "stream",
     "name": "stderr",
     "text": [
      "100%|██████████| 337130/337130 [9:18:45<00:00, 10.06it/s]\n"
     ]
    }
   ],
   "source": [
    "#Fetch song features by batch\n",
    "track_items = list(tracks.items())\n",
    "failed_tracks = []\n",
    "\n",
    "#Create a list of track features\n",
    "track_features = []\n",
    "for i in tqdm(range(len(track_items))):\n",
    "    item = track_items[i]\n",
    "    try:\n",
    "        features = spotify.audio_features(item[1][1])\n",
    "        new_features = []\n",
    "        new_features.append(item[0])   # track name\n",
    "        new_features.append(item[1][0]) # artist name\n",
    "        new_features.append(features[0]['danceability'])  # danceability\n",
    "        new_features.append(features[0]['energy'])    # energy\n",
    "        new_features.append(features[0]['key'])   # key\n",
    "        new_features.append(features[0]['loudness'])    # loudness\n",
    "        new_features.append(features[0]['mode'])    # mode\n",
    "        new_features.append(features[0]['speechiness'])    # speechiness\n",
    "        new_features.append(features[0]['acousticness'])    # acousticness\n",
    "        new_features.append(features[0]['instrumentalness'])    # instrumentalness\n",
    "        new_features.append(features[0]['liveness'])    # liveness\n",
    "        new_features.append(features[0]['valence']) # valence\n",
    "        new_features.append(features[0]['tempo'])    # tempo\n",
    "        new_features.append(features[0]['duration_ms']) # duration_ms\n",
    "        track_features.append(new_features)\n",
    "    except:\n",
    "        failed_tracks.append(item)"
   ]
  },
  {
   "cell_type": "code",
   "execution_count": 8,
   "metadata": {},
   "outputs": [
    {
     "output_type": "stream",
     "name": "stdout",
     "text": [
      "[('Chaser', ('Ill Vision', 'spotify:track:66lnY4uOKVwQ5RS4VpdZYJ')), ('سورة البقرة', ('Sheikh Mohamed al Tablawi', 'spotify:track:0kbMIeWpfvpcHPSz01qELI')), ('Midnight With Bird-Voiced Treefrogs and Cattle', ('David Michael', 'spotify:track:7Dzc44TMgUkuT4vJgzrmF0'))]\n"
     ]
    }
   ],
   "source": [
    "print(failed_tracks)"
   ]
  },
  {
   "source": [
    "### Saving to CSV"
   ],
   "cell_type": "markdown",
   "metadata": {}
  },
  {
   "cell_type": "code",
   "execution_count": 12,
   "metadata": {},
   "outputs": [],
   "source": [
    "#Divide data chunks\n",
    "chunk_indices = []\n",
    "\n",
    "for i in range(0, len(track_features) - len(track_features) % 10000, 10000):\n",
    "    chunk_indices.append((i, i + 10000))\n",
    "\n",
    "chunk_indices.append((len(track_features) - len(track_features) % 10000, len(track_features)))\n"
   ]
  },
  {
   "cell_type": "code",
   "execution_count": 13,
   "metadata": {},
   "outputs": [],
   "source": [
    "#Write to CSV\n",
    "import csv\n",
    "\n",
    "for t in chunk_indices:\n",
    "    with open('../data/track_features/features.{}-{}.csv'.format(t[0], t[1]), 'w+') as csvFile:\n",
    "        csvWriter = csv.writer(csvFile, delimiter=',')\n",
    "        csvWriter.writerow(['track_name', 'artist_name', 'danceability', 'energy', 'key', 'loudness', 'mode', 'speechiness', 'acousticness', 'instrumentalness', 'liveness', 'valence', 'tempo', 'duration_ms'])\n",
    "        csvWriter.writerows(track_features[t[0]:t[1]])"
   ]
  },
  {
   "cell_type": "code",
   "execution_count": null,
   "metadata": {},
   "outputs": [],
   "source": []
  }
 ]
}