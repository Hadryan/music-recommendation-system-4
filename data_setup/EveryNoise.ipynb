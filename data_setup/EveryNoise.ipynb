{
 "metadata": {
  "language_info": {
   "codemirror_mode": {
    "name": "ipython",
    "version": 3
   },
   "file_extension": ".py",
   "mimetype": "text/x-python",
   "name": "python",
   "nbconvert_exporter": "python",
   "pygments_lexer": "ipython3",
   "version": "3.8.5-final"
  },
  "orig_nbformat": 2,
  "kernelspec": {
   "name": "python3",
   "display_name": "Python 3"
  }
 },
 "nbformat": 4,
 "nbformat_minor": 2,
 "cells": [
  {
   "source": [
    "# Web Scraping: EveryNoise.com\n",
    "\n",
    "source: [http://everynoise.com/everynoise1d.cgi?scope=all]\n",
    "\n"
   ],
   "cell_type": "markdown",
   "metadata": {}
  },
  {
   "cell_type": "code",
   "execution_count": 1,
   "metadata": {},
   "outputs": [],
   "source": [
    "from bs4 import BeautifulSoup\n",
    "import requests, sys\n",
    "from collections import defaultdict\n",
    "from multiprocessing.pool import ThreadPool\n",
    "from tqdm import tqdm\n",
    "import json"
   ]
  },
  {
   "cell_type": "code",
   "execution_count": 2,
   "metadata": {},
   "outputs": [],
   "source": [
    "## Request HTML\n",
    "\n",
    "r = requests.get('http://everynoise.com/everynoise1d.cgi?vector=popularity&scope=all')"
   ]
  },
  {
   "cell_type": "code",
   "execution_count": 3,
   "metadata": {
    "tags": []
   },
   "outputs": [
    {
     "output_type": "stream",
     "name": "stdout",
     "text": [
      "Total genres: 5071\nFirst ten genres:\n ['pop', 'dance pop', 'rap', 'pop dance', 'pop rap', 'rock', 'post-teen pop', 'latin', 'hip hop', 'trap']\n"
     ]
    }
   ],
   "source": [
    "## Parse Genre HTML Elements\n",
    "soup = BeautifulSoup(r.text, \"html.parser\")\n",
    "table = soup.body.table\n",
    "elements = table.find_all('td', 'note')\n",
    "genres = []\n",
    "for i, row in enumerate(elements):\n",
    "    if i % 2:\n",
    "        genres.append(row.contents[0].contents[0])\n",
    "print(\"Total genres:\", len(genres))\n",
    "print(\"First ten genres:\\n\", genres[:10])"
   ]
  },
  {
   "cell_type": "code",
   "execution_count": 4,
   "metadata": {},
   "outputs": [],
   "source": [
    "## Request Playlist HTMLs and extract link\n",
    "\n",
    "def requestPlaylists(genres, links, threadName):\n",
    "    spotifyLinks = dict()\n",
    "    with tqdm(total=len(genres), position=1, desc=threadName) as pbar:\n",
    "        for i in range(len(genres)):\n",
    "            playlist_r = requests.get('http://everynoise.com/everynoise1d.cgi?root={}&scope=all'.format(genres[i]))\n",
    "            soup = BeautifulSoup(playlist_r.text, \"html.parser\")\n",
    "            playlistLink = soup.find_all(id='spotifylink')\n",
    "            spotifyLinks[genres[i]] = playlistLink[0]['href']\n",
    "            if(i > 0 and (i+1) % 50 == 0):\n",
    "                pbar.update(50)\n",
    "            elif(i == len(genres) - 1):\n",
    "                pbar.update(len(genres) % 50)\n",
    "    links.update(spotifyLinks)\n",
    "    print(threadName, ' completed.')"
   ]
  },
  {
   "cell_type": "code",
   "execution_count": 5,
   "metadata": {},
   "outputs": [],
   "source": [
    "## Split genres into chunks\n",
    "\n",
    "chunk_indices = []\n",
    "\n",
    "for i in range(0, len(genres) - len(genres) % 1000, 1000):\n",
    "    chunk_indices.append((i, i + 1000))\n",
    "\n",
    "chunk_indices.append((len(genres) - len(genres) % 1000, len(genres)))\n"
   ]
  },
  {
   "cell_type": "code",
   "execution_count": 6,
   "metadata": {
    "tags": []
   },
   "outputs": [
    {
     "output_type": "stream",
     "name": "stderr",
     "text": [
      "\n",
      "Thread 2:   0%|          | 0/1000 [00:00<?, ?it/s]\u001b[A\n",
      "Thread 1:   0%|          | 0/1000 [00:00<?, ?it/s]\u001b[A\n",
      "Thread 3:   0%|          | 0/1000 [00:00<?, ?it/s]\u001b[A\n",
      "Thread 6:   0%|          | 0/71 [00:00<?, ?it/s]\u001b[A\n",
      "Thread 4:   0%|          | 0/1000 [00:00<?, ?it/s]\u001b[A\n",
      "Thread 5:   0%|          | 0/1000 [00:00<?, ?it/s]\u001b[A\n",
      "Thread 3:   5%|▌         | 50/1000 [06:35<2:05:13,  7.91s/it]\u001b[A\n",
      "Thread 4:   5%|▌         | 50/1000 [06:52<2:10:38,  8.25s/it]\u001b[A\n",
      "Thread 5:   5%|▌         | 50/1000 [07:10<2:16:26,  8.62s/it]\u001b[A\n",
      "Thread 6:  70%|███████   | 50/71 [07:11<03:01,  8.63s/it]\u001b[A\n",
      "Thread 2:   5%|▌         | 50/1000 [07:14<2:17:28,  8.68s/it]\u001b[A\n",
      "Thread 1:   5%|▌         | 50/1000 [07:26<2:21:16,  8.92s/it]\u001b[A\n",
      "Thread 6: 100%|██████████| 71/71 [10:13<00:00,  8.64s/it]\n",
      "Thread 6  completed.\n",
      "\n",
      "Thread 3:  10%|█         | 100/1000 [12:53<1:57:06,  7.81s/it]\u001b[A\n",
      "Thread 4:  10%|█         | 100/1000 [13:14<2:00:59,  8.07s/it]\u001b[A\n",
      "Thread 5:  10%|█         | 100/1000 [13:33<2:04:54,  8.33s/it]\u001b[A\n",
      "Thread 2:  10%|█         | 100/1000 [14:12<2:08:49,  8.59s/it]\u001b[A\n",
      "Thread 1:  10%|█         | 100/1000 [14:15<2:10:31,  8.70s/it]\u001b[A\n",
      "Thread 3:  15%|█▌        | 150/1000 [18:27<1:45:47,  7.47s/it]\u001b[A\n",
      "Thread 4:  15%|█▌        | 150/1000 [18:56<1:49:04,  7.70s/it]\u001b[A\n",
      "Thread 5:  15%|█▌        | 150/1000 [19:25<1:52:29,  7.94s/it]\u001b[A\n",
      "Thread 2:  15%|█▌        | 150/1000 [20:22<1:56:36,  8.23s/it]\u001b[A\n",
      "Thread 1:  15%|█▌        | 150/1000 [20:33<1:58:25,  8.36s/it]\u001b[A\n",
      "Thread 3:  20%|██        | 200/1000 [23:59<1:36:14,  7.22s/it]\u001b[A\n",
      "Thread 4:  20%|██        | 200/1000 [24:41<1:39:25,  7.46s/it]\u001b[A\n",
      "Thread 5:  20%|██        | 200/1000 [25:13<1:41:56,  7.65s/it]\u001b[A\n",
      "Thread 2:  20%|██        | 200/1000 [26:33<1:46:28,  7.99s/it]\u001b[A\n",
      "Thread 1:  20%|██        | 200/1000 [26:45<1:47:45,  8.08s/it]\u001b[A\n",
      "Thread 3:  25%|██▌       | 250/1000 [29:37<1:28:32,  7.08s/it]\u001b[A\n",
      "Thread 4:  25%|██▌       | 250/1000 [30:23<1:30:56,  7.28s/it]\u001b[A\n",
      "Thread 5:  25%|██▌       | 250/1000 [31:07<1:33:27,  7.48s/it]\u001b[A\n",
      "Thread 2:  25%|██▌       | 250/1000 [32:42<1:37:35,  7.81s/it]\u001b[A\n",
      "Thread 1:  25%|██▌       | 250/1000 [33:01<1:38:57,  7.92s/it]\u001b[A\n",
      "Thread 3:  30%|███       | 300/1000 [35:14<1:21:22,  6.98s/it]\u001b[A\n",
      "Thread 4:  30%|███       | 300/1000 [36:16<1:24:06,  7.21s/it]\u001b[A\n",
      "Thread 5:  30%|███       | 300/1000 [37:05<1:26:09,  7.38s/it]\u001b[A\n",
      "Thread 2:  30%|███       | 300/1000 [39:19<1:31:33,  7.85s/it]\u001b[A\n",
      "Thread 1:  30%|███       | 300/1000 [39:39<1:32:27,  7.92s/it]\u001b[A\n",
      "Thread 3:  35%|███▌      | 350/1000 [42:48<1:22:24,  7.61s/it]\u001b[A\n",
      "Thread 4:  35%|███▌      | 350/1000 [44:14<1:25:43,  7.91s/it]\u001b[A\n",
      "Thread 5:  35%|███▌      | 350/1000 [45:11<1:27:30,  8.08s/it]\u001b[A\n",
      "Thread 2:  35%|███▌      | 350/1000 [47:13<1:30:18,  8.34s/it]\u001b[A\n",
      "Thread 1:  35%|███▌      | 350/1000 [47:34<1:31:02,  8.40s/it]\u001b[A\n",
      "Thread 3:  40%|████      | 400/1000 [49:56<1:18:55,  7.89s/it]\u001b[A\n",
      "Thread 4:  40%|████      | 400/1000 [50:49<1:19:06,  7.91s/it]\u001b[A\n",
      "Thread 5:  40%|████      | 400/1000 [51:30<1:19:21,  7.94s/it]\u001b[A\n",
      "Thread 2:  40%|████      | 400/1000 [53:26<1:20:43,  8.07s/it]\u001b[A\n",
      "Thread 1:  40%|████      | 400/1000 [53:45<1:21:03,  8.11s/it]\u001b[A\n",
      "Thread 3:  45%|████▌     | 450/1000 [55:39<1:09:30,  7.58s/it]\u001b[A\n",
      "Thread 4:  45%|████▌     | 450/1000 [56:36<1:09:49,  7.62s/it]\u001b[A\n",
      "Thread 5:  45%|████▌     | 450/1000 [57:16<1:09:56,  7.63s/it]\u001b[A\n",
      "Thread 2:  45%|████▌     | 450/1000 [59:49<1:12:51,  7.95s/it]\u001b[A\n",
      "Thread 1:  45%|████▌     | 450/1000 [59:59<1:12:34,  7.92s/it]\u001b[A\n",
      "Thread 3:  50%|█████     | 500/1000 [1:01:25<1:01:31,  7.38s/it]\u001b[A\n",
      "Thread 4:  50%|█████     | 500/1000 [1:02:22<1:01:46,  7.41s/it]\u001b[A\n",
      "Thread 5:  50%|█████     | 500/1000 [1:03:08<1:02:06,  7.45s/it]\u001b[A\n",
      "Thread 2:  50%|█████     | 500/1000 [1:05:59<1:04:53,  7.79s/it]\u001b[A\n",
      "Thread 1:  50%|█████     | 500/1000 [1:06:04<1:04:26,  7.73s/it]\u001b[A\n",
      "Thread 3:  55%|█████▌    | 550/1000 [1:06:59<53:48,  7.17s/it]  \u001b[A\n",
      "Thread 4:  55%|█████▌    | 550/1000 [1:08:06<54:22,  7.25s/it]  \u001b[A\n",
      "Thread 5:  55%|█████▌    | 550/1000 [1:08:58<54:51,  7.31s/it]  \u001b[A\n",
      "Thread 2:  55%|█████▌    | 550/1000 [1:12:16<57:49,  7.71s/it]  \u001b[A\n",
      "Thread 1:  55%|█████▌    | 550/1000 [1:12:20<57:29,  7.67s/it]  \u001b[A\n",
      "Thread 3:  60%|██████    | 600/1000 [1:12:36<46:59,  7.05s/it]\u001b[A\n",
      "Thread 4:  60%|██████    | 600/1000 [1:13:45<47:24,  7.11s/it]\u001b[A\n",
      "Thread 5:  60%|██████    | 600/1000 [1:14:49<48:10,  7.23s/it]\u001b[A\n",
      "Thread 3:  65%|██████▌   | 650/1000 [1:18:12<40:30,  6.94s/it]\u001b[A\n",
      "Thread 1:  60%|██████    | 600/1000 [1:18:29<50:31,  7.58s/it]\u001b[A\n",
      "Thread 2:  60%|██████    | 600/1000 [1:18:34<51:05,  7.66s/it]\u001b[A\n",
      "Thread 4:  65%|██████▌   | 650/1000 [1:19:27<41:00,  7.03s/it]\u001b[A\n",
      "Thread 5:  65%|██████▌   | 650/1000 [1:20:40<41:48,  7.17s/it]\u001b[A\n",
      "Thread 3:  70%|███████   | 700/1000 [1:23:47<34:22,  6.88s/it]\u001b[A\n",
      "Thread 1:  65%|██████▌   | 650/1000 [1:24:45<44:08,  7.57s/it]\u001b[A\n",
      "Thread 2:  65%|██████▌   | 650/1000 [1:24:50<44:27,  7.62s/it]\u001b[A\n",
      "Thread 4:  70%|███████   | 700/1000 [1:25:04<34:42,  6.94s/it]\u001b[A\n",
      "Thread 5:  70%|███████   | 700/1000 [1:26:25<35:24,  7.08s/it]\u001b[A\n",
      "Thread 3:  75%|███████▌  | 750/1000 [1:29:29<28:36,  6.86s/it]\u001b[A\n",
      "Thread 4:  75%|███████▌  | 750/1000 [1:30:45<28:45,  6.90s/it]\u001b[A\n",
      "Thread 1:  70%|███████   | 700/1000 [1:30:58<37:39,  7.53s/it]\u001b[A\n",
      "Thread 2:  70%|███████   | 700/1000 [1:31:09<38:03,  7.61s/it]\u001b[A\n",
      "Thread 5:  75%|███████▌  | 750/1000 [1:32:14<29:22,  7.05s/it]\u001b[A\n",
      "Thread 3:  80%|████████  | 800/1000 [1:35:02<22:40,  6.80s/it]\u001b[A\n",
      "Thread 4:  80%|████████  | 800/1000 [1:36:24<22:53,  6.87s/it]\u001b[A\n",
      "Thread 1:  75%|███████▌  | 750/1000 [1:37:13<31:20,  7.52s/it]\u001b[A\n",
      "Thread 2:  75%|███████▌  | 750/1000 [1:37:24<31:33,  7.57s/it]\u001b[A\n",
      "Thread 5:  80%|████████  | 800/1000 [1:37:46<23:05,  6.93s/it]\u001b[A\n",
      "Thread 3:  85%|████████▌ | 850/1000 [1:40:34<16:52,  6.75s/it]\u001b[A\n",
      "Thread 4:  85%|████████▌ | 850/1000 [1:41:58<17:01,  6.81s/it]\u001b[A\n",
      "Thread 5:  85%|████████▌ | 850/1000 [1:43:20<17:08,  6.86s/it]\u001b[A\n",
      "Thread 1:  80%|████████  | 800/1000 [1:43:27<25:02,  7.51s/it]\u001b[A\n",
      "Thread 2:  80%|████████  | 800/1000 [1:43:39<25:10,  7.55s/it]\u001b[A\n",
      "Thread 3:  90%|█████████ | 900/1000 [1:46:05<11:11,  6.71s/it]\u001b[A\n",
      "Thread 4:  90%|█████████ | 900/1000 [1:47:33<11:17,  6.78s/it]\u001b[A\n",
      "Thread 5:  90%|█████████ | 900/1000 [1:49:03<11:25,  6.86s/it]\u001b[A\n",
      "Thread 1:  85%|████████▌ | 850/1000 [1:49:42<18:45,  7.51s/it]\u001b[A\n",
      "Thread 2:  85%|████████▌ | 850/1000 [1:49:56<18:52,  7.55s/it]\u001b[A\n",
      "Thread 3:  95%|█████████▌| 950/1000 [1:51:35<05:34,  6.68s/it]\u001b[A\n",
      "Thread 4:  95%|█████████▌| 950/1000 [1:53:10<05:38,  6.77s/it]\u001b[A\n",
      "Thread 5:  95%|█████████▌| 950/1000 [1:54:41<05:41,  6.83s/it]\u001b[A\n",
      "Thread 1:  90%|█████████ | 900/1000 [1:55:50<12:26,  7.46s/it]\u001b[A\n",
      "Thread 2:  90%|█████████ | 900/1000 [1:56:09<12:32,  7.52s/it]\u001b[A\n",
      "Thread 3: 100%|██████████| 1000/1000 [1:57:08<00:00,  7.03s/it]\n",
      "Thread 3  completed.\n",
      "\n",
      "Thread 4: 100%|██████████| 1000/1000 [1:58:31<00:00,  7.11s/it]\n",
      "Thread 4  completed.\n",
      "\n",
      "Thread 5: 100%|██████████| 1000/1000 [1:59:31<00:00,  7.17s/it]\n",
      "Thread 5  completed.\n",
      "\n",
      "Thread 1:  95%|█████████▌| 950/1000 [1:59:59<05:35,  6.71s/it]\u001b[A\n",
      "Thread 2:  95%|█████████▌| 950/1000 [2:00:08<05:35,  6.70s/it]\u001b[A\n",
      "Thread 1: 100%|██████████| 1000/1000 [2:02:17<00:00,  7.34s/it]\n",
      "Thread 1  completed.\n",
      "\n",
      "Thread 2: 100%|██████████| 1000/1000 [2:02:27<00:00,  7.35s/it]Thread 2  completed.\n",
      "\n"
     ]
    }
   ],
   "source": [
    "## Create a thread for each chunk to fetch links\n",
    "\n",
    "links = dict()\n",
    "\n",
    "pool = ThreadPool(len(chunk_indices))\n",
    "\n",
    "for t in range(len(chunk_indices)):\n",
    "    pool.apply_async(requestPlaylists, args=(genres[chunk_indices[t][0]: chunk_indices[t][1]], links, \"Thread {}\".format(t+1)))\n",
    "\n",
    "pool.close()\n",
    "pool.join()\n",
    "\n",
    "## Been trying to make each progress bar stay on its line"
   ]
  },
  {
   "cell_type": "code",
   "execution_count": 7,
   "metadata": {},
   "outputs": [
    {
     "output_type": "stream",
     "name": "stdout",
     "text": [
      "5071\n"
     ]
    }
   ],
   "source": [
    "print(len(links))"
   ]
  },
  {
   "cell_type": "code",
   "execution_count": 10,
   "metadata": {},
   "outputs": [],
   "source": [
    "with open('../data/spotify_links.json', 'w') as outfile:\n",
    "    json.dump(links, outfile, indent=4)"
   ]
  },
  {
   "cell_type": "code",
   "execution_count": null,
   "metadata": {},
   "outputs": [],
   "source": []
  }
 ]
}