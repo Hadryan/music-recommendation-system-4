{
 "metadata": {
  "language_info": {
   "codemirror_mode": {
    "name": "ipython",
    "version": 3
   },
   "file_extension": ".py",
   "mimetype": "text/x-python",
   "name": "python",
   "nbconvert_exporter": "python",
   "pygments_lexer": "ipython3",
   "version": "3.8.5-final"
  },
  "orig_nbformat": 2,
  "kernelspec": {
   "name": "python3",
   "display_name": "Python 3"
  }
 },
 "nbformat": 4,
 "nbformat_minor": 2,
 "cells": [
  {
   "source": [
    "# Web Scraping: EveryNoise.com\n",
    "\n",
    "source: [http://everynoise.com/everynoise1d.cgi?scope=all]\n",
    "\n"
   ],
   "cell_type": "markdown",
   "metadata": {}
  },
  {
   "cell_type": "code",
   "execution_count": 48,
   "metadata": {},
   "outputs": [],
   "source": [
    "from bs4 import BeautifulSoup\n",
    "import requests, sys\n",
    "from collections import defaultdict\n",
    "import pickle as pickle\n",
    "from tqdm import tqdm"
   ]
  },
  {
   "cell_type": "code",
   "execution_count": 5,
   "metadata": {},
   "outputs": [],
   "source": [
    "## Request HTML\n",
    "\n",
    "r = requests.get('http://everynoise.com/everynoise1d.cgi?vector=popularity&scope=all')"
   ]
  },
  {
   "cell_type": "code",
   "execution_count": 33,
   "metadata": {
    "tags": []
   },
   "outputs": [
    {
     "output_type": "stream",
     "name": "stdout",
     "text": [
      "Total genres: 5071\nFirst ten genres:\n ['pop', 'dance pop', 'rap', 'pop dance', 'pop rap', 'rock', 'post-teen pop', 'latin', 'hip hop', 'trap']\n"
     ]
    }
   ],
   "source": [
    "## Parse Genre HTML Elements\n",
    "soup = BeautifulSoup(r.text, \"html.parser\")\n",
    "table = soup.body.table\n",
    "elements = table.find_all('td', 'note')\n",
    "genres = []\n",
    "for i, row in enumerate(elements):\n",
    "    if i % 2:\n",
    "        genres.append(row.contents[0].contents[0])\n",
    "print(\"Total genres:\", len(genres))\n",
    "print(\"First ten genres:\\n\", genres[:10])"
   ]
  },
  {
   "cell_type": "code",
   "execution_count": 49,
   "metadata": {},
   "outputs": [
    {
     "output_type": "stream",
     "name": "stderr",
     "text": [
      "Fetching...: 100%|██████████| 5071/5071 [4:03:01<00:00,  2.88s/it]Total links: 5071\n",
      "\n"
     ]
    },
    {
     "output_type": "error",
     "ename": "TypeError",
     "evalue": "'dict_items' object is not subscriptable",
     "traceback": [
      "\u001b[0;31m---------------------------------------------------------------------------\u001b[0m",
      "\u001b[0;31mTypeError\u001b[0m                                 Traceback (most recent call last)",
      "\u001b[0;32m<timed exec>\u001b[0m in \u001b[0;36m<module>\u001b[0;34m\u001b[0m\n",
      "\u001b[0;31mTypeError\u001b[0m: 'dict_items' object is not subscriptable"
     ]
    }
   ],
   "source": [
    "%%time\n",
    "\n",
    "## Request Playlist HTMLs\n",
    "spotify_links = dict()\n",
    "\n",
    "for i in tqdm(range(len(genres)), desc=\"Fetching...\"):\n",
    "        playlist_r = requests.get('http://everynoise.com/everynoise1d.cgi?root=${genres[i]}&scope=all')\n",
    "        soup = BeautifulSoup(playlist_r.text, \"html.parser\")\n",
    "        playlist_link = soup.find_all(id='spotifylink')\n",
    "        spotify_links[genres[i]] = playlist_link[0]['href']\n",
    "\n",
    "print('Total links:', len(spotify_links))"
   ]
  },
  {
   "cell_type": "code",
   "execution_count": 53,
   "metadata": {
    "tags": []
   },
   "outputs": [],
   "source": [
    "import json\n",
    "\n",
    "with open('../data/spotify_links.json', 'w') as outfile:\n",
    "    json.dump({'links': spotify_links}, outfile, indent=4)"
   ]
  },
  {
   "cell_type": "code",
   "execution_count": null,
   "metadata": {},
   "outputs": [],
   "source": []
  }
 ]
}