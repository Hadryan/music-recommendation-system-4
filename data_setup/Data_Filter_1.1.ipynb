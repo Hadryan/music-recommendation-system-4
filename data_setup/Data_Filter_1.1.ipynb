{
 "cells": [
  {
   "cell_type": "code",
   "execution_count": 1,
   "metadata": {},
   "outputs": [],
   "source": [
    "import json\n",
    "from pathlib import Path\n",
    "from operator import itemgetter"
   ]
  },
  {
   "cell_type": "markdown",
   "metadata": {},
   "source": [
    "## Read all data files\n",
    "\n",
    "https://stackoverflow.com/questions/39909655/listing-of-all-files-in-directory\n",
    "\n",
    "----------------------------------------\n",
    "#### Stats given by dataset\n",
    "\n",
    "number of playlists 1000000 <br>\n",
    "number of tracks 66346428 <br>\n",
    "number of unique tracks 2262292 <br>\n",
    "number of unique albums 734684 <br>\n",
    "number of unique artists 295860 <br>\n",
    "number of unique titles 92944 <br>\n",
    "number of playlists with descriptions 18760 <br>\n",
    "number of unique normalized titles 17381 <br>\n",
    "avg playlist length 66.346428\n"
   ]
  },
  {
   "cell_type": "code",
   "execution_count": 2,
   "metadata": {},
   "outputs": [],
   "source": [
    "data_folder = Path(\"../data/data/\").glob('**/*')\n",
    "files = [x for x in data_folder if x.is_file()]\n",
    "\n",
    "artists_folder = Path(\"../data/artists\").glob('**/*')\n",
    "artists_files = [x for x in artists_folder if x.is_file()]"
   ]
  },
  {
   "cell_type": "markdown",
   "metadata": {},
   "source": [
    "## Get all unique tracks and their frequency\n",
    "\n",
    "\n",
    "### Read and grab all the data from the files\n",
    "The data is seperated into batches"
   ]
  },
  {
   "cell_type": "code",
   "execution_count": 3,
   "metadata": {},
   "outputs": [],
   "source": [
    "#Takes multiple json files and keeps a tally of each track's frequency\n",
    "#@Param batchOfFiles - list containing Path to each file\n",
    "#@Returns listOfTracks - a dictionary in which keys are (track_name, artist_name) and values are the track's frequency\n",
    "#@Returns totalTracks - the total amount of tracks in the listOfTracks\n",
    "def readBatch(batchOfFiles):\n",
    "    \n",
    "    listOfTracks = dict()\n",
    "    totalTracks = 0\n",
    "    \n",
    "    #Get all tracks from the batchOfFiles\n",
    "    for file in batchOfFiles:\n",
    "        with open(file) as f:\n",
    "            data = json.load(f)\n",
    "            for playlist in data['playlists']:\n",
    "                totalTracks += playlist['num_tracks']\n",
    "                simplifyList(listOfTracks, playlist['tracks'])\n",
    "    return listOfTracks, totalTracks"
   ]
  },
  {
   "cell_type": "code",
   "execution_count": 4,
   "metadata": {},
   "outputs": [],
   "source": [
    "#Takes a list of tracks and counts the frequency of each song in the list\n",
    "#@Param listOfTracks - a dictionary of track frequencies {('track_name','artist_name': frequency, (..):. ,...}.\n",
    "#@Param playlist - a list of tracks to read from\n",
    "def simplifyList(listOfTracks, playlist):\n",
    "    #Will store data as (track, artist): frequency\n",
    "    for track in playlist:\n",
    "        key = (track['track_name'], track['artist_name'])\n",
    "        if key not in listOfTracks:\n",
    "            listOfTracks[key] = 1\n",
    "        else:\n",
    "            listOfTracks[key] = listOfTracks[key] + 1"
   ]
  },
  {
   "cell_type": "code",
   "execution_count": 5,
   "metadata": {},
   "outputs": [
    {
     "output_type": "stream",
     "name": "stdout",
     "text": [
      "Finished Reading files: 0 - 99  | Tracks Added: 6685101\n",
      "Finished Reading files: 100 - 199  | Tracks Added: 6622724\n",
      "Finished Reading files: 200 - 299  | Tracks Added: 6616212\n",
      "Finished Reading files: 300 - 399  | Tracks Added: 6597661\n",
      "Finished Reading files: 400 - 499  | Tracks Added: 6597376\n",
      "Finished Reading files: 500 - 599  | Tracks Added: 6594992\n",
      "Finished Reading files: 600 - 699  | Tracks Added: 6667422\n",
      "Finished Reading files: 700 - 799  | Tracks Added: 6672749\n",
      "Finished Reading files: 800 - 899  | Tracks Added: 6645424\n",
      "Finished Reading files: 900 - 999  | Tracks Added: 6646767\n",
      "CPU times: user 2min 57s, sys: 39.3 s, total: 3min 36s\n",
      "Wall time: 7min 23s\n"
     ]
    }
   ],
   "source": [
    "%%time\n",
    "\n",
    "#Code for reading the files in batches\n",
    "#Reads the files in batches\n",
    "#Grabs all tracks from the files and then sorts by track_name and artist_name for easier simplifying\n",
    "#Simplifying is just getting the frequency of each track\n",
    "\n",
    "##Takes 10-25 minutes :(\n",
    "#I didnt play around with batch amounts\n",
    "#Maybe use threads for each batch\n",
    "\n",
    "'''\n",
    "threading sounds like a good idea\n",
    "right now it should take under 10 min, depends on environment of course\n",
    "'''\n",
    "\n",
    "numOfBatches = 10\n",
    "totalFiles = 1000\n",
    "x = round(totalFiles / numOfBatches)\n",
    "\n",
    "#Stores the batches of tracks as a list of list\n",
    "#[[batch_1][batch_2]....[batch_X]]\n",
    "batchesOfTracks = [] \n",
    "totalTracks = 0\n",
    "\n",
    "for batch in range(numOfBatches):\n",
    "    startFile = (batch * x)\n",
    "    endFile = ((batch + 1) * x)\n",
    "    \n",
    "    tracksInBatch, amtOfTracks = readBatch(files[startFile:endFile])\n",
    "    print(\"Finished Reading files:\",startFile,'-',endFile - 1, \" | Tracks Added:\", amtOfTracks)\n",
    "    \n",
    "    totalTracks = totalTracks + amtOfTracks\n",
    "    \n",
    "    batchesOfTracks.append(tracksInBatch)"
   ]
  },
  {
   "cell_type": "code",
   "execution_count": 6,
   "metadata": {},
   "outputs": [
    {
     "output_type": "stream",
     "name": "stdout",
     "text": [
      "66346428\n"
     ]
    }
   ],
   "source": [
    "#Target is 66346428\n",
    "\n",
    "print(totalTracks)"
   ]
  },
  {
   "cell_type": "markdown",
   "metadata": {},
   "source": [
    "### Combine the batches of data into one list"
   ]
  },
  {
   "cell_type": "code",
   "execution_count": 7,
   "metadata": {},
   "outputs": [],
   "source": [
    "#Used to combine two different listOfTracks containing [[track_name,artist_name,frequency],...] \n",
    "#@param batch1, batch2 - The batches that are going to be combined and then simplified\n",
    "#@Return returns combined batch as [[track_name,artist_name,frequency],...]\n",
    "def combineBatchesandSimplify(batch1, batch2):\n",
    "    \n",
    "    for track in batch2:\n",
    "        if track not in batch1:\n",
    "            batch1[track] = batch2[track]\n",
    "        else:\n",
    "            batch1[track] = batch1[track] + batch2[track]"
   ]
  },
  {
   "cell_type": "code",
   "execution_count": 8,
   "metadata": {},
   "outputs": [
    {
     "output_type": "stream",
     "name": "stdout",
     "text": [
      "CPU times: user 4.94 s, sys: 46.9 ms, total: 4.98 s\nWall time: 5.02 s\n"
     ]
    }
   ],
   "source": [
    "%%time\n",
    "\n",
    "#Combine all batches into one list\n",
    "\n",
    "allTracks = dict()\n",
    "\n",
    "for batch in batchesOfTracks:\n",
    "    combineBatchesandSimplify(allTracks,batch)\n"
   ]
  },
  {
   "cell_type": "code",
   "execution_count": 9,
   "metadata": {},
   "outputs": [
    {
     "output_type": "stream",
     "name": "stdout",
     "text": [
      "66346428\n"
     ]
    }
   ],
   "source": [
    "#Checks the amount of tracks\n",
    "\n",
    "count = 0\n",
    "for track in allTracks:\n",
    "    count = count + allTracks[track]\n",
    "    \n",
    "print(count)\n",
    "\n",
    "# Target == 66346428"
   ]
  },
  {
   "cell_type": "code",
   "execution_count": 10,
   "metadata": {},
   "outputs": [
    {
     "output_type": "stream",
     "name": "stdout",
     "text": [
      "2189699\n"
     ]
    }
   ],
   "source": [
    "### NOT SURE WHY ITS LOWER\n",
    "#Target is 2262292\n",
    "\n",
    "print(len(allTracks))"
   ]
  },
  {
   "cell_type": "markdown",
   "metadata": {},
   "source": [
    "# Loop through all tracks to get songs to delete\n",
    "# and then delete Songs from the playlists"
   ]
  },
  {
   "cell_type": "code",
   "execution_count": 11,
   "metadata": {},
   "outputs": [],
   "source": [
    "#Using set because set has O(1) lookup time \n",
    "#Will store elements as tuple (track_name, artist_name)\n",
    "tracksToDel = set(filter(lambda x: allTracks[x] < 3, allTracks))\n",
    "deleteAmt = len(tracksToDel) ### For testing"
   ]
  },
  {
   "cell_type": "code",
   "execution_count": 12,
   "metadata": {},
   "outputs": [
    {
     "output_type": "stream",
     "name": "stdout",
     "text": [
      "Amount of Tracks to delete: 1339273\n"
     ]
    }
   ],
   "source": [
    "print(\"Amount of Tracks to delete:\", deleteAmt)"
   ]
  },
  {
   "source": [
    "## Get list of artists with genres\n",
    "\n",
    "This is a list of unique artists based on the dataset after removing songs that occur fewer than 3 times and playlists with fewer than 10 songs or smaller than 30% of their original size\n",
    "\n",
    "Songs with artists that don't have genre labels from Spotify API will be removed"
   ],
   "cell_type": "markdown",
   "metadata": {}
  },
  {
   "cell_type": "code",
   "execution_count": 14,
   "metadata": {},
   "outputs": [
    {
     "output_type": "stream",
     "name": "stdout",
     "text": [
      "Total artists: 121330\n"
     ]
    }
   ],
   "source": [
    "artistsList = set()\n",
    "totalArtists = 0\n",
    "for file in artists_files:\n",
    "    with open(file) as f:\n",
    "        data = json.load(f)\n",
    "        artistsList.update([artist['artist_name'] for artist in data['artists']])\n",
    "\n",
    "print(\"Total artists:\", len(artistsList))"
   ]
  },
  {
   "cell_type": "code",
   "execution_count": 15,
   "metadata": {},
   "outputs": [],
   "source": [
    "#Deletes songs in the json data\n",
    "#@param data - json file containing metadata for playlists\n",
    "#@param songsToDel - list of songs to del from data. read as [track_name, artist_name]\n",
    "\n",
    "def delSongs(data, songsToDel, artistsList):\n",
    "    tracksDeleted = 0 # for testing\n",
    "    playlistsDel = 0 # for testing\n",
    "    playlistsToDel = set()\n",
    "    \n",
    "    for playlist in data['playlists']:\n",
    "        playlist['tracks'] = list(filter(lambda track: \\\n",
    "            (track['track_name'], track['artist_name']) not in songsToDel, playlist['tracks']))\n",
    "        \n",
    "        #delete songs with artists that are not in artistsList\n",
    "        playlist['tracks'] = list(filter(lambda track: track['artist_name'] in artistsList, playlist['tracks']))\n",
    "        \n",
    "        newNumTracks = len(playlist['tracks'])\n",
    "        origNumTracks = playlist['num_tracks']\n",
    "        tracksDeleted += origNumTracks - newNumTracks\n",
    "        playlist['num_tracks'] = newNumTracks\n",
    "\n",
    "        if newNumTracks < 10 or newNumTracks < round(origNumTracks * .3)\\\n",
    "            or newNumTracks > 5000:\n",
    "            playlistsDel += 1\n",
    "            playlistsToDel.add(playlist['pid'])\n",
    "\n",
    "        data['playlists'] = list(filter(lambda playlist: playlist['pid'] not in playlistsToDel, data['playlists']))\n",
    "    \n",
    "    return playlistsDel, tracksDeleted #For testing | Might return new json data to save\n"
   ]
  },
  {
   "source": [
    "# Delete songs"
   ],
   "cell_type": "markdown",
   "metadata": {}
  },
  {
   "cell_type": "code",
   "execution_count": 16,
   "metadata": {},
   "outputs": [
    {
     "output_type": "stream",
     "name": "stdout",
     "text": [
      "Files up to 0 cleaned\n",
      "Files up to 50 cleaned\n",
      "Files up to 100 cleaned\n",
      "Files up to 150 cleaned\n",
      "Files up to 200 cleaned\n",
      "Files up to 250 cleaned\n",
      "Files up to 300 cleaned\n",
      "Files up to 350 cleaned\n",
      "Files up to 400 cleaned\n",
      "Files up to 450 cleaned\n",
      "Files up to 500 cleaned\n",
      "Files up to 550 cleaned\n",
      "Files up to 600 cleaned\n",
      "Files up to 650 cleaned\n",
      "Files up to 700 cleaned\n",
      "Files up to 750 cleaned\n",
      "Files up to 800 cleaned\n",
      "Files up to 850 cleaned\n",
      "Files up to 900 cleaned\n",
      "Files up to 950 cleaned\n",
      "Assumed Amt of Tracks to delete: 1339273\n",
      "Tracks Deleted: 3651848\n",
      "Playlists Deleted: 48727\n",
      "CPU times: user 14min 52s, sys: 1min 7s, total: 16min\n",
      "Wall time: 23min\n"
     ]
    }
   ],
   "source": [
    "%%time\n",
    "\n",
    "## Took 12 minutes\n",
    "\n",
    "#Check every playlist for unique tracks(tracks under 3 frequency) and \"deletes\" them\n",
    "#If the playlist results in less than 30% of its original size or less than 10 tracks\n",
    "#                   -> delete the playlist too\n",
    "\n",
    "TracksDeleted = 0 #for testing\n",
    "playlistsDel = 0 #for testing\n",
    "\n",
    "## Optimize with concurrency with/or splitting into batches \n",
    "\n",
    "for i, file in enumerate(files):\n",
    "    with open(file) as f:\n",
    "        data = json.load(f)\n",
    "        if i % 50 == 0:\n",
    "            print(\"Files up to\", i, \"cleaned\")\n",
    "        x,y = delSongs(data,tracksToDel,artistsList)\n",
    "\n",
    "        newFileName = '../data/filtered_data/filter.{}-{}.json'.format(i*1000, (i+1)*1000-1)\n",
    "        with open(newFileName, 'w') as outfile:\n",
    "            json.dump(data, outfile, indent=4)\n",
    "        \n",
    "        playlistsDel = playlistsDel + x\n",
    "        TracksDeleted = TracksDeleted + y\n",
    "                \n",
    "\n",
    "                \n",
    "print(\"Assumed Amt of Tracks to delete:\", deleteAmt)\n",
    "print(\"Tracks Deleted:\", TracksDeleted)\n",
    "print(\"Playlists Deleted:\", playlistsDel)\n",
    "\n",
    "\n",
    "        \n",
    "        "
   ]
  },
  {
   "cell_type": "code",
   "execution_count": null,
   "metadata": {},
   "outputs": [],
   "source": []
  }
 ],
 "metadata": {
  "kernelspec": {
   "name": "python3",
   "display_name": "Python 3"
  },
  "language_info": {
   "codemirror_mode": {
    "name": "ipython",
    "version": 3
   },
   "file_extension": ".py",
   "mimetype": "text/x-python",
   "name": "python",
   "nbconvert_exporter": "python",
   "pygments_lexer": "ipython3",
   "version": "3.8.5-final"
  }
 },
 "nbformat": 4,
 "nbformat_minor": 4
}