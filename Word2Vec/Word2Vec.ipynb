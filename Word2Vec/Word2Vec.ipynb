{
 "cells": [
  {
   "cell_type": "code",
   "execution_count": 1,
   "metadata": {},
   "outputs": [],
   "source": [
    "from pathlib import Path\n",
    "from gensim.models import Word2Vec\n",
    "import json"
   ]
  },
  {
   "cell_type": "markdown",
   "metadata": {},
   "source": [
    "## Load Data"
   ]
  },
  {
   "cell_type": "code",
   "execution_count": 2,
   "metadata": {},
   "outputs": [],
   "source": [
    "listOfTracks = dict()\n",
    "numKey = dict()\n",
    "totalTracks = 0\n",
    "allPlaylists = []"
   ]
  },
  {
   "cell_type": "code",
   "execution_count": 3,
   "metadata": {},
   "outputs": [],
   "source": [
    "#MPD Data\n",
    "\n",
    "mpd_folder = Path(\"spotify_million_playlist_dataset/data/filtered_data/\").glob('**/*')\n",
    "mpd_folder_files = [x for x in mpd_folder if x.is_file()]\n",
    "\n",
    "EN_folder = Path(\"genre_playlists/genre_playlists/\").glob('**/*')\n",
    "EN_files = [x for x in EN_folder if x.is_file()]"
   ]
  },
  {
   "cell_type": "code",
   "execution_count": 4,
   "metadata": {},
   "outputs": [
    {
     "name": "stdout",
     "output_type": "stream",
     "text": [
      "Wall time: 206 ms\n"
     ]
    }
   ],
   "source": [
    "%%time\n",
    "#Get MPD data\n",
    "\n",
    "for file in mpd_folder_files:\n",
    "    with open(file) as f:\n",
    "        data = json.load(f)\n",
    "    for playlist in data['playlists']:\n",
    "        totalTracks += playlist['num_tracks']\n",
    "        newPlaylist = []\n",
    "        for track in playlist['tracks']:\n",
    "            key = (track['track_name'], track['artist_name'])\n",
    "            if key not in listOfTracks:\n",
    "                numKey[len(listOfTracks)] = key\n",
    "                listOfTracks[key] = len(listOfTracks)\n",
    "\n",
    "            newPlaylist.append(str(listOfTracks[key]))   \n",
    "\n",
    "        allPlaylists.append(newPlaylist)\n",
    "        "
   ]
  },
  {
   "cell_type": "code",
   "execution_count": 5,
   "metadata": {},
   "outputs": [
    {
     "name": "stdout",
     "output_type": "stream",
     "text": [
      "Wall time: 11.5 s\n"
     ]
    }
   ],
   "source": [
    "%%time\n",
    "#Get EveryNoise Data\n",
    "\n",
    "for file in EN_files:\n",
    "    with open(file) as f:\n",
    "        data = json.load(f)\n",
    "    for playlist in data:\n",
    "        newPlaylist = []\n",
    "        for track in playlist['tracks']:\n",
    "            key = (track[\"name\"], track['artists'][0]['name'])\n",
    "            if key not in listOfTracks:\n",
    "                numKey[len(listOfTracks)] = key\n",
    "                listOfTracks[key] = len(listOfTracks)\n",
    "\n",
    "            newPlaylist.append(str(listOfTracks[key]))\n",
    "\n",
    "        allPlaylists.append(newPlaylist)"
   ]
  },
  {
   "cell_type": "markdown",
   "metadata": {},
   "source": [
    "## Build Word2Vec Model"
   ]
  },
  {
   "cell_type": "code",
   "execution_count": 14,
   "metadata": {},
   "outputs": [
    {
     "name": "stdout",
     "output_type": "stream",
     "text": [
      "Word2Vec(vocab=401261, size=250, alpha=0.025)\n",
      "Wall time: 1min 45s\n"
     ]
    }
   ],
   "source": [
    "%%time\n",
    "\n",
    "embeddingSizes = [500,750,1000] #To test later when we use all files\n",
    "\n",
    "model = Word2Vec(allPlaylists, min_count = 1, window = 10, iter = 20,size = 250)\n",
    "\n",
    "print(model)"
   ]
  },
  {
   "cell_type": "code",
   "execution_count": 7,
   "metadata": {},
   "outputs": [],
   "source": [
    "tracks = list(model.wv.vocab)\n",
    "#print(tracks)"
   ]
  },
  {
   "cell_type": "code",
   "execution_count": null,
   "metadata": {},
   "outputs": [],
   "source": [
    "%%time\n",
    "\n",
    "#Show Graph\n",
    "#This is directly from the site above\n",
    "from gensim.models import Word2Vec\n",
    "from sklearn.decomposition import PCA\n",
    "from matplotlib import pyplot\n",
    "\n",
    "X = model[model.wv.vocab]\n",
    "pca = PCA(n_components=2)\n",
    "result = pca.fit_transform(X)\n",
    "pyplot.scatter(result[:, 0], result[:, 1])\n",
    "\n",
    "words = list(model.wv.vocab)\n",
    "for i, word in enumerate(words):\n",
    "\tpyplot.annotate(word, xy=(result[i, 0], result[i, 1]))\n",
    "pyplot.show()"
   ]
  },
  {
   "cell_type": "code",
   "execution_count": 8,
   "metadata": {},
   "outputs": [],
   "source": [
    "def CreatePlaylist(model, playlist, playlist_len):\n",
    "    return [numKey[int(x)] for x,y in model.wv.most_similar(positive = playlist, topn=playlist_len)]"
   ]
  },
  {
   "cell_type": "code",
   "execution_count": 9,
   "metadata": {},
   "outputs": [],
   "source": [
    "def MatchSongs(model, playlist):\n",
    "    newPlaylist = []\n",
    "    for song in playlist:\n",
    "        for x, y in model.wv.most_similar(song,topn = 15): #x is song, y is how similiar it is(out of 100%)\n",
    "            if numKey[int(x)] not in newPlaylist:\n",
    "                newPlaylist.append(numKey[int(x)])\n",
    "                break;\n",
    "    \n",
    "    return newPlaylist"
   ]
  },
  {
   "cell_type": "code",
   "execution_count": 10,
   "metadata": {},
   "outputs": [],
   "source": [
    "def SameSongs(playlist1, playlist2):\n",
    "    SameSongAmt = 0\n",
    "    SameSongList = []\n",
    "    \n",
    "    for song in playlist1:\n",
    "        if song in playlist2:\n",
    "            SameSongAmt += 1\n",
    "            SameSongList.append(song)\n",
    "                \n",
    "    return(SameSongAmt, SameSongList)"
   ]
  },
  {
   "cell_type": "code",
   "execution_count": 11,
   "metadata": {},
   "outputs": [],
   "source": [
    "def TrainModel(model, playlist, epochs = 5):\n",
    "    model.build_vocab(playlist,update = True)\n",
    "    model.train(playlist, total_examples = model.corpus_count, epochs = 5, compute_loss = True)"
   ]
  },
  {
   "cell_type": "code",
   "execution_count": 15,
   "metadata": {},
   "outputs": [],
   "source": [
    "playlist = allPlaylists[7]\n",
    "\n",
    "crt_playlist = CreatePlaylist(model,playlist, len(playlist))\n",
    "mtch_songs = MatchSongs(model,playlist)"
   ]
  },
  {
   "cell_type": "code",
   "execution_count": 16,
   "metadata": {},
   "outputs": [
    {
     "name": "stdout",
     "output_type": "stream",
     "text": [
      "Amount of Same Songs: 14\n",
      "100 70\n"
     ]
    }
   ],
   "source": [
    "SameSongAmt, SameSongList = SameSongs(crt_playlist,mtch_songs)\n",
    "\n",
    "print(\"Amount of Same Songs:\", SameSongAmt)      \n",
    "print(len(crt_playlist),len(mtch_songs))"
   ]
  },
  {
   "cell_type": "code",
   "execution_count": null,
   "metadata": {},
   "outputs": [],
   "source": []
  }
 ],
 "metadata": {
  "kernelspec": {
   "display_name": "Python 3",
   "language": "python",
   "name": "python3"
  },
  "language_info": {
   "codemirror_mode": {
    "name": "ipython",
    "version": 3
   },
   "file_extension": ".py",
   "mimetype": "text/x-python",
   "name": "python",
   "nbconvert_exporter": "python",
   "pygments_lexer": "ipython3",
   "version": "3.8.3"
  }
 },
 "nbformat": 4,
 "nbformat_minor": 4
}
