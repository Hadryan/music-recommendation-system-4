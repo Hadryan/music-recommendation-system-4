{
 "metadata": {
  "language_info": {
   "codemirror_mode": {
    "name": "ipython",
    "version": 3
   },
   "file_extension": ".py",
   "mimetype": "text/x-python",
   "name": "python",
   "nbconvert_exporter": "python",
   "pygments_lexer": "ipython3",
   "version": "3.8.5-final"
  },
  "orig_nbformat": 2,
  "kernelspec": {
   "name": "python3",
   "display_name": "Python 3",
   "language": "python"
  }
 },
 "nbformat": 4,
 "nbformat_minor": 2,
 "cells": [
  {
   "source": [
    "# KD Tree - KNN"
   ],
   "cell_type": "markdown",
   "metadata": {}
  },
  {
   "cell_type": "code",
   "execution_count": 1,
   "metadata": {},
   "outputs": [],
   "source": [
    "from sklearn.neighbors import KDTree\n",
    "from pathlib import Path\n",
    "import json\n",
    "from csv import reader\n",
    "import numpy as np"
   ]
  },
  {
   "source": [
    "## Load Data"
   ],
   "cell_type": "markdown",
   "metadata": {}
  },
  {
   "cell_type": "code",
   "execution_count": 2,
   "metadata": {},
   "outputs": [],
   "source": [
    "features_folder = Path(\"../data/track_features_updated/\").glob('**/*')\n",
    "features_files = [x for x in features_folder if x.is_file()]\n",
    "\n",
    "# playlists_folder = Path(\"../data/genre_playlists_updated/\").glob('**/*')\n",
    "# playlists_files = [x for x in playlists_folder if x.is_file()]"
   ]
  },
  {
   "cell_type": "code",
   "execution_count": 3,
   "metadata": {},
   "outputs": [],
   "source": [
    "#track features\n",
    "track_features = []\n",
    "\n",
    "for f in features_files:\n",
    "    with open(f, 'r') as infile:\n",
    "        rd = reader(infile)\n",
    "        row1 = next(rd)\n",
    "        for line in rd:\n",
    "            track_features.append(line)"
   ]
  },
  {
   "cell_type": "code",
   "execution_count": 4,
   "metadata": {},
   "outputs": [],
   "source": [
    "#playlists\n",
    "# playlists = []\n",
    "\n",
    "# for f in playlists_files:\n",
    "#     with open(f, 'r') as infile:\n",
    "#         data = json.load(infile)\n",
    "#         playlists += data"
   ]
  },
  {
   "source": [
    "## KD Tree Implementation"
   ],
   "cell_type": "markdown",
   "metadata": {}
  },
  {
   "cell_type": "code",
   "execution_count": 5,
   "metadata": {
    "tags": []
   },
   "outputs": [],
   "source": [
    "features = [track[2:len(track)-1] for track in track_features]\n",
    "\n",
    "features = np.array(features)\n",
    "\n",
    "new_features = []\n",
    "\n",
    "#Convert to float\n",
    "for track in features:\n",
    "    float_array = track.astype(np.float)\n",
    "    new_features.append(float_array)"
   ]
  },
  {
   "source": [
    "### Normalize data"
   ],
   "cell_type": "markdown",
   "metadata": {}
  },
  {
   "cell_type": "code",
   "execution_count": 11,
   "metadata": {},
   "outputs": [],
   "source": [
    "def scale_linear_bycolumn(rawpoints, high=1.0, low=0.0):\n",
    "    mins = np.min(rawpoints, axis=0)\n",
    "    maxs = np.max(rawpoints, axis=0)\n",
    "    rng = maxs - mins\n",
    "    return high - (((high - low) * (maxs - rawpoints)) / rng)\n",
    "\n",
    "scaled_features = scale_linear_bycolumn(new_features)\n"
   ]
  },
  {
   "cell_type": "code",
   "execution_count": 14,
   "metadata": {},
   "outputs": [],
   "source": [
    "tree = KDTree(scaled_features, leaf_size=2)"
   ]
  },
  {
   "cell_type": "code",
   "execution_count": 20,
   "metadata": {},
   "outputs": [
    {
     "output_type": "execute_result",
     "data": {
      "text/plain": [
       "array([[    60, 232980,  99590, 218887, 145269]])"
      ]
     },
     "metadata": {},
     "execution_count": 20
    }
   ],
   "source": [
    "dist, ind = tree.query(np.reshape(scaled_features[60], newshape=(1, len(scaled_features[60]))), k=6)\n",
    "\n",
    "ind"
   ]
  },
  {
   "cell_type": "code",
   "execution_count": 21,
   "metadata": {},
   "outputs": [
    {
     "output_type": "execute_result",
     "data": {
      "text/plain": [
       "array([[0.        , 0.12278455, 0.14950206, 0.16653386, 0.17115906]])"
      ]
     },
     "metadata": {},
     "execution_count": 21
    }
   ],
   "source": [
    "dist"
   ]
  },
  {
   "source": [
    "### Saving KD Tree model"
   ],
   "cell_type": "markdown",
   "metadata": {}
  },
  {
   "cell_type": "code",
   "execution_count": 23,
   "metadata": {},
   "outputs": [],
   "source": [
    "import pickle\n",
    "\n",
    "pickle.dump(tree, open('kdtree.sav', 'wb'))"
   ]
  },
  {
   "cell_type": "code",
   "execution_count": null,
   "metadata": {},
   "outputs": [],
   "source": []
  }
 ]
}