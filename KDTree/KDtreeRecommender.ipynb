{
 "metadata": {
  "language_info": {
   "codemirror_mode": {
    "name": "ipython",
    "version": 3
   },
   "file_extension": ".py",
   "mimetype": "text/x-python",
   "name": "python",
   "nbconvert_exporter": "python",
   "pygments_lexer": "ipython3",
   "version": "3.8.5-final"
  },
  "orig_nbformat": 2,
  "kernelspec": {
   "name": "python3",
   "display_name": "Python 3",
   "language": "python"
  }
 },
 "nbformat": 4,
 "nbformat_minor": 2,
 "cells": [
  {
   "cell_type": "code",
   "execution_count": 1,
   "metadata": {},
   "outputs": [],
   "source": [
    "#import the KD-Tree music recommender\n",
    "from kdtree_recommender import KDTreeRecommender"
   ]
  },
  {
   "cell_type": "code",
   "execution_count": 2,
   "metadata": {},
   "outputs": [],
   "source": [
    "#path to the kdtree model that is trained with EveryNoise playlists\n",
    "path_to_tree = 'kdtree.sav'\n",
    "\n",
    "#path to playlist_indices. Each playlist is mapped to a list of indices\n",
    "path_to_playlist_indices = '../data/playlist_indices.json'\n",
    "\n",
    "#path to track_features folder\n",
    "path_to_features = '../data/track_features_updated/'\n",
    "\n",
    "#initialize the recommender\n",
    "recommender = KDTreeRecommender(path_to_tree, path_to_playlist_indices, path_to_features)\n"
   ]
  },
  {
   "cell_type": "code",
   "execution_count": 3,
   "metadata": {},
   "outputs": [],
   "source": [
    "#gets a list of indices of a new playlist given the name of an existing playlist\n",
    "#generates a new list every time you run it\n",
    "playlists = recommender.getNewPlaylist('The Sound of Carnaval')"
   ]
  },
  {
   "cell_type": "code",
   "execution_count": 4,
   "metadata": {},
   "outputs": [
    {
     "output_type": "execute_result",
     "data": {
      "text/plain": [
       "[['Pai da criança (quem será)', \"Chave D'ouro\"],\n",
       " ['Do You Love Me', 'The Contours'],\n",
       " ['Schultertanz', 'Pam Pam Ida'],\n",
       " ['Danza Per La Panza', 'Bimbobell'],\n",
       " ['Бийле', 'Гульзинат Суранчиева'],\n",
       " ['Nem uma Semana', 'Zé Cantor'],\n",
       " ['Ahí Viene el Bombero', 'Orquesta Aché'],\n",
       " ['Reggae Time', 'Saestu'],\n",
       " ['Macete', 'Raro Swing'],\n",
       " ['Negritude', 'Mama Marjas'],\n",
       " ['14th and \"Oh!\" Face', 'Ideal Perception'],\n",
       " ['Hot Hot Hot', 'Go, Diego, Go!'],\n",
       " ['Efterfest - Radio', 'Sommarpojkarna'],\n",
       " ['Best Years Of Our Lives', 'Baha Men'],\n",
       " ['Tchupa Tchupa', 'Pescuma'],\n",
       " ['Московская песня', 'Sergey Trofimov'],\n",
       " ['Uno momento', 'Severina'],\n",
       " ['Bad-Ass Blues', 'Bloodpit'],\n",
       " ['Eres Polvo Nada Mas', 'Joe Kino'],\n",
       " ['Mi Lindo Pueblo', 'Grupo La Nobleza De Oaxaca'],\n",
       " ['Whine Dat', 'Kongsted'],\n",
       " ['Çırpınırdın Karadeniz', 'Azerin'],\n",
       " ['Mä joka päivä töitä teen', 'Matti ja Teppo'],\n",
       " ['Goun Daz Goraan Tou Gozey', 'Hafeez Ali Baloch'],\n",
       " ['Сою', 'Ландыш Нигъмэтжанова'],\n",
       " [\"L'Apérobic\", 'Les Charlots'],\n",
       " ['Mi Primer Día', 'Los Aslándticos'],\n",
       " ['Son Calenda', 'Marimba Flor De Playas'],\n",
       " [\"Tonight I'm Drinkin' Whiskey\", 'Dustin Huff'],\n",
       " ['Fat Girls on Bicycles', 'The Punk Group'],\n",
       " [\"L'ammore è ammore\", 'Nico e i suoi Desideri'],\n",
       " ['Hey (Morro de Desejo)', 'Ricardo & Henrique'],\n",
       " ['Zuata Zuata', 'Puto Prata'],\n",
       " ['Lawn Knives', 'Born Gold'],\n",
       " [\"Let's Get This Party Started\", 'Frank Liszka'],\n",
       " ['Quien lo iba a suponer', 'Santiago Auserón'],\n",
       " ['Dresser', 'Abdiel'],\n",
       " ['Gomma americana', 'Gigante'],\n",
       " ['Tapeworm', 'Kissing Candice'],\n",
       " ['Kafana na Balkanu', 'Funky G'],\n",
       " [\"Zwei Ohr'n und eine Nase\", 'Maggas 3 D'],\n",
       " ['Te Quiero Besar', 'Simón Figueroa & RK Kammerer'],\n",
       " ['Pok Pok Bujang Lapok', 'One Buck Short'],\n",
       " ['Relógio Parado (Ao Vivo)', 'Diego & Arnaldo'],\n",
       " ['Conde Krápula', 'Pedriñanes 77'],\n",
       " ['Miami Dancefloors - Ex-Po Remix Edit', 'Pogee'],\n",
       " ['Ara Verelim', 'Pelin'],\n",
       " ['Tô Tranquilão', 'MC Leozinho'],\n",
       " ['Dream Like I Do', 'Darren Porter'],\n",
       " ['Heute Nacht - RobKay Remix Edit', 'Housebatze'],\n",
       " ['おもいで', 'Miwa Jirou'],\n",
       " ['Awusho dali', 'Abafana bakaMgqumeni'],\n",
       " ['Blast Yo Head', 'Dirty Audio'],\n",
       " ['Chang Shou Xin Nian Ge', 'Nan Fang Qun Xing - Da Qing Ri'],\n",
       " ['Addicted To A Good Time', 'Nathan Dean'],\n",
       " ['Tahiti', \"Keen' V\"],\n",
       " ['Camino Hacia El Sol', 'Vibración Eleva'],\n",
       " ['Ayema ansa issekigh dassawen - Live', 'Djamarinas'],\n",
       " ['All My Friends Are Different', 'Yo Gabba Gabba!'],\n",
       " ['Бьет бит', 'Bez.not'],\n",
       " ['Allo Allo Gari', 'Yacine Yefsah'],\n",
       " ['Lonesome Traveller', 'Paperboys'],\n",
       " ['Hoje Eu Vou Dar Close', 'Camilla Uckers'],\n",
       " ['Baixó', 'Os Pilukas'],\n",
       " ['Nadie Como Yo', 'Los Kardenales'],\n",
       " ['Besas Tan Bien', 'Nelson Arrieta'],\n",
       " ['A Vida É Tipo Roda Gigante', 'Andrezinho Shock'],\n",
       " ['Das Hochzeitsgeschenk', 'NinaMarie'],\n",
       " ['Desejo de Amar', 'André Lellis'],\n",
       " ['Qualcosa Che Non Mi Va - Edit Mix', 'La C.O.Ska'],\n",
       " ['Sad Love Story - Original Version', 'DAL 달 (S.I.S)'],\n",
       " ['LaLaLa (BTS World Original Soundtrack)', 'OKDAL'],\n",
       " ['Baba Tunaleta Vipaji', 'STAR HIGH SCHOOL CHOIR'],\n",
       " ['Keep On Dancing', 'Alyssa Rubino'],\n",
       " ['Wil Jy in My Arms Lê Vanaand?', 'Elvis se Seun'],\n",
       " ['Every Little Thing', 'Paper Planes'],\n",
       " ['Strange Overtones', 'David Byrne'],\n",
       " ['Me Vuelves Loco', 'Pablo Ocampo'],\n",
       " ['A Vitória de Deus', 'Rosyl'],\n",
       " ['BELIEVE IT', 'PARTYNEXTDOOR'],\n",
       " ['La mia banda suona il rock - La me panda a perd ij toch',\n",
       "  'Farinei Dla Brigna'],\n",
       " ['Sai Iko Ga - Remix', 'Makosoi Ni Delai Devo'],\n",
       " ['Darya', 'Masih'],\n",
       " [\"1978 - Never Mind the Sex Pistols Here's the Gizmos\", 'The Gizmos'],\n",
       " ['Make Out', 'Da Candy'],\n",
       " ['Drugs & Whiskey', 'No U Turn'],\n",
       " ['Gelati Party', 'Battlebird'],\n",
       " ['Ibiza', 'Choo Jackson'],\n",
       " ['Better Do Better', 'VANNER'],\n",
       " [\"Mamma Mia (He's Italiano) - Radio Edit\", 'Elena'],\n",
       " ['Zwei Brüder die durchs Feuer gehen', 'Heiko Wolf'],\n",
       " ['抓钱舞 - DJ版', '龙奔'],\n",
       " ['Polonaise Hollandaise', 'Arie Ribbens'],\n",
       " ['Bác À Bác Ơi', 'Color'],\n",
       " [\"Chaîne d'amour\", 'Pat Berning']]"
      ]
     },
     "metadata": {},
     "execution_count": 4
    }
   ],
   "source": [
    "#gets a list of [track name, artist name] arrays from the new playlist\n",
    "recommender.getNames(playlists)"
   ]
  },
  {
   "cell_type": "code",
   "execution_count": 6,
   "metadata": {},
   "outputs": [
    {
     "output_type": "execute_result",
     "data": {
      "text/plain": [
       "array([[    60, 232980,  99590, 218887, 145269, 261793, 307913,  79398]])"
      ]
     },
     "metadata": {},
     "execution_count": 6
    }
   ],
   "source": [
    "#gets 8 neighbors of 60th track from dataset\n",
    "distances, indices = recommender.query(60, 8)\n",
    "\n",
    "#note that the first item is the input itself\n",
    "indices"
   ]
  },
  {
   "cell_type": "code",
   "execution_count": null,
   "metadata": {},
   "outputs": [],
   "source": []
  }
 ]
}