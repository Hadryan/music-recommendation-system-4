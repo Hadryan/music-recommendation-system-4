{
 "metadata": {
  "language_info": {
   "codemirror_mode": {
    "name": "ipython",
    "version": 3
   },
   "file_extension": ".py",
   "mimetype": "text/x-python",
   "name": "python",
   "nbconvert_exporter": "python",
   "pygments_lexer": "ipython3",
   "version": "3.8.5-final"
  },
  "orig_nbformat": 2,
  "kernelspec": {
   "name": "python3",
   "display_name": "Python 3",
   "language": "python"
  }
 },
 "nbformat": 4,
 "nbformat_minor": 2,
 "cells": [
  {
   "cell_type": "code",
   "execution_count": 1,
   "metadata": {},
   "outputs": [],
   "source": [
    "#import the KD-Tree music recommender\n",
    "from kdtree_recommender import KDTreeRecommender"
   ]
  },
  {
   "cell_type": "code",
   "execution_count": 2,
   "metadata": {},
   "outputs": [],
   "source": [
    "#path to the kdtree model that is trained with EveryNoise playlists\n",
    "path_to_tree = 'kdtree.sav'\n",
    "\n",
    "#path to playlist_indices. Each playlist is mapped to a list of indices\n",
    "path_to_playlist_indices = '../data/playlist_indices.json'\n",
    "\n",
    "#path to track_features folder\n",
    "path_to_features = '../data/track_features_updated/'\n",
    "\n",
    "#initialize the recommender\n",
    "recommender = KDTreeRecommender(path_to_tree, path_to_playlist_indices, path_to_features)\n"
   ]
  },
  {
   "cell_type": "code",
   "execution_count": 3,
   "metadata": {},
   "outputs": [],
   "source": [
    "#gets a list of indices of a new playlist given the name of an existing playlist\n",
    "#generates a new list every time you run it\n",
    "playlists = recommender.getNewPlaylist('The Sound of Carnaval')"
   ]
  },
  {
   "cell_type": "code",
   "execution_count": 4,
   "metadata": {},
   "outputs": [
    {
     "output_type": "execute_result",
     "data": {
      "text/plain": [
       "[['Fica Suavão', 'DJ VL Stärke'],\n",
       " ['Oesters & Champagne', 'Teske'],\n",
       " ['Just Friends', 'Yasuha.'],\n",
       " [\"Solang die Hütt'n kracht\", 'Brugger Buam'],\n",
       " ['On the Regular', 'Shamir'],\n",
       " ['Вечаровыя цені', 'WZ-Orkiestra'],\n",
       " ['El Indulto', 'Los Vandalos'],\n",
       " ['Heavenly Maybe', 'Gengahr'],\n",
       " ['The Greatest Prehistoric Band', 'Paul Behnke'],\n",
       " ['Привет салам', '4ernila'],\n",
       " ['1, 2, Que Guapa Que Soy', 'Saray'],\n",
       " ['Hot Hot Hot', 'Go, Diego, Go!'],\n",
       " ['Drifting (Into The Light)', 'Buff Hudd & Flexagon'],\n",
       " ['Cela Ulica Nori', 'Kingston'],\n",
       " ['Ai Meu Piru - Dj Lucian e Dj R15 Remix', 'Mc Zuza'],\n",
       " ['Break Up to Make Up', 'Sam&Nate'],\n",
       " ['Kugatumba', 'Peace & Love'],\n",
       " ['Freibier Für Alle (Radio Version)', 'Die Freiberger'],\n",
       " ['Gongo Aso', '9ice'],\n",
       " ['Mi Lindo Pueblo', 'Grupo La Nobleza De Oaxaca'],\n",
       " ['Wir sind wir (Mallorcastyle)', 'Frenzy'],\n",
       " [\"L'Uomo\", 'Osanna'],\n",
       " ['Mi Yo Cabrón', 'TéCanela'],\n",
       " ['フレンズ', 'REBECCA'],\n",
       " ['Ozgurluge Manus', 'Bandista'],\n",
       " [\"L'Apérobic\", 'Les Charlots'],\n",
       " ['Wir wollen feiern - Radio Version', 'Mark Pavlo'],\n",
       " ['Altar Fumegando', 'Paulo Andre'],\n",
       " ['Another Asswipe', 'Rollerstarter'],\n",
       " ['Tomates Cliqueados', 'Manijas'],\n",
       " ['Agrofarra', 'Antony & Gabriel'],\n",
       " ['Hey (Morro de Desejo)', 'Ricardo & Henrique'],\n",
       " ['Fear Get Out of Here', 'Orange Kids Music'],\n",
       " ['La Misma Rutina', 'Los Wilson MX'],\n",
       " [\"Let's Get This Party Started\", 'Frank Liszka'],\n",
       " ['Garage Girls - Sunship Radio Edit', 'Lonyo'],\n",
       " ['Dresser', 'Abdiel'],\n",
       " ['Gomma americana', 'Gigante'],\n",
       " ['The Curse of the Black Water', 'Be Under Arms'],\n",
       " ['Kafana na Balkanu', 'Funky G'],\n",
       " ['Nove Godine', 'U skripcu'],\n",
       " ['El Fulano', 'Los K Morales'],\n",
       " ['Belicoso', 'Calva Louise'],\n",
       " ['Relógio Parado (Ao Vivo)', 'Diego & Arnaldo'],\n",
       " ['Paraíso Proibido', 'Strike'],\n",
       " ['Mooi Is Het Leven', 'Jo Vally'],\n",
       " ['Nevereš', 'Nevereš'],\n",
       " ['Emshab Dore Hamin', 'Sijal'],\n",
       " ['Summer Rave', 'ZIGGY X'],\n",
       " ['Worlds Apart', 'Rose Colored Eyes'],\n",
       " ['Mrs. Claus', 'Bob Ricci'],\n",
       " ['Awusho dali', 'Abafana bakaMgqumeni'],\n",
       " ['Playinsega', 'Zenojim'],\n",
       " ['Marinela', 'West Side Family'],\n",
       " ['ゆりゆららららゆるゆり大事件', 'Nanamori-Chu☆Goraku-Bu'],\n",
       " ['Locos Dementes', 'Gusi'],\n",
       " ['Plan B', 'Gran Benko'],\n",
       " ['Koye Dersim', 'Renas Miran'],\n",
       " ['Doch der Boden zerbricht', 'Sandy Christen'],\n",
       " ['Fuckfriend (Fuck the Rules 2020)', 'Spasme'],\n",
       " ['今年一定胜往年', 'Winnie K'],\n",
       " ['Gia Mena Eisai Teleia', 'Mathaios Giannoulis'],\n",
       " ['Em Sepp sey Chats', 'Stefan Roos'],\n",
       " ['One Corner', 'Patapaa'],\n",
       " ['Bardade Dentro De Bardade', 'Ze Manel'],\n",
       " [\"Die Berg hab'n an Gipfl\", 'Trio Alpin'],\n",
       " ['Mega Rave Nanana', 'DJ Shalom'],\n",
       " ['Темнота / Стиль', 'Жека Расту'],\n",
       " ['Desejo de Amar', 'André Lellis'],\n",
       " ['Qualcosa Che Non Mi Va - Edit Mix', 'La C.O.Ska'],\n",
       " ['O.K. Fine', 'Clover the Girl'],\n",
       " ['Make It Move - Radio Edit', 'Penny Police'],\n",
       " ['Baba Tunaleta Vipaji', 'STAR HIGH SCHOOL CHOIR'],\n",
       " ['Private Wars', 'Grand Theft Bus'],\n",
       " [\"Gros tas d'marde\", 'GrimSkunk'],\n",
       " ['Du swipa höger', 'Emil Berg'],\n",
       " ['Carmen', 'Trebol'],\n",
       " ['Wonderland', 'iri'],\n",
       " ['What You Get Is What You See', 'Julie Reeves'],\n",
       " ['Niggas In Paris', 'Niggas In Paris'],\n",
       " ['Aspera', 'Daxter'],\n",
       " ['Sai Iko Ga - Remix', 'Makosoi Ni Delai Devo'],\n",
       " ['Empat Dara 2020', 'Faizal Tahir'],\n",
       " ['Heaven For A Ted', 'Midnight Teds'],\n",
       " [\"Don't Be So Shy\", 'Infinity'],\n",
       " ['City', 'Rhodes Rodosu'],\n",
       " ['Nami Loke Bo Tin', 'Basic One'],\n",
       " ['Ibiza', 'Choo Jackson'],\n",
       " ['Baklay', 'Jerika Teodorico'],\n",
       " ['Lisa Meidi', 'B-Try'],\n",
       " ['Zwei Brüder die durchs Feuer gehen', 'Heiko Wolf'],\n",
       " ['Knerten det er meg (Knerten og Lillebror)', 'Knerten'],\n",
       " ['Besas Tan Bien', 'Nelson Arrieta'],\n",
       " ['Metro Antistrofa - 5, 4, 3, 2, 1', 'Konstantinos Koufos'],\n",
       " ['Smoking in the Bath is for Rich People', 'Manuel Martínez']]"
      ]
     },
     "metadata": {},
     "execution_count": 4
    }
   ],
   "source": [
    "#gets a list of [track name, artist name] arrays from the new playlist\n",
    "recommender.getNames(playlists)"
   ]
  },
  {
   "cell_type": "code",
   "execution_count": 5,
   "metadata": {},
   "outputs": [
    {
     "output_type": "execute_result",
     "data": {
      "text/plain": [
       "array([[    60, 232980,  99590, 218887, 145269, 261793, 307913,  79398]])"
      ]
     },
     "metadata": {},
     "execution_count": 5
    }
   ],
   "source": [
    "#gets 8 neighbors of 60th track from dataset\n",
    "distances, indices = recommender.query(60, 8)\n",
    "\n",
    "#note that the first item is\n",
    "indices"
   ]
  },
  {
   "cell_type": "code",
   "execution_count": null,
   "metadata": {},
   "outputs": [],
   "source": []
  }
 ]
}