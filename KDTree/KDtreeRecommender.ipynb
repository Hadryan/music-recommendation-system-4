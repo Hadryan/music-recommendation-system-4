{
 "metadata": {
  "language_info": {
   "codemirror_mode": {
    "name": "ipython",
    "version": 3
   },
   "file_extension": ".py",
   "mimetype": "text/x-python",
   "name": "python",
   "nbconvert_exporter": "python",
   "pygments_lexer": "ipython3",
   "version": "3.8.5-final"
  },
  "orig_nbformat": 2,
  "kernelspec": {
   "name": "python3",
   "display_name": "Python 3",
   "language": "python"
  }
 },
 "nbformat": 4,
 "nbformat_minor": 2,
 "cells": [
  {
   "cell_type": "code",
   "execution_count": 12,
   "metadata": {},
   "outputs": [],
   "source": [
    "#import the KD-Tree music recommender\n",
    "from kdtree_recommender import KDTreeRecommender"
   ]
  },
  {
   "cell_type": "code",
   "execution_count": 13,
   "metadata": {},
   "outputs": [],
   "source": [
    "#path to the kdtree model that is trained with EveryNoise playlists\n",
    "path_to_tree = 'kdtree.sav'\n",
    "\n",
    "#path to playlist_indices. Each playlist is mapped to a list of indices\n",
    "path_to_playlist_indices = '../data/playlist_indices.json'\n",
    "\n",
    "#path to track_features folder\n",
    "path_to_features = '../data/track_features_updated/'\n",
    "\n",
    "#initialize the recommender\n",
    "recommender = KDTreeRecommender(path_to_tree, path_to_playlist_indices, path_to_features)\n"
   ]
  },
  {
   "cell_type": "code",
   "execution_count": 19,
   "metadata": {},
   "outputs": [],
   "source": [
    "#gets a list of indices of a new playlist given the name of an existing playlist\n",
    "#generates a new list every time you run it\n",
    "playlists = recommender.getNewPlaylist('The Sound of Carnaval')"
   ]
  },
  {
   "cell_type": "code",
   "execution_count": 20,
   "metadata": {},
   "outputs": [
    {
     "output_type": "execute_result",
     "data": {
      "text/plain": [
       "[['Sensima', 'Skiibii'],\n",
       " ['Social', 'Lil Nunu'],\n",
       " ['Just Friends', 'Yasuha.'],\n",
       " ['Forró Quente', 'Negrão dos 8 Baixos'],\n",
       " ['Espiando a mi vecina', 'UN PINGUINO EN MI ASCENSOR'],\n",
       " ['Alyoum Anta', 'Qusai Hatem'],\n",
       " ['You To Me Are Everything', 'The Real Thing'],\n",
       " ['Три желания', 'Галина Ударцева'],\n",
       " ['Dang Tarlupahon', 'Adios Trio'],\n",
       " ['Привет салам', '4ernila'],\n",
       " ['Есть ещё порох!', 'Valeriy Kuras'],\n",
       " [\"Feelin' Wilder\", 'Lucky Dados'],\n",
       " ['Efterfest - Radio', 'Sommarpojkarna'],\n",
       " ['姐是东北的 - DJheap九天版', '郭玲'],\n",
       " ['El Revolucionario', 'Elmer Cruz y su Norteño Banda'],\n",
       " ['Trap Queen', 'Fetty Wap'],\n",
       " ['Porseleinen Pony', 'Johnny Purple'],\n",
       " ['We Wanna See Jesus Lifted High', 'Louis Brittz En Die CSV'],\n",
       " ['Multiplica', 'Musical San Francisco'],\n",
       " ['A Tal Viúva', 'Joana'],\n",
       " ['Whine Dat', 'Kongsted'],\n",
       " ['Y en la Puerta de Tu Casa', 'Los Chinganeros'],\n",
       " ['Portrait of American Horror', 'Psycho Jesus'],\n",
       " ['Soon Come Violence', 'Orchestre Rouge'],\n",
       " ['Ozgurluge Manus', 'Bandista'],\n",
       " ['Pot Jie Kos', 'Brasse Vannie Kaap'],\n",
       " ['Wir wollen feiern - Radio Version', 'Mark Pavlo'],\n",
       " ['Ай, будет круто!', 'Детский хор \"Великан\"'],\n",
       " ['Inna Di Club', 'DJ Septik'],\n",
       " ['Любовь и сон', 'Avet Markaryan'],\n",
       " ['Agrofarra', 'Antony & Gabriel'],\n",
       " ['Secchio', 'Pop X'],\n",
       " ['Utan kläder - PTO Radio Remix', 'Kriton'],\n",
       " ['Vaudeville Villain', 'Viktor Vaughn'],\n",
       " ['Jabaloe', 'Jabaloe'],\n",
       " ['Amor ou Amigo', 'Banda G10'],\n",
       " ['Hey Hey', 'Dennis Ferrer'],\n",
       " ['Typical Hey Day', 'Liz Williams'],\n",
       " ['The Curse of the Black Water', 'Be Under Arms'],\n",
       " ['Kafana na Balkanu', 'Funky G'],\n",
       " ['Hajde da se volimo', 'Kerber'],\n",
       " ['Loyita (feat. Thattoo Love)', 'Balalatet'],\n",
       " ['Fix Of You', 'The Treble'],\n",
       " ['Esto Es una Fiesta', 'Generación 12 Kids'],\n",
       " ['Joyeux Anniversaire', 'Patrick Sébastien'],\n",
       " ['Mooi Is Het Leven', 'Jo Vally'],\n",
       " ['Nevereš', 'Nevereš'],\n",
       " ['Emshab Dore Hamin', 'Sijal'],\n",
       " ['Dream Like I Do', 'Darren Porter'],\n",
       " [\"Max Don't Have Sex with Your Ex\", 'E-Rotic'],\n",
       " ['Palma De Mallorca', 'Chris Wolff'],\n",
       " ['Cabeça de Boi', 'Pescuma'],\n",
       " ['Merci (feat. Black M)', 'Maahlox Le Vibeur'],\n",
       " ['Cambio Dolor', 'Natalia Oreiro'],\n",
       " ['Addicted To A Good Time', 'Nathan Dean'],\n",
       " ['รักคนมีเจ้าของ', 'Ai Nam'],\n",
       " ['404', 'One South Lark'],\n",
       " ['Movidito, Movidito', 'Sebastian'],\n",
       " ['Preciosa', 'Danilo Parra'],\n",
       " ['Kommunista szombat', 'Stifler Mamája'],\n",
       " ['Bar La Rumba', 'Ai Ai Ai'],\n",
       " ['Vem fan är du?', 'Elov vs. Mack'],\n",
       " ['Dobra mrha', 'Don Mentony band'],\n",
       " ['One Corner', 'Patapaa'],\n",
       " ['Coquetel de Anfetamina', 'Thiago Taba e os Dementes'],\n",
       " [\"Die Berg hab'n an Gipfl\", 'Trio Alpin'],\n",
       " ['Ide, Ide Vlak', 'Tarajko a Popletajka'],\n",
       " ['Came Badugeynun', 'La Gran Tribu Garifuna'],\n",
       " ['Uisminoufay', 'Flavinho E A Carreta'],\n",
       " ['Zle te chuvam', 'Rayna'],\n",
       " ['Ты только верь', 'Александр Морозов'],\n",
       " ['Seasons of Love - From the Motion Picture RENT', 'Cast Of Rent'],\n",
       " ['Closet Bears', 'Ralph Carney'],\n",
       " ['Ngalula', 'Pompom Kuleta'],\n",
       " ['Le cochon dans le maïs', 'Fascagat'],\n",
       " ['Every Little Thing', 'Paper Planes'],\n",
       " ['丰收年 (Ft Mieeya Tan)', 'OMG'],\n",
       " ['Wonderland', 'iri'],\n",
       " ['Σχιζοφρένεια', 'Pirates City'],\n",
       " ['BELIEVE IT', 'PARTYNEXTDOOR'],\n",
       " ['Larry Caboa', 'DJ Blass'],\n",
       " ['Hey (Morro de Desejo)', 'Ricardo & Henrique'],\n",
       " ['Titles', 'Notebook P'],\n",
       " ['El imperio contraataca', 'LOS NIKIS'],\n",
       " ['So High (feat. Aja Black)', 'The 3hree Project'],\n",
       " ['Drugs & Whiskey', 'No U Turn'],\n",
       " ['Nami Loke Bo Tin', 'Basic One'],\n",
       " ['Barikala', 'Omid Hajili'],\n",
       " ['Better Do Better', 'VANNER'],\n",
       " [\"Mamma Mia (He's Italiano) - Radio Edit\", 'Elena'],\n",
       " ['Zwei Brüder die durchs Feuer gehen', 'Heiko Wolf'],\n",
       " ['Another Fake', 'SONUVABITCH'],\n",
       " ['Dans nos vieilles maisons', 'La Bottine Souriante'],\n",
       " [\"Status Quo (Little Beats' Theme)\", 'Donald Banks'],\n",
       " ['I Got It Bad', 'High Red']]"
      ]
     },
     "metadata": {},
     "execution_count": 20
    }
   ],
   "source": [
    "#gets a list of [track name, artist name] arrays from the new playlist\n",
    "recommender.getNames(playlists)"
   ]
  },
  {
   "cell_type": "code",
   "execution_count": 16,
   "metadata": {},
   "outputs": [
    {
     "output_type": "execute_result",
     "data": {
      "text/plain": [
       "(array([[0.        , 0.12278455, 0.14950206, 0.16653386, 0.17115906,\n",
       "         0.18095314, 0.1812762 , 0.18332201]]),\n",
       " array([[    60, 232980,  99590, 218887, 145269, 261793, 307913,  79398]]))"
      ]
     },
     "metadata": {},
     "execution_count": 16
    }
   ],
   "source": [
    "#gets 8 neighbors of 60th track from dataset\n",
    "recommender.query(60, 8)"
   ]
  },
  {
   "cell_type": "code",
   "execution_count": null,
   "metadata": {},
   "outputs": [],
   "source": []
  }
 ]
}